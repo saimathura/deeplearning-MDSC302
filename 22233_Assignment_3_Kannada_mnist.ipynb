{
  "nbformat": 4,
  "nbformat_minor": 0,
  "metadata": {
    "colab": {
      "provenance": [],
      "gpuType": "T4",
      "authorship_tag": "ABX9TyO6YNtnFzTgmxUujRgcJM/g",
      "include_colab_link": true
    },
    "kernelspec": {
      "name": "python3",
      "display_name": "Python 3"
    },
    "language_info": {
      "name": "python"
    },
    "accelerator": "GPU"
  },
  "cells": [
    {
      "cell_type": "markdown",
      "metadata": {
        "id": "view-in-github",
        "colab_type": "text"
      },
      "source": [
        "<a href=\"https://colab.research.google.com/github/saimathura/deeplearning-MDSC302/blob/main/22233_Assignment_3_Kannada_mnist.ipynb\" target=\"_parent\"><img src=\"https://colab.research.google.com/assets/colab-badge.svg\" alt=\"Open In Colab\"/></a>"
      ]
    },
    {
      "cell_type": "markdown",
      "source": [
        "# Downlaoding the kaggle api"
      ],
      "metadata": {
        "id": "cgFZnqEZgyhk"
      }
    },
    {
      "cell_type": "code",
      "execution_count": null,
      "metadata": {
        "id": "muZkq58zgut6"
      },
      "outputs": [],
      "source": [
        "! pip install -q kaggle"
      ]
    },
    {
      "cell_type": "code",
      "source": [
        "from google.colab import files\n",
        "files.upload()"
      ],
      "metadata": {
        "colab": {
          "base_uri": "https://localhost:8080/",
          "height": 91
        },
        "id": "xtNL3qiNg-1A",
        "outputId": "a146c823-0c1d-494d-89d6-4e627b00d976"
      },
      "execution_count": null,
      "outputs": [
        {
          "output_type": "display_data",
          "data": {
            "text/plain": [
              "<IPython.core.display.HTML object>"
            ],
            "text/html": [
              "\n",
              "     <input type=\"file\" id=\"files-16211f3c-bf40-424c-a29b-8ff91639dbda\" name=\"files[]\" multiple disabled\n",
              "        style=\"border:none\" />\n",
              "     <output id=\"result-16211f3c-bf40-424c-a29b-8ff91639dbda\">\n",
              "      Upload widget is only available when the cell has been executed in the\n",
              "      current browser session. Please rerun this cell to enable.\n",
              "      </output>\n",
              "      <script>// Copyright 2017 Google LLC\n",
              "//\n",
              "// Licensed under the Apache License, Version 2.0 (the \"License\");\n",
              "// you may not use this file except in compliance with the License.\n",
              "// You may obtain a copy of the License at\n",
              "//\n",
              "//      http://www.apache.org/licenses/LICENSE-2.0\n",
              "//\n",
              "// Unless required by applicable law or agreed to in writing, software\n",
              "// distributed under the License is distributed on an \"AS IS\" BASIS,\n",
              "// WITHOUT WARRANTIES OR CONDITIONS OF ANY KIND, either express or implied.\n",
              "// See the License for the specific language governing permissions and\n",
              "// limitations under the License.\n",
              "\n",
              "/**\n",
              " * @fileoverview Helpers for google.colab Python module.\n",
              " */\n",
              "(function(scope) {\n",
              "function span(text, styleAttributes = {}) {\n",
              "  const element = document.createElement('span');\n",
              "  element.textContent = text;\n",
              "  for (const key of Object.keys(styleAttributes)) {\n",
              "    element.style[key] = styleAttributes[key];\n",
              "  }\n",
              "  return element;\n",
              "}\n",
              "\n",
              "// Max number of bytes which will be uploaded at a time.\n",
              "const MAX_PAYLOAD_SIZE = 100 * 1024;\n",
              "\n",
              "function _uploadFiles(inputId, outputId) {\n",
              "  const steps = uploadFilesStep(inputId, outputId);\n",
              "  const outputElement = document.getElementById(outputId);\n",
              "  // Cache steps on the outputElement to make it available for the next call\n",
              "  // to uploadFilesContinue from Python.\n",
              "  outputElement.steps = steps;\n",
              "\n",
              "  return _uploadFilesContinue(outputId);\n",
              "}\n",
              "\n",
              "// This is roughly an async generator (not supported in the browser yet),\n",
              "// where there are multiple asynchronous steps and the Python side is going\n",
              "// to poll for completion of each step.\n",
              "// This uses a Promise to block the python side on completion of each step,\n",
              "// then passes the result of the previous step as the input to the next step.\n",
              "function _uploadFilesContinue(outputId) {\n",
              "  const outputElement = document.getElementById(outputId);\n",
              "  const steps = outputElement.steps;\n",
              "\n",
              "  const next = steps.next(outputElement.lastPromiseValue);\n",
              "  return Promise.resolve(next.value.promise).then((value) => {\n",
              "    // Cache the last promise value to make it available to the next\n",
              "    // step of the generator.\n",
              "    outputElement.lastPromiseValue = value;\n",
              "    return next.value.response;\n",
              "  });\n",
              "}\n",
              "\n",
              "/**\n",
              " * Generator function which is called between each async step of the upload\n",
              " * process.\n",
              " * @param {string} inputId Element ID of the input file picker element.\n",
              " * @param {string} outputId Element ID of the output display.\n",
              " * @return {!Iterable<!Object>} Iterable of next steps.\n",
              " */\n",
              "function* uploadFilesStep(inputId, outputId) {\n",
              "  const inputElement = document.getElementById(inputId);\n",
              "  inputElement.disabled = false;\n",
              "\n",
              "  const outputElement = document.getElementById(outputId);\n",
              "  outputElement.innerHTML = '';\n",
              "\n",
              "  const pickedPromise = new Promise((resolve) => {\n",
              "    inputElement.addEventListener('change', (e) => {\n",
              "      resolve(e.target.files);\n",
              "    });\n",
              "  });\n",
              "\n",
              "  const cancel = document.createElement('button');\n",
              "  inputElement.parentElement.appendChild(cancel);\n",
              "  cancel.textContent = 'Cancel upload';\n",
              "  const cancelPromise = new Promise((resolve) => {\n",
              "    cancel.onclick = () => {\n",
              "      resolve(null);\n",
              "    };\n",
              "  });\n",
              "\n",
              "  // Wait for the user to pick the files.\n",
              "  const files = yield {\n",
              "    promise: Promise.race([pickedPromise, cancelPromise]),\n",
              "    response: {\n",
              "      action: 'starting',\n",
              "    }\n",
              "  };\n",
              "\n",
              "  cancel.remove();\n",
              "\n",
              "  // Disable the input element since further picks are not allowed.\n",
              "  inputElement.disabled = true;\n",
              "\n",
              "  if (!files) {\n",
              "    return {\n",
              "      response: {\n",
              "        action: 'complete',\n",
              "      }\n",
              "    };\n",
              "  }\n",
              "\n",
              "  for (const file of files) {\n",
              "    const li = document.createElement('li');\n",
              "    li.append(span(file.name, {fontWeight: 'bold'}));\n",
              "    li.append(span(\n",
              "        `(${file.type || 'n/a'}) - ${file.size} bytes, ` +\n",
              "        `last modified: ${\n",
              "            file.lastModifiedDate ? file.lastModifiedDate.toLocaleDateString() :\n",
              "                                    'n/a'} - `));\n",
              "    const percent = span('0% done');\n",
              "    li.appendChild(percent);\n",
              "\n",
              "    outputElement.appendChild(li);\n",
              "\n",
              "    const fileDataPromise = new Promise((resolve) => {\n",
              "      const reader = new FileReader();\n",
              "      reader.onload = (e) => {\n",
              "        resolve(e.target.result);\n",
              "      };\n",
              "      reader.readAsArrayBuffer(file);\n",
              "    });\n",
              "    // Wait for the data to be ready.\n",
              "    let fileData = yield {\n",
              "      promise: fileDataPromise,\n",
              "      response: {\n",
              "        action: 'continue',\n",
              "      }\n",
              "    };\n",
              "\n",
              "    // Use a chunked sending to avoid message size limits. See b/62115660.\n",
              "    let position = 0;\n",
              "    do {\n",
              "      const length = Math.min(fileData.byteLength - position, MAX_PAYLOAD_SIZE);\n",
              "      const chunk = new Uint8Array(fileData, position, length);\n",
              "      position += length;\n",
              "\n",
              "      const base64 = btoa(String.fromCharCode.apply(null, chunk));\n",
              "      yield {\n",
              "        response: {\n",
              "          action: 'append',\n",
              "          file: file.name,\n",
              "          data: base64,\n",
              "        },\n",
              "      };\n",
              "\n",
              "      let percentDone = fileData.byteLength === 0 ?\n",
              "          100 :\n",
              "          Math.round((position / fileData.byteLength) * 100);\n",
              "      percent.textContent = `${percentDone}% done`;\n",
              "\n",
              "    } while (position < fileData.byteLength);\n",
              "  }\n",
              "\n",
              "  // All done.\n",
              "  yield {\n",
              "    response: {\n",
              "      action: 'complete',\n",
              "    }\n",
              "  };\n",
              "}\n",
              "\n",
              "scope.google = scope.google || {};\n",
              "scope.google.colab = scope.google.colab || {};\n",
              "scope.google.colab._files = {\n",
              "  _uploadFiles,\n",
              "  _uploadFilesContinue,\n",
              "};\n",
              "})(self);\n",
              "</script> "
            ]
          },
          "metadata": {}
        },
        {
          "output_type": "stream",
          "name": "stdout",
          "text": [
            "Saving kaggle.json to kaggle.json\n"
          ]
        },
        {
          "output_type": "execute_result",
          "data": {
            "text/plain": [
              "{'kaggle.json': b'{\"username\":\"saimathurakrishnan\",\"key\":\"93f1782054d1d824aebb7eace9b87a9b\"}'}"
            ]
          },
          "metadata": {},
          "execution_count": 2
        }
      ]
    },
    {
      "cell_type": "code",
      "source": [
        "! mkdir ~/.kaggle\n"
      ],
      "metadata": {
        "id": "Y_OOWtduhKFU"
      },
      "execution_count": null,
      "outputs": []
    },
    {
      "cell_type": "code",
      "source": [
        "\n",
        "\n",
        "! cp kaggle.json ~/.kaggle/"
      ],
      "metadata": {
        "id": "f3JokRK7ik4O"
      },
      "execution_count": null,
      "outputs": []
    },
    {
      "cell_type": "code",
      "source": [
        "! chmod 600 ~/.kaggle/kaggle.json\n",
        "! kaggle datasets list"
      ],
      "metadata": {
        "id": "bzv2qV7Tht0E",
        "colab": {
          "base_uri": "https://localhost:8080/"
        },
        "outputId": "5db1e931-b919-4f22-c4e6-1c380c16bf1b"
      },
      "execution_count": null,
      "outputs": [
        {
          "output_type": "stream",
          "name": "stdout",
          "text": [
            "ref                                                                   title                                               size  lastUpdated          downloadCount  voteCount  usabilityRating  \n",
            "--------------------------------------------------------------------  -------------------------------------------------  -----  -------------------  -------------  ---------  ---------------  \n",
            "nelgiriyewithana/countries-of-the-world-2023                          Global Country Information Dataset 2023             23KB  2023-07-08 20:37:33          12138        495  1.0              \n",
            "nelgiriyewithana/global-youtube-statistics-2023                       Global YouTube Statistics 2023                      60KB  2023-07-28 15:36:38           4164        146  1.0              \n",
            "joebeachcapital/global-earth-temperatures                             Global Earth Temperatures                           33KB  2023-08-09 06:21:51            859         31  1.0              \n",
            "arnavsmayan/netflix-userbase-dataset                                  Netflix Userbase Dataset                            25KB  2023-07-04 07:38:41          13190        234  1.0              \n",
            "joebeachcapital/fast-food                                             Fast Food Nutrition                                 20KB  2023-08-09 01:35:51            932         35  1.0              \n",
            "anshtanwar/global-data-on-sustainable-energy                          Global Data on Sustainable Energy (2000-2020)      175KB  2023-08-07 11:58:00           3043         48  1.0              \n",
            "juhibhojani/house-price                                               House Price                                          7MB  2023-08-02 16:51:21           1710         56  0.9411765        \n",
            "alphiree/cardiovascular-diseases-risk-prediction-dataset              Cardiovascular Diseases Risk Prediction Dataset      5MB  2023-07-03 12:12:19           9381        308  1.0              \n",
            "joebeachcapital/marvel-movies                                         Marvel Superhero Movies                              2KB  2023-08-02 23:31:11            544         28  1.0              \n",
            "sivapriyagarladinne/telangana-post-monsoon-ground-water-quality-data  Water Quality Data [Telangana Groundwater]          79KB  2023-07-28 17:25:06            741         31  1.0              \n",
            "lasaljaywardena/age-dataset-2023                                      The Age Dataset 2023 - Global and General Purpose   39MB  2023-08-04 11:56:01            900         33  1.0              \n",
            "joebeachcapital/top-2000-companies-globally                           Top 2000 Companies Globally                         38KB  2023-07-31 01:06:07            727         33  1.0              \n",
            "joebeachcapital/gpa-and-iq                                            GPA & IQ                                            795B  2023-08-09 05:05:39            527         30  1.0              \n",
            "georgeggcoco/closeness-of-music-genres                                Spotify's top 3000 music genres - Network           17MB  2023-08-04 13:27:45            398         26  1.0              \n",
            "joebeachcapital/life-expectancy                                       Life Expectancy                                    149KB  2023-08-09 02:21:33            571         30  1.0              \n",
            "abhijitdahatonde/zomato-restaurants-dataset                           Zomato Restaurants Dataset                         181KB  2023-07-20 13:11:17           1504         47  1.0              \n",
            "ibrahimonmars/imdb-reviews-on-barbie                                  IMDB Reviews on Barbie                               5MB  2023-08-04 04:47:14            463         40  1.0              \n",
            "gayu14/taylor-concert-tours-impact-on-attendance-and                  Taylor Concert Tours 🌎: Impact on Attendance & 💰     9KB  2023-08-04 05:20:29            391         31  1.0              \n"
          ]
        }
      ]
    },
    {
      "cell_type": "code",
      "source": [
        "!kaggle competitions download -c Kannada-MNIST"
      ],
      "metadata": {
        "id": "IAtggPEwi2sU",
        "outputId": "3dd1e5c1-9f9a-4941-8482-8150ef4aec50",
        "colab": {
          "base_uri": "https://localhost:8080/"
        }
      },
      "execution_count": null,
      "outputs": [
        {
          "output_type": "stream",
          "name": "stdout",
          "text": [
            "Downloading Kannada-MNIST.zip to /content\n",
            "\r  0% 0.00/12.4M [00:00<?, ?B/s]\n",
            "\r100% 12.4M/12.4M [00:00<00:00, 126MB/s]\n"
          ]
        }
      ]
    },
    {
      "cell_type": "markdown",
      "source": [
        "# creating a custom DAtaset class"
      ],
      "metadata": {
        "id": "QORdumeqj3i0"
      }
    },
    {
      "cell_type": "code",
      "source": [
        "import os\n",
        "import pandas as pd\n",
        "from torchvision.io import read_image\n"
      ],
      "metadata": {
        "id": "ExlBY8ugj5rO"
      },
      "execution_count": null,
      "outputs": []
    },
    {
      "cell_type": "code",
      "source": [
        "import torch\n",
        "from torch.utils.data import Dataset\n",
        "from torchvision import datasets\n",
        "from torchvision.transforms import ToTensor\n",
        "import matplotlib.pyplot as plt"
      ],
      "metadata": {
        "id": "5LzA2Gr7kEJV"
      },
      "execution_count": null,
      "outputs": []
    },
    {
      "cell_type": "code",
      "source": [
        "! mkdir train"
      ],
      "metadata": {
        "id": "1cIXjC1DkGSV"
      },
      "execution_count": null,
      "outputs": []
    },
    {
      "cell_type": "code",
      "source": [
        "! unzip Kannada-MNIST.zip -d train"
      ],
      "metadata": {
        "colab": {
          "base_uri": "https://localhost:8080/"
        },
        "id": "RURCQDBZlCET",
        "outputId": "ebf58f6a-7b76-4fe5-8817-0d2f00d55ef6"
      },
      "execution_count": null,
      "outputs": [
        {
          "output_type": "stream",
          "name": "stdout",
          "text": [
            "Archive:  Kannada-MNIST.zip\n",
            "  inflating: train/Dig-MNIST.csv     \n",
            "  inflating: train/sample_submission.csv  \n",
            "  inflating: train/test.csv          \n",
            "  inflating: train/train.csv         \n"
          ]
        }
      ]
    },
    {
      "cell_type": "code",
      "source": [
        "import pandas as pd"
      ],
      "metadata": {
        "id": "zAhzXEY2llbc"
      },
      "execution_count": null,
      "outputs": []
    },
    {
      "cell_type": "code",
      "source": [
        "\n",
        "# class Kmnist(Dataset):\n",
        "#     def __init__(self, df, transform=None, target_transform=None):\n",
        "#         self.img_labels = df.iloc[:,0]\n",
        "#         # self.img_dir = img_dir\n",
        "#         self.transform = transform\n",
        "#         self.target_transform = target_transform\n",
        "\n",
        "#     def __len__(self):\n",
        "#         return len(self.img_labels)\n",
        "\n",
        "#     def __getitem__(self, idx):\n",
        "#         img_path = os.path.join( self.img_labels.iloc[idx, 0])\n",
        "#         image = read_image(df.drop(df.columns[0],axis=1).iloc[idx,:].values)\n",
        "#         label = self.img_labels.iloc[idx, 0]\n",
        "#         if self.transform:\n",
        "#             image = self.transform(image)\n",
        "#         if self.target_transform:\n",
        "#             label = self.target_transform(label)\n",
        "#         return image, label"
      ],
      "metadata": {
        "id": "YQadMHrdj8Re"
      },
      "execution_count": null,
      "outputs": []
    },
    {
      "cell_type": "markdown",
      "source": [
        "# Creating a custom class for the dataset"
      ],
      "metadata": {
        "id": "RozpnF7_z7yT"
      }
    },
    {
      "cell_type": "code",
      "source": [
        "\n",
        "class Kmnist(Dataset):\n",
        "    def __init__(self, df, transform=None, target_transform=None):\n",
        "        self.img_labels = df.iloc[:,0]\n",
        "        # self.img_dir = img_dir\n",
        "        self.transform = transform\n",
        "        self.target_transform = target_transform\n",
        "        self.df = df\n",
        "\n",
        "    def __len__(self):\n",
        "        return len(self.img_labels)\n",
        "\n",
        "    def __getitem__(self, idx):\n",
        "        #img_path = os.path.join( self.img_labels.iloc[idx, 0])\n",
        "        image = (self.df.iloc[idx,1:].values)\n",
        "        image = torch.tensor(image)\n",
        "        label = self.img_labels.iloc[idx]\n",
        "        if self.transform:\n",
        "            image = self.transform(image)\n",
        "        if self.target_transform:\n",
        "            label = self.target_transform(label)\n",
        "        return image, label"
      ],
      "metadata": {
        "id": "0AZ6qTEVz__o"
      },
      "execution_count": null,
      "outputs": []
    },
    {
      "cell_type": "markdown",
      "source": [
        "#Loading train test validation dataset for training and testing"
      ],
      "metadata": {
        "id": "0EAdZO_f0ACo"
      }
    },
    {
      "cell_type": "code",
      "source": [
        "t_data = pd.read_csv('/content/train/train.csv')"
      ],
      "metadata": {
        "id": "tXn2nkmFtfVz"
      },
      "execution_count": null,
      "outputs": []
    },
    {
      "cell_type": "code",
      "source": [
        "train_data = Kmnist(t_data)"
      ],
      "metadata": {
        "id": "zjIGmxuepUKr"
      },
      "execution_count": null,
      "outputs": []
    },
    {
      "cell_type": "code",
      "source": [
        "from torch.utils.data import random_split"
      ],
      "metadata": {
        "id": "RbbwbMJZwTMQ"
      },
      "execution_count": null,
      "outputs": []
    },
    {
      "cell_type": "code",
      "source": [
        "train_size = int(0.9 * (len(train_data)))"
      ],
      "metadata": {
        "id": "mib8bd1Zv9U5"
      },
      "execution_count": null,
      "outputs": []
    },
    {
      "cell_type": "code",
      "source": [
        "val_size = len(train_data) - train_size"
      ],
      "metadata": {
        "id": "VuN4iQOVwP3A"
      },
      "execution_count": null,
      "outputs": []
    },
    {
      "cell_type": "code",
      "source": [
        "train_set , val_set = random_split(train_data, [train_size, val_size])"
      ],
      "metadata": {
        "id": "m0K2_9TKwRcw"
      },
      "execution_count": null,
      "outputs": []
    },
    {
      "cell_type": "code",
      "source": [
        "train_set.__len__()"
      ],
      "metadata": {
        "id": "Fvh1RUa3wcxx",
        "colab": {
          "base_uri": "https://localhost:8080/"
        },
        "outputId": "919a74c6-b70e-4ec9-b3bf-b559d554c03b"
      },
      "execution_count": null,
      "outputs": [
        {
          "output_type": "execute_result",
          "data": {
            "text/plain": [
              "54000"
            ]
          },
          "metadata": {},
          "execution_count": 21
        }
      ]
    },
    {
      "cell_type": "code",
      "source": [
        "val_set.__len__()\n"
      ],
      "metadata": {
        "id": "M7vLGqj6weo5",
        "colab": {
          "base_uri": "https://localhost:8080/"
        },
        "outputId": "469c5575-d24a-43d4-f117-03ce980d8dca"
      },
      "execution_count": null,
      "outputs": [
        {
          "output_type": "execute_result",
          "data": {
            "text/plain": [
              "6000"
            ]
          },
          "metadata": {},
          "execution_count": 22
        }
      ]
    },
    {
      "cell_type": "code",
      "source": [
        "tt_data = pd.read_csv('/content/train/train.csv')"
      ],
      "metadata": {
        "id": "XwNirwSRwn_M"
      },
      "execution_count": null,
      "outputs": []
    },
    {
      "cell_type": "code",
      "source": [
        "test_data = Kmnist(tt_data)"
      ],
      "metadata": {
        "id": "1F4CdOiqw6KJ"
      },
      "execution_count": null,
      "outputs": []
    },
    {
      "cell_type": "code",
      "source": [
        "from torch.utils.data import DataLoader"
      ],
      "metadata": {
        "id": "0saYfTSqxEUR"
      },
      "execution_count": null,
      "outputs": []
    },
    {
      "cell_type": "code",
      "source": [
        "train_dataloader = DataLoader(train_set,batch_size = 64,shuffle = True)\n",
        "val_dataloader = DataLoader(val_set,batch_size = 64,shuffle = True)\n",
        "test_dataloader = DataLoader(test_data,batch_size = 64,shuffle = True)"
      ],
      "metadata": {
        "id": "Mb0nbRazwlwE"
      },
      "execution_count": null,
      "outputs": []
    },
    {
      "cell_type": "code",
      "source": [
        "train_features,train_labels = next(iter(train_dataloader))"
      ],
      "metadata": {
        "id": "gyUG7RrtxUsB"
      },
      "execution_count": null,
      "outputs": []
    },
    {
      "cell_type": "markdown",
      "source": [
        "#loading a random sample from training dataset and printing it as an image"
      ],
      "metadata": {
        "id": "i_BQez1p0DaR"
      }
    },
    {
      "cell_type": "code",
      "source": [
        "print(f\"Feature batch shape: {train_features.size()}\")\n",
        "print(f\"Labels batch shape: {train_labels.size()}\")\n",
        "img = train_features[0].reshape(28,28).squeeze()\n",
        "label = train_labels[0]\n",
        "plt.imshow(img, cmap=\"gray\")\n",
        "plt.show()\n",
        "print(f\"Label: {label}\")"
      ],
      "metadata": {
        "id": "FrVlMt5qxO1x",
        "colab": {
          "base_uri": "https://localhost:8080/",
          "height": 485
        },
        "outputId": "4398abae-9376-4d55-bb05-76767f4c2e3e"
      },
      "execution_count": null,
      "outputs": [
        {
          "output_type": "stream",
          "name": "stdout",
          "text": [
            "Feature batch shape: torch.Size([64, 784])\n",
            "Labels batch shape: torch.Size([64])\n"
          ]
        },
        {
          "output_type": "display_data",
          "data": {
            "text/plain": [
              "<Figure size 640x480 with 1 Axes>"
            ],
            "image/png": "[encoded data removed]"
          },
          "metadata": {}
        },
        {
          "output_type": "stream",
          "name": "stdout",
          "text": [
            "Label: 9\n"
          ]
        }
      ]
    },
    {
      "cell_type": "code",
      "source": [
        "from torch import nn"
      ],
      "metadata": {
        "id": "y-JZsgz8zD_Q"
      },
      "execution_count": null,
      "outputs": []
    },
    {
      "cell_type": "code",
      "source": [
        "device = (\n",
        "    \"cuda\"\n",
        "    if torch.cuda.is_available()\n",
        "    else \"cpu\"\n",
        ")\n",
        "print(f\"Using {device} device\")"
      ],
      "metadata": {
        "id": "pD9xgvx28lsg",
        "colab": {
          "base_uri": "https://localhost:8080/"
        },
        "outputId": "3ba193df-a1b5-4f2a-b60f-0b5e2fbf04ea"
      },
      "execution_count": null,
      "outputs": [
        {
          "output_type": "stream",
          "name": "stdout",
          "text": [
            "Using cuda device\n"
          ]
        }
      ]
    },
    {
      "cell_type": "code",
      "source": [
        "import torch.nn.functional as F"
      ],
      "metadata": {
        "id": "Uv-wdfJt-AK9"
      },
      "execution_count": null,
      "outputs": []
    },
    {
      "cell_type": "code",
      "source": [
        "class net(nn.Module):\n",
        "    def __init__(self):\n",
        "        super().__init__()\n",
        "        self.fc1 = nn.Linear(28*28,4096)#just a random Neural Network with 6 Hidden Layers\n",
        "        self.fc2 = nn.Linear(4096,512)\n",
        "        self.fc3 = nn.Linear(512,256)\n",
        "        self.fc4 = nn.Linear(256,128)\n",
        "        self.fc5 = nn.Linear(128,32)\n",
        "        self.fc6 = nn.Linear(32,10)\n",
        "\n",
        "    def forward(self,x):\n",
        "        x = F.relu(self.fc1(x.float()))# using a common Activation Function\n",
        "        x = F.relu(self.fc2(x))\n",
        "        x = F.relu(self.fc3(x))\n",
        "        x = F.relu(self.fc4(x))\n",
        "        x = F.relu(self.fc5(x))\n",
        "        output = F.softmax(self.fc6(x),dim = 1)# doing a softmax at the END\n",
        "        return output\n"
      ],
      "metadata": {
        "id": "uyAIjM26-DU8"
      },
      "execution_count": null,
      "outputs": []
    },
    {
      "cell_type": "code",
      "source": [
        "model = net()# loading THe Model"
      ],
      "metadata": {
        "id": "KDQsV4zn-M8U"
      },
      "execution_count": null,
      "outputs": []
    },
    {
      "cell_type": "code",
      "source": [
        "model.cuda()"
      ],
      "metadata": {
        "id": "M8A48CUy-PPU",
        "colab": {
          "base_uri": "https://localhost:8080/"
        },
        "outputId": "106dbccd-eb28-43d2-ad4f-0088e47b0bb6"
      },
      "execution_count": null,
      "outputs": [
        {
          "output_type": "execute_result",
          "data": {
            "text/plain": [
              "net(\n",
              "  (fc1): Linear(in_features=784, out_features=4096, bias=True)\n",
              "  (fc2): Linear(in_features=4096, out_features=512, bias=True)\n",
              "  (fc3): Linear(in_features=512, out_features=256, bias=True)\n",
              "  (fc4): Linear(in_features=256, out_features=128, bias=True)\n",
              "  (fc5): Linear(in_features=128, out_features=32, bias=True)\n",
              "  (fc6): Linear(in_features=32, out_features=10, bias=True)\n",
              ")"
            ]
          },
          "metadata": {},
          "execution_count": 36
        }
      ]
    },
    {
      "cell_type": "code",
      "source": [
        "device = torch.device(\"cuda:0\")\n",
        "model.to(device)"
      ],
      "metadata": {
        "id": "dgK8GDoT-Rt-",
        "colab": {
          "base_uri": "https://localhost:8080/"
        },
        "outputId": "5814dba8-998f-4a9c-e662-89946bcf74b0"
      },
      "execution_count": null,
      "outputs": [
        {
          "output_type": "execute_result",
          "data": {
            "text/plain": [
              "net(\n",
              "  (fc1): Linear(in_features=784, out_features=4096, bias=True)\n",
              "  (fc2): Linear(in_features=4096, out_features=512, bias=True)\n",
              "  (fc3): Linear(in_features=512, out_features=256, bias=True)\n",
              "  (fc4): Linear(in_features=256, out_features=128, bias=True)\n",
              "  (fc5): Linear(in_features=128, out_features=32, bias=True)\n",
              "  (fc6): Linear(in_features=32, out_features=10, bias=True)\n",
              ")"
            ]
          },
          "metadata": {},
          "execution_count": 37
        }
      ]
    },
    {
      "cell_type": "markdown",
      "source": [
        "# defining the basic stochastic gradient descent optimizer model which we used for normal mnist"
      ],
      "metadata": {
        "id": "NSHDIxZTs9wr"
      }
    },
    {
      "cell_type": "code",
      "source": [
        "criterion = nn.CrossEntropyLoss()\n",
        "optimizer = torch.optim.SGD(model.parameters(), lr = 0.01)"
      ],
      "metadata": {
        "id": "fyDmKVLp-Tad"
      },
      "execution_count": null,
      "outputs": []
    },
    {
      "cell_type": "code",
      "source": [
        "epochs = 10  # You can adjust the number of epochs as needed"
      ],
      "metadata": {
        "id": "tnmXYDme-Vpl"
      },
      "execution_count": null,
      "outputs": []
    },
    {
      "cell_type": "code",
      "source": [
        "train_losses = []\n",
        "val_losses = []\n",
        "train_accuracies = []\n",
        "val_accuracies = []# for plotting"
      ],
      "metadata": {
        "id": "2B4pzavU-XKd"
      },
      "execution_count": null,
      "outputs": []
    },
    {
      "cell_type": "markdown",
      "source": [
        "# Training for 10 epochs"
      ],
      "metadata": {
        "id": "1a2RRDMstIJa"
      }
    },
    {
      "cell_type": "code",
      "source": [
        "for e in range(epochs):\n",
        "    train_loss = 0.0\n",
        "    val_loss = 0.0\n",
        "    train_correct = 0\n",
        "    train_total = 0\n",
        "    val_correct = 0\n",
        "    val_total = 0\n",
        "    model.train()  # Set the model to training mode\n",
        "\n",
        "    # Training loop\n",
        "    for images, labels in train_dataloader:\n",
        "        images, labels = images.to(device), labels.to(device)\n",
        "        optimizer.zero_grad()\n",
        "        outputs = model(images)\n",
        "        loss = criterion(outputs, labels)\n",
        "        loss.backward()\n",
        "        optimizer.step()\n",
        "        train_loss += loss.item()\n",
        "        _, predicted = torch.max(outputs, 1)\n",
        "        train_total += labels.size(0)\n",
        "        train_correct += (predicted == labels).sum().item()\n",
        "\n",
        "    # Validation loop\n",
        "    model.eval()  # Set the model to evaluation mode\n",
        "    with torch.no_grad():\n",
        "        for val_images, val_labels in val_dataloader:  # Assuming you have a DataLoader named 'val_loader'\n",
        "            val_images, val_labels = val_images.to(device), val_labels.to(device)\n",
        "            val_outputs = model(val_images)\n",
        "            val_loss += criterion(val_outputs, val_labels).item()\n",
        "            _, val_predicted = torch.max(val_outputs, 1)\n",
        "            val_total += val_labels.size(0)\n",
        "            val_correct += (val_predicted == val_labels).sum().item()\n",
        "\n",
        "    # Calculate average losses for this epoch\n",
        "    average_train_loss = train_loss / len(train_dataloader)\n",
        "    average_val_loss = val_loss / len(val_dataloader)\n",
        "    train_accuracy = train_correct / train_total * 100\n",
        "    val_accuracy = val_correct / val_total * 100\n",
        "    average_train_accuracy = train_accuracy / len(train_dataloader)\n",
        "    average_val_accuracy = val_accuracy / len(val_dataloader)\n",
        "\n",
        "    train_losses.append(average_train_loss)\n",
        "    val_losses.append(average_val_loss)\n",
        "    train_accuracies.append(train_accuracy)\n",
        "    val_accuracies.append(val_accuracy)\n",
        "\n",
        "    print(f'Epoch [{e+1}/{epochs}],Train Accuracy: {average_train_accuracy:.4f}, Val Accuracy: {average_val_accuracy:.4f}, Train Loss: {average_train_loss:.4f}, Val Loss: {average_val_loss:.4f}')\n",
        "\n",
        "print(\"Training finished\")"
      ],
      "metadata": {
        "id": "-8XUHhet-YlV",
        "colab": {
          "base_uri": "https://localhost:8080/"
        },
        "outputId": "d72bfaa4-24b7-4388-ef8f-024492132e1f"
      },
      "execution_count": null,
      "outputs": [
        {
          "output_type": "stream",
          "name": "stdout",
          "text": [
            "Epoch [1/10],Train Accuracy: 0.0927, Val Accuracy: 0.9257, Train Loss: 1.6912, Val Loss: 1.5945\n",
            "Epoch [2/10],Train Accuracy: 0.1033, Val Accuracy: 0.9348, Train Loss: 1.5908, Val Loss: 1.5827\n",
            "Epoch [3/10],Train Accuracy: 0.1041, Val Accuracy: 0.9397, Train Loss: 1.5830, Val Loss: 1.5786\n",
            "Epoch [4/10],Train Accuracy: 0.1045, Val Accuracy: 0.9411, Train Loss: 1.5789, Val Loss: 1.5765\n",
            "Epoch [5/10],Train Accuracy: 0.1048, Val Accuracy: 0.9418, Train Loss: 1.5759, Val Loss: 1.5744\n",
            "Epoch [6/10],Train Accuracy: 0.1050, Val Accuracy: 0.9420, Train Loss: 1.5737, Val Loss: 1.5740\n",
            "Epoch [7/10],Train Accuracy: 0.1052, Val Accuracy: 0.9454, Train Loss: 1.5719, Val Loss: 1.5720\n",
            "Epoch [8/10],Train Accuracy: 0.1053, Val Accuracy: 0.9411, Train Loss: 1.5701, Val Loss: 1.5759\n",
            "Epoch [9/10],Train Accuracy: 0.1055, Val Accuracy: 0.9450, Train Loss: 1.5686, Val Loss: 1.5718\n",
            "Epoch [10/10],Train Accuracy: 0.1056, Val Accuracy: 0.9440, Train Loss: 1.5671, Val Loss: 1.5710\n",
            "Training finished\n"
          ]
        }
      ]
    },
    {
      "cell_type": "markdown",
      "source": [
        "# Plotting the train test accuracy and loss"
      ],
      "metadata": {
        "id": "_EStDN0ltLty"
      }
    },
    {
      "cell_type": "code",
      "source": [
        "# Plotting the loss and accuracy curves\n",
        "fig, (ax1, ax2) = plt.subplots(2, 1, figsize=(10, 8))\n",
        "\n",
        "ax1.plot(range(1, epochs+1), train_losses, label='Train Loss')\n",
        "ax1.plot(range(1, epochs+1), val_losses, label='Validation Loss', linestyle='dashed')\n",
        "ax1.set_xlabel('Epoch')\n",
        "ax1.set_ylabel('Loss')\n",
        "ax1.legend()\n",
        "\n",
        "ax2.plot(range(1, epochs+1), train_accuracies, label='Train Accuracy')\n",
        "ax2.plot(range(1, epochs+1), val_accuracies, label='Validation Accuracy', linestyle='dashed')\n",
        "ax2.set_xlabel('Epoch')\n",
        "ax2.set_ylabel('Accuracy (%)')\n",
        "ax2.legend()\n",
        "\n",
        "plt.tight_layout()\n",
        "plt.show()"
      ],
      "metadata": {
        "id": "SwDkZ_b6rowo",
        "colab": {
          "base_uri": "https://localhost:8080/",
          "height": 807
        },
        "outputId": "4c4607a5-7b27-412b-e1a0-91f8b30e38e9"
      },
      "execution_count": null,
      "outputs": [
        {
          "output_type": "display_data",
          "data": {
            "text/plain": [
              "<Figure size 1000x800 with 2 Axes>"
            ],
            "image/png": "[encoded data removed]"
          },
          "metadata": {}
        }
      ]
    },
    {
      "cell_type": "markdown",
      "source": [
        "# testing the model"
      ],
      "metadata": {
        "id": "gLUGit_DtRfy"
      }
    },
    {
      "cell_type": "markdown",
      "source": [
        "# Ok well in testing our model performed decently it gave 89% accuracy"
      ],
      "metadata": {
        "id": "5t38ORHf0LHQ"
      }
    },
    {
      "cell_type": "code",
      "source": [
        "model.eval()  # Set the model to evaluation mode\n",
        "test_loss = 0.0\n",
        "test_correct = 0\n",
        "test_total = 0\n",
        "\n",
        "with torch.no_grad():\n",
        "    for test_images, test_labels in test_dataloader:  # Assuming you have a DataLoader named 'test_loader'\n",
        "        test_images, test_labels = test_images.to(device), test_labels.to(device)\n",
        "        test_outputs = model(test_images)\n",
        "        test_loss += criterion(test_outputs, test_labels).item()\n",
        "        _, test_predicted = torch.max(test_outputs, 1)\n",
        "        test_total += test_labels.size(0)\n",
        "        test_correct += (test_predicted == test_labels).sum().item()\n",
        "\n",
        "average_test_loss = test_loss / len(test_dataloader)\n",
        "test_accuracy = test_correct / test_total * 100\n",
        "\n",
        "print(f'Test Loss: {average_test_loss:.4f}, Test Accuracy: {test_accuracy:.2f}%')\n"
      ],
      "metadata": {
        "id": "wuOwIkSDhP6D",
        "colab": {
          "base_uri": "https://localhost:8080/"
        },
        "outputId": "fb34e3bf-71fc-4782-877e-9be087b5609b"
      },
      "execution_count": null,
      "outputs": [
        {
          "output_type": "stream",
          "name": "stdout",
          "text": [
            "Test Loss: 1.5670, Test Accuracy: 89.17%\n"
          ]
        }
      ]
    },
    {
      "cell_type": "markdown",
      "source": [
        "# using optimzer as Adam and the same  neural network from previous"
      ],
      "metadata": {
        "id": "hbkJ6C0KtUiJ"
      }
    },
    {
      "cell_type": "code",
      "source": [
        "criterion = nn.CrossEntropyLoss()\n",
        "optimizer = torch.optim.Adam(model.parameters(), lr = 1e-4)"
      ],
      "metadata": {
        "id": "USEgo9RR_ZrF"
      },
      "execution_count": null,
      "outputs": []
    },
    {
      "cell_type": "code",
      "source": [
        "epochs = 10  # You can adjust the number of epochs as needed"
      ],
      "metadata": {
        "id": "m5CPz8Twg_5j"
      },
      "execution_count": null,
      "outputs": []
    },
    {
      "cell_type": "code",
      "source": [
        "train_losses = []\n",
        "val_losses = []\n",
        "train_accuracies = []\n",
        "val_accuracies = []# for plotting"
      ],
      "metadata": {
        "id": "i538zFcThBjb"
      },
      "execution_count": null,
      "outputs": []
    },
    {
      "cell_type": "code",
      "source": [
        "for e in range(epochs):\n",
        "    train_loss = 0.0\n",
        "    val_loss = 0.0\n",
        "    train_correct = 0\n",
        "    train_total = 0\n",
        "    val_correct = 0\n",
        "    val_total = 0\n",
        "    model.train()  # Set the model to training mode\n",
        "\n",
        "    # Training loop\n",
        "    for images, labels in train_dataloader:\n",
        "        images, labels = images.to(device), labels.to(device)\n",
        "        optimizer.zero_grad()\n",
        "        outputs = model(images)\n",
        "        loss = criterion(outputs, labels)\n",
        "        loss.backward()\n",
        "        optimizer.step()\n",
        "        train_loss += loss.item()\n",
        "        _, predicted = torch.max(outputs, 1)\n",
        "        train_total += labels.size(0)\n",
        "        train_correct += (predicted == labels).sum().item()\n",
        "\n",
        "    # Validation loop\n",
        "    model.eval()  # Set the model to evaluation mode\n",
        "    with torch.no_grad():\n",
        "        for val_images, val_labels in val_dataloader:  # Assuming you have a DataLoader named 'val_loader'\n",
        "            val_images, val_labels = val_images.to(device), val_labels.to(device)\n",
        "            val_outputs = model(val_images)\n",
        "            val_loss += criterion(val_outputs, val_labels).item()\n",
        "            _, val_predicted = torch.max(val_outputs, 1)\n",
        "            val_total += val_labels.size(0)\n",
        "            val_correct += (val_predicted == val_labels).sum().item()\n",
        "\n",
        "    # Calculate average losses for this epoch\n",
        "    average_train_loss = train_loss / len(train_dataloader)\n",
        "    average_val_loss = val_loss / len(val_dataloader)\n",
        "    train_accuracy = train_correct / train_total * 100\n",
        "    val_accuracy = val_correct / val_total * 100\n",
        "    average_train_accuracy = train_accuracy / len(train_dataloader)\n",
        "    average_val_accuracy = val_accuracy / len(val_dataloader)\n",
        "\n",
        "    train_losses.append(average_train_loss)\n",
        "    val_losses.append(average_val_loss)\n",
        "    train_accuracies.append(train_accuracy)\n",
        "    val_accuracies.append(val_accuracy)\n",
        "\n",
        "    print(f'Epoch [{e+1}/{epochs}],Train Accuracy: {average_train_accuracy:.4f}, Val Accuracy: {average_val_accuracy:.4f}, Train Loss: {average_train_loss:.4f}, Val Loss: {average_val_loss:.4f}')\n",
        "\n",
        "print(\"Training finished\")"
      ],
      "metadata": {
        "id": "SPMSOiBXhDSl",
        "colab": {
          "base_uri": "https://localhost:8080/"
        },
        "outputId": "92f5a7df-5812-455d-9263-28b57952198a"
      },
      "execution_count": null,
      "outputs": [
        {
          "output_type": "stream",
          "name": "stdout",
          "text": [
            "Epoch [1/10],Train Accuracy: 0.1092, Val Accuracy: 1.0376, Train Loss: 1.5396, Val Loss: 1.4866\n",
            "Epoch [2/10],Train Accuracy: 0.1159, Val Accuracy: 1.0362, Train Loss: 1.4836, Val Loss: 1.4874\n",
            "Epoch [3/10],Train Accuracy: 0.1163, Val Accuracy: 1.0390, Train Loss: 1.4791, Val Loss: 1.4843\n",
            "Epoch [4/10],Train Accuracy: 0.1165, Val Accuracy: 1.0417, Train Loss: 1.4776, Val Loss: 1.4824\n",
            "Epoch [5/10],Train Accuracy: 0.1168, Val Accuracy: 1.0434, Train Loss: 1.4757, Val Loss: 1.4802\n",
            "Epoch [6/10],Train Accuracy: 0.1171, Val Accuracy: 1.0410, Train Loss: 1.4730, Val Loss: 1.4824\n",
            "Epoch [7/10],Train Accuracy: 0.1170, Val Accuracy: 1.0433, Train Loss: 1.4735, Val Loss: 1.4806\n",
            "Epoch [8/10],Train Accuracy: 0.1169, Val Accuracy: 1.0465, Train Loss: 1.4742, Val Loss: 1.4776\n",
            "Epoch [9/10],Train Accuracy: 0.1172, Val Accuracy: 1.0479, Train Loss: 1.4721, Val Loss: 1.4759\n",
            "Epoch [10/10],Train Accuracy: 0.1171, Val Accuracy: 1.0495, Train Loss: 1.4729, Val Loss: 1.4748\n",
            "Training finished\n"
          ]
        }
      ]
    },
    {
      "cell_type": "markdown",
      "source": [
        "# we are getting a very high accuracy in validation set"
      ],
      "metadata": {
        "id": "5Y6p6zyetkIK"
      }
    },
    {
      "cell_type": "code",
      "source": [
        "# Plotting the loss and accuracy curves\n",
        "fig, (ax1, ax2) = plt.subplots(2, 1, figsize=(10, 8))\n",
        "\n",
        "ax1.plot(range(1, epochs+1), train_losses, label='Train Loss')\n",
        "ax1.plot(range(1, epochs+1), val_losses, label='Validation Loss', linestyle='dashed')\n",
        "ax1.set_xlabel('Epoch')\n",
        "ax1.set_ylabel('Loss')\n",
        "ax1.legend()\n",
        "\n",
        "ax2.plot(range(1, epochs+1), train_accuracies, label='Train Accuracy')\n",
        "ax2.plot(range(1, epochs+1), val_accuracies, label='Validation Accuracy', linestyle='dashed')\n",
        "ax2.set_xlabel('Epoch')\n",
        "ax2.set_ylabel('Accuracy (%)')\n",
        "ax2.legend()\n",
        "\n",
        "plt.tight_layout()\n",
        "plt.show()"
      ],
      "metadata": {
        "id": "9QkK08ZSrkKk",
        "colab": {
          "base_uri": "https://localhost:8080/",
          "height": 807
        },
        "outputId": "354a7df0-1c7b-406a-d95f-8330e1fd59c5"
      },
      "execution_count": null,
      "outputs": [
        {
          "output_type": "display_data",
          "data": {
            "text/plain": [
              "<Figure size 1000x800 with 2 Axes>"
            ],
            "image/png": "[encoded data removed]"
          },
          "metadata": {}
        }
      ]
    },
    {
      "cell_type": "markdown",
      "source": [
        "# oh this time test  we got around 99.27% accuracy which is good"
      ],
      "metadata": {
        "id": "SMxb7eXetr9-"
      }
    },
    {
      "cell_type": "code",
      "source": [
        "\n",
        "model.eval()  # Set the model to evaluation mode\n",
        "test_loss = 0.0\n",
        "test_correct = 0\n",
        "test_total = 0\n",
        "\n",
        "with torch.no_grad():\n",
        "    for test_images, test_labels in test_dataloader:  # Assuming you have a DataLoader named 'test_loader'\n",
        "        test_images, test_labels = test_images.to(device), test_labels.to(device)\n",
        "        test_outputs = model(test_images)\n",
        "        test_loss += criterion(test_outputs, test_labels).item()\n",
        "        _, test_predicted = torch.max(test_outputs, 1)\n",
        "        test_total += test_labels.size(0)\n",
        "        test_correct += (test_predicted == test_labels).sum().item()\n",
        "\n",
        "average_test_loss = test_loss / len(test_dataloader)\n",
        "test_accuracy = test_correct / test_total * 100\n",
        "\n",
        "print(f'Test Loss: {average_test_loss:.4f}, Test Accuracy: {test_accuracy:.2f}%')\n"
      ],
      "metadata": {
        "id": "jEbvIvvmhSK8",
        "colab": {
          "base_uri": "https://localhost:8080/"
        },
        "outputId": "7a387dee-619b-4829-9173-3d61db1d16f5"
      },
      "execution_count": null,
      "outputs": [
        {
          "output_type": "stream",
          "name": "stdout",
          "text": [
            "Test Loss: 1.4685, Test Accuracy: 99.27%\n"
          ]
        }
      ]
    },
    {
      "cell_type": "markdown",
      "source": [
        "# but can we improve this little more? is there a possibility ? Let's Try"
      ],
      "metadata": {
        "id": "GY6LZdY_0aFp"
      }
    },
    {
      "cell_type": "markdown",
      "source": [
        "# class assignment as told with batch normalization"
      ],
      "metadata": {
        "id": "NAy7zGoy4B_X"
      }
    },
    {
      "cell_type": "markdown",
      "source": [
        "## implementing a neural network with batch normalization"
      ],
      "metadata": {
        "id": "4sd3hbEVtzBK"
      }
    },
    {
      "cell_type": "markdown",
      "source": [
        "# we are using batch normalization1d because batch norm2d need a matrix input"
      ],
      "metadata": {
        "id": "q5j48caZvCSR"
      }
    },
    {
      "cell_type": "markdown",
      "source": [
        "# So batchnorm1d means no learnable parmeters but just normalization of the aggreation to mean 0 and stadard deviation  1"
      ],
      "metadata": {
        "id": "umaKbd4U0kuo"
      }
    },
    {
      "cell_type": "code",
      "source": [
        "class net(nn.Module):\n",
        "    def __init__(self):\n",
        "        super().__init__()\n",
        "        self.fc1 = nn.Linear(28*28,4096)#just a random Neural Network with 6 Hidden Layers\n",
        "        self.bn1 = nn.BatchNorm1d(4096)\n",
        "        self.fc2 = nn.Linear(4096,512)\n",
        "        self.bn2 = nn.BatchNorm1d(512)\n",
        "        self.fc3 = nn.Linear(512,256)\n",
        "        self.bn3 = nn.BatchNorm1d(256)\n",
        "        self.fc4 = nn.Linear(256,128)\n",
        "        self.bn4 = nn.BatchNorm1d(128)\n",
        "        self.fc5 = nn.Linear(128,32)\n",
        "        self.bn5 = nn.BatchNorm1d(32)\n",
        "        self.fc6 = nn.Linear(32,10)\n",
        "\n",
        "    def forward(self,x):\n",
        "        x = self.fc1(x.float())\n",
        "        x = self.bn1(x)#doing batch Normalization\n",
        "        x = F.relu(x) # using Relu Activation Function\n",
        "\n",
        "        x = self.fc2(x.float())\n",
        "        x = self.bn2(x)#doing batch Normalization\n",
        "        x = F.relu(x) # using Relu Activation Function\n",
        "\n",
        "        x = self.fc3(x.float())\n",
        "        x = self.bn3(x)#doing batch Normalization\n",
        "        x = F.relu(x) # using Relu Activation Function\n",
        "\n",
        "        x = self.fc4(x.float())\n",
        "        x = self.bn4(x)#doing batch Normalization\n",
        "        x = F.relu(x) # using Relu Activation Function\n",
        "\n",
        "        x = self.fc5(x.float())\n",
        "        x = self.bn5(x)#doing batch Normalization\n",
        "        x = F.relu(x) # using Relu Activation Function\n",
        "\n",
        "        output = F.softmax(self.fc6(x),dim = 1)# doing a softmax at the END\n",
        "        return output\n"
      ],
      "metadata": {
        "id": "n9MDaDMNdKhf"
      },
      "execution_count": null,
      "outputs": []
    },
    {
      "cell_type": "code",
      "source": [
        "model = net()# loading THe Model"
      ],
      "metadata": {
        "id": "W_25o4didWSH"
      },
      "execution_count": null,
      "outputs": []
    },
    {
      "cell_type": "code",
      "source": [
        "model.cuda()"
      ],
      "metadata": {
        "colab": {
          "base_uri": "https://localhost:8080/"
        },
        "outputId": "c641ea54-305a-4b26-d2ac-a48f33b7720a",
        "id": "73Cqjk3pdWSH"
      },
      "execution_count": null,
      "outputs": [
        {
          "output_type": "execute_result",
          "data": {
            "text/plain": [
              "net(\n",
              "  (fc1): Linear(in_features=784, out_features=4096, bias=True)\n",
              "  (bn1): BatchNorm1d(4096, eps=1e-05, momentum=0.1, affine=True, track_running_stats=True)\n",
              "  (fc2): Linear(in_features=4096, out_features=512, bias=True)\n",
              "  (bn2): BatchNorm1d(512, eps=1e-05, momentum=0.1, affine=True, track_running_stats=True)\n",
              "  (fc3): Linear(in_features=512, out_features=256, bias=True)\n",
              "  (bn3): BatchNorm1d(256, eps=1e-05, momentum=0.1, affine=True, track_running_stats=True)\n",
              "  (fc4): Linear(in_features=256, out_features=128, bias=True)\n",
              "  (bn4): BatchNorm1d(128, eps=1e-05, momentum=0.1, affine=True, track_running_stats=True)\n",
              "  (fc5): Linear(in_features=128, out_features=32, bias=True)\n",
              "  (bn5): BatchNorm1d(32, eps=1e-05, momentum=0.1, affine=True, track_running_stats=True)\n",
              "  (fc6): Linear(in_features=32, out_features=10, bias=True)\n",
              ")"
            ]
          },
          "metadata": {},
          "execution_count": 68
        }
      ]
    },
    {
      "cell_type": "code",
      "source": [
        "device = torch.device(\"cuda:0\")\n",
        "model.to(device)"
      ],
      "metadata": {
        "colab": {
          "base_uri": "https://localhost:8080/"
        },
        "outputId": "fc7e3c7d-85e6-4960-b250-a453c348a962",
        "id": "lMXQQHKWdWSI"
      },
      "execution_count": null,
      "outputs": [
        {
          "output_type": "execute_result",
          "data": {
            "text/plain": [
              "net(\n",
              "  (fc1): Linear(in_features=784, out_features=4096, bias=True)\n",
              "  (bn1): BatchNorm1d(4096, eps=1e-05, momentum=0.1, affine=True, track_running_stats=True)\n",
              "  (fc2): Linear(in_features=4096, out_features=512, bias=True)\n",
              "  (bn2): BatchNorm1d(512, eps=1e-05, momentum=0.1, affine=True, track_running_stats=True)\n",
              "  (fc3): Linear(in_features=512, out_features=256, bias=True)\n",
              "  (bn3): BatchNorm1d(256, eps=1e-05, momentum=0.1, affine=True, track_running_stats=True)\n",
              "  (fc4): Linear(in_features=256, out_features=128, bias=True)\n",
              "  (bn4): BatchNorm1d(128, eps=1e-05, momentum=0.1, affine=True, track_running_stats=True)\n",
              "  (fc5): Linear(in_features=128, out_features=32, bias=True)\n",
              "  (bn5): BatchNorm1d(32, eps=1e-05, momentum=0.1, affine=True, track_running_stats=True)\n",
              "  (fc6): Linear(in_features=32, out_features=10, bias=True)\n",
              ")"
            ]
          },
          "metadata": {},
          "execution_count": 69
        }
      ]
    },
    {
      "cell_type": "code",
      "source": [
        "criterion = nn.CrossEntropyLoss()\n",
        "optimizer = torch.optim.Adam(model.parameters(), lr = 1e-4)"
      ],
      "metadata": {
        "id": "FMxxhYiAcI5P"
      },
      "execution_count": null,
      "outputs": []
    },
    {
      "cell_type": "code",
      "source": [
        "epochs = 10  # You can adjust the number of epochs as needed"
      ],
      "metadata": {
        "id": "NIDbQH4ZcI5W"
      },
      "execution_count": null,
      "outputs": []
    },
    {
      "cell_type": "code",
      "source": [
        "train_losses = []\n",
        "val_losses = []\n",
        "train_accuracies = []\n",
        "val_accuracies = []# for plotting"
      ],
      "metadata": {
        "id": "-UgQ4QHucI5W"
      },
      "execution_count": null,
      "outputs": []
    },
    {
      "cell_type": "code",
      "source": [
        "for e in range(epochs):\n",
        "    train_loss = 0.0\n",
        "    val_loss = 0.0\n",
        "    train_correct = 0\n",
        "    train_total = 0\n",
        "    val_correct = 0\n",
        "    val_total = 0\n",
        "    model.train()  # Set the model to training mode\n",
        "\n",
        "    # Training loop\n",
        "    for images, labels in train_dataloader:\n",
        "        images, labels = images.to(device), labels.to(device)\n",
        "        optimizer.zero_grad()\n",
        "        outputs = model(images)\n",
        "        loss = criterion(outputs, labels)\n",
        "        loss.backward()\n",
        "        optimizer.step()\n",
        "        train_loss += loss.item()\n",
        "        _, predicted = torch.max(outputs, 1)\n",
        "        train_total += labels.size(0)\n",
        "        train_correct += (predicted == labels).sum().item()\n",
        "\n",
        "    # Validation loop\n",
        "    model.eval()  # Set the model to evaluation mode\n",
        "    with torch.no_grad():\n",
        "        for val_images, val_labels in val_dataloader:  # Assuming you have a DataLoader named 'val_loader'\n",
        "            val_images, val_labels = val_images.to(device), val_labels.to(device)\n",
        "            val_outputs = model(val_images)\n",
        "            val_loss += criterion(val_outputs, val_labels).item()\n",
        "            _, val_predicted = torch.max(val_outputs, 1)\n",
        "            val_total += val_labels.size(0)\n",
        "            val_correct += (val_predicted == val_labels).sum().item()\n",
        "\n",
        "    # Calculate average losses for this epoch\n",
        "    average_train_loss = train_loss / len(train_dataloader)\n",
        "    average_val_loss = val_loss / len(val_dataloader)\n",
        "    train_accuracy = train_correct / train_total * 100\n",
        "    val_accuracy = val_correct / val_total * 100\n",
        "    average_train_accuracy = train_accuracy / len(train_dataloader)\n",
        "    average_val_accuracy = val_accuracy / len(val_dataloader)\n",
        "\n",
        "    train_losses.append(average_train_loss)\n",
        "    val_losses.append(average_val_loss)\n",
        "    train_accuracies.append(train_accuracy)\n",
        "    val_accuracies.append(val_accuracy)\n",
        "\n",
        "    print(f'Epoch [{e+1}/{epochs}],Train Accuracy: {average_train_accuracy:.4f}, Val Accuracy: {average_val_accuracy:.4f}, Train Loss: {average_train_loss:.4f}, Val Loss: {average_val_loss:.4f}')\n",
        "\n",
        "print(\"Training finished\")"
      ],
      "metadata": {
        "colab": {
          "base_uri": "https://localhost:8080/"
        },
        "outputId": "a81f4ac4-ca46-4bbf-c491-b8e18e191897",
        "id": "1UzswisNcI5W"
      },
      "execution_count": null,
      "outputs": [
        {
          "output_type": "stream",
          "name": "stdout",
          "text": [
            "Epoch [1/10],Train Accuracy: 0.1121, Val Accuracy: 1.0441, Train Loss: 1.8355, Val Loss: 1.6361\n",
            "Epoch [2/10],Train Accuracy: 0.1164, Val Accuracy: 1.0486, Train Loss: 1.5681, Val Loss: 1.5217\n",
            "Epoch [3/10],Train Accuracy: 0.1170, Val Accuracy: 1.0493, Train Loss: 1.5058, Val Loss: 1.4939\n",
            "Epoch [4/10],Train Accuracy: 0.1172, Val Accuracy: 1.0498, Train Loss: 1.4874, Val Loss: 1.4846\n",
            "Epoch [5/10],Train Accuracy: 0.1174, Val Accuracy: 1.0498, Train Loss: 1.4788, Val Loss: 1.4797\n",
            "Epoch [6/10],Train Accuracy: 0.1175, Val Accuracy: 1.0498, Train Loss: 1.4744, Val Loss: 1.4777\n",
            "Epoch [7/10],Train Accuracy: 0.1175, Val Accuracy: 1.0498, Train Loss: 1.4724, Val Loss: 1.4766\n",
            "Epoch [8/10],Train Accuracy: 0.1177, Val Accuracy: 1.0518, Train Loss: 1.4701, Val Loss: 1.4747\n",
            "Epoch [9/10],Train Accuracy: 0.1178, Val Accuracy: 1.0523, Train Loss: 1.4689, Val Loss: 1.4734\n",
            "Epoch [10/10],Train Accuracy: 0.1178, Val Accuracy: 1.0523, Train Loss: 1.4684, Val Loss: 1.4730\n",
            "Training finished\n"
          ]
        }
      ]
    },
    {
      "cell_type": "code",
      "source": [
        "# Plotting the loss and accuracy curves\n",
        "fig, (ax1, ax2) = plt.subplots(2, 1, figsize=(10, 8))\n",
        "\n",
        "ax1.plot(range(1, epochs+1), train_losses, label='Train Loss')\n",
        "ax1.plot(range(1, epochs+1), val_losses, label='Validation Loss', linestyle='dashed')\n",
        "ax1.set_xlabel('Epoch')\n",
        "ax1.set_ylabel('Loss')\n",
        "ax1.legend()\n",
        "\n",
        "ax2.plot(range(1, epochs+1), train_accuracies, label='Train Accuracy')\n",
        "ax2.plot(range(1, epochs+1), val_accuracies, label='Validation Accuracy', linestyle='dashed')\n",
        "ax2.set_xlabel('Epoch')\n",
        "ax2.set_ylabel('Accuracy (%)')\n",
        "ax2.legend()\n",
        "\n",
        "plt.tight_layout()\n",
        "plt.show()"
      ],
      "metadata": {
        "colab": {
          "base_uri": "https://localhost:8080/",
          "height": 806
        },
        "outputId": "155a3cd3-e532-4cbe-b1e2-3ba556959c96",
        "id": "roz6g9IxcI5X"
      },
      "execution_count": null,
      "outputs": [
        {
          "output_type": "display_data",
          "data": {
            "text/plain": [
              "<Figure size 1000x800 with 2 Axes>"
            ],
            "image/png": "[encoded data removed]"
          },
          "metadata": {}
        }
      ]
    },
    {
      "cell_type": "markdown",
      "source": [
        "# Voila! here we achieved a 99.57% in test accuracy a 0.3% improvement!"
      ],
      "metadata": {
        "id": "Z6GeMvBZvvrS"
      }
    },
    {
      "cell_type": "code",
      "source": [
        "\n",
        "model.eval()  # Set the model to evaluation mode\n",
        "test_loss = 0.0\n",
        "test_correct = 0\n",
        "test_total = 0\n",
        "\n",
        "with torch.no_grad():\n",
        "    for test_images, test_labels in test_dataloader:  # Assuming you have a DataLoader named 'test_loader'\n",
        "        test_images, test_labels = test_images.to(device), test_labels.to(device)\n",
        "        test_outputs = model(test_images)\n",
        "        test_loss += criterion(test_outputs, test_labels).item()\n",
        "        _, test_predicted = torch.max(test_outputs, 1)\n",
        "        test_total += test_labels.size(0)\n",
        "        test_correct += (test_predicted == test_labels).sum().item()\n",
        "\n",
        "average_test_loss = test_loss / len(test_dataloader)\n",
        "test_accuracy = test_correct / test_total * 100\n",
        "\n",
        "print(f'Test Loss: {average_test_loss:.4f}, Test Accuracy: {test_accuracy:.2f}%')\n"
      ],
      "metadata": {
        "colab": {
          "base_uri": "https://localhost:8080/"
        },
        "outputId": "5453a84b-34e1-467f-89a1-83c7efd5be1d",
        "id": "muyi3i9AcI5X"
      },
      "execution_count": null,
      "outputs": [
        {
          "output_type": "stream",
          "name": "stdout",
          "text": [
            "Test Loss: 1.4662, Test Accuracy: 99.57%\n"
          ]
        }
      ]
    }
  ]
}