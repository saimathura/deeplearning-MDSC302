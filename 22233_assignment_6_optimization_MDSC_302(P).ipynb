{
  "nbformat": 4,
  "nbformat_minor": 0,
  "metadata": {
    "colab": {
      "provenance": [],
      "gpuType": "T4",
      "authorship_tag": "ABX9TyNdY7e5QhM11LKkBPPrZ3KR",
      "include_colab_link": true
    },
    "kernelspec": {
      "name": "python3",
      "display_name": "Python 3"
    },
    "language_info": {
      "name": "python"
    },
    "accelerator": "GPU"
  },
  "cells": [
    {
      "cell_type": "markdown",
      "metadata": {
        "id": "view-in-github",
        "colab_type": "text"
      },
      "source": [
        "<a href=\"https://colab.research.google.com/github/saimathura/deeplearning-MDSC302/blob/main/22233_assignment_6_optimization_MDSC_302(P).ipynb\" target=\"_parent\"><img src=\"https://colab.research.google.com/assets/colab-badge.svg\" alt=\"Open In Colab\"/></a>"
      ]
    },
    {
      "cell_type": "markdown",
      "source": [
        "# Prerequisite COde\n",
        "\n"
      ],
      "metadata": {
        "id": "0OswtWgTPldE"
      }
    },
    {
      "cell_type": "code",
      "execution_count": null,
      "metadata": {
        "id": "ZhD4aqjVPADv"
      },
      "outputs": [],
      "source": [
        "import torch\n",
        "from torch import nn\n",
        "from torch.utils.data import DataLoader\n",
        "from torchvision import datasets\n",
        "from torchvision.transforms import ToTensor\n",
        "\n",
        "training_data = datasets.FashionMNIST(\n",
        "    root = \"data\",\n",
        "    train = True,\n",
        "    download = True,\n",
        "    transform=ToTensor()\n",
        ")\n",
        "\n",
        "test_data = datasets.FashionMNIST(\n",
        "    root = \"data\",\n",
        "    train = False,\n",
        "    download = True,\n",
        "    transform = ToTensor()\n",
        ")\n",
        "\n",
        "train_dataloader = DataLoader(training_data, batch_size = 64)\n",
        "test_dataloader = DataLoader(test_data, batch_size = 64)\n",
        "\n",
        "class NeuralNetwork(nn.Module):\n",
        "    def __init__(self):\n",
        "        super().__init__()\n",
        "        self.flatten = nn.Flatten()\n",
        "        self.linear_relu_stack = nn.Sequential(\n",
        "            nn.Linear(28*28,512),\n",
        "            nn.ReLU(),\n",
        "            nn.Linear(512,512),\n",
        "            nn.ReLU(),\n",
        "            nn.Linear(512,10),\n",
        "        )\n",
        "    def forward(self, x):\n",
        "        x= self.flatten(x)\n",
        "        logits = self.linear_relu_stack(x)\n",
        "        return logits\n"
      ]
    },
    {
      "cell_type": "code",
      "source": [
        "model = NeuralNetwork()"
      ],
      "metadata": {
        "id": "i26RvSWLTIiD"
      },
      "execution_count": null,
      "outputs": []
    },
    {
      "cell_type": "markdown",
      "source": [
        "#Hyperparameters\n",
        "Hyperparameters are adjustable parameters that let you control the model optimization process. Different hyperparameter values can impact model training and convergence rates (read more about hyperparameter tuning)\n",
        "\n",
        "We define the following hyperparameters for training:\n",
        "Number of Epochs - the number times to iterate over the dataset\n",
        "\n",
        "Batch Size - the number of data samples propagated through the network before the parameters are updated\n",
        "\n",
        "Learning Rate - how much to update models parameters at each batch/epoch. Smaller values yield slow learning speed, while large values may result in unpredictable behavior during training."
      ],
      "metadata": {
        "id": "ylHsNpgnShG2"
      }
    },
    {
      "cell_type": "code",
      "source": [
        "learning_rate = 1e-3\n",
        "batch_size = 64\n",
        "epochs = 5"
      ],
      "metadata": {
        "id": "slNF5SwfP73O"
      },
      "execution_count": null,
      "outputs": []
    },
    {
      "cell_type": "markdown",
      "source": [
        "#Optimization Loop\n",
        "Once we set our hyperparameters, we can then train and optimize our model with an optimization loop. Each iteration of the optimization loop is called an epoch.\n",
        "\n",
        "Each epoch consists of two main parts:\n",
        "The Train Loop - iterate over the training dataset and try to converge to optimal parameters.\n",
        "\n",
        "The Validation/Test Loop - iterate over the test dataset to check if model performance is improving."
      ],
      "metadata": {
        "id": "IgtzJlKxSqVz"
      }
    },
    {
      "cell_type": "markdown",
      "source": [
        "#Loss Function\n",
        "When presented with some training data, our untrained network is likely not to give the correct answer. Loss function measures the degree of dissimilarity of obtained result to the target value, and it is the loss function that we want to minimize during training. To calculate the loss we make a prediction using the inputs of our given data sample and compare it against the true data label value.\n",
        "\n",
        "Common loss functions include nn.MSELoss (Mean Square Error) for regression tasks, and nn.NLLLoss (Negative Log Likelihood) for classification. nn.CrossEntropyLoss combines nn.LogSoftmax and nn.NLLLoss."
      ],
      "metadata": {
        "id": "pZTuy-VySyXb"
      }
    },
    {
      "cell_type": "code",
      "source": [
        "#initializing the loss function\n",
        "loss_fn = nn.CrossEntropyLoss()"
      ],
      "metadata": {
        "id": "I0q6v7eQSot2"
      },
      "execution_count": null,
      "outputs": []
    },
    {
      "cell_type": "code",
      "source": [
        "optimizer = torch.optim.SGD(model.parameters(), lr = learning_rate)"
      ],
      "metadata": {
        "id": "ytZavO2gS5ak"
      },
      "execution_count": null,
      "outputs": []
    },
    {
      "cell_type": "markdown",
      "source": [
        "# we are using stochasstic Gradient Descent"
      ],
      "metadata": {
        "id": "0Um-3svgTM7L"
      }
    },
    {
      "cell_type": "code",
      "source": [
        "def train_loop(dataloader, mdoel, loss_fn, optimizer):\n",
        "    size = len(dataloader.dataset)\n",
        "\n",
        "    model.train()\n",
        "    for batch, (X,y) in enumerate(dataloader):\n",
        "        pred = model(X)\n",
        "        loss = loss_fn(pred, y)\n",
        "\n",
        "        loss.backward()\n",
        "        optimizer.step()\n",
        "        optimizer.zero_grad()\n",
        "\n",
        "        if batch % 100 == 0:\n",
        "            loss , current = loss.item(), (batch+1)*len(X)\n",
        "            print(f\"loss: {loss:>7f} [{current:>5d}{size:>5d}]\")\n",
        "\n",
        "def test_loop(dataloader, model, loss_fn):\n",
        "    model.eval()\n",
        "    size = len(dataloader.dataset)\n",
        "    num_batches = len(dataloader)\n",
        "    num_batches = len(dataloader)\n",
        "    test_loss, correct = 0, 0\n",
        "\n",
        "    with torch.no_grad():\n",
        "        for X,y in dataloader:\n",
        "            pred = model(X)\n",
        "            test_loss += loss_fn(pred, y).item()\n",
        "            correct += (pred.argmax(1) == y).type(torch.float).sum().item()\n",
        "\n",
        "        test_loss /= num_batches\n",
        "        correct /= size\n",
        "        print(f\"Test Error: \\n Accuracy: {(100*correct):>0.1f}%, Avg loss: {test_loss:>8f} \\n\")"
      ],
      "metadata": {
        "id": "uYs0LXigTFSd"
      },
      "execution_count": null,
      "outputs": []
    },
    {
      "cell_type": "code",
      "source": [
        "loss_fn = nn.CrossEntropyLoss()\n",
        "optimizer = torch.optim.SGD(model.parameters(), lr=learning_rate)\n",
        "\n",
        "epochs = 10\n",
        "for t in range(epochs):\n",
        "    print(f\"Epoch {t+1}\\n-------------------------------\")\n",
        "    train_loop(train_dataloader, model, loss_fn, optimizer)\n",
        "    test_loop(test_dataloader, model, loss_fn)\n",
        "print(\"Done!\")"
      ],
      "metadata": {
        "colab": {
          "base_uri": "https://localhost:8080/"
        },
        "id": "EBvK8DekVbE-",
        "outputId": "eb44e229-60bf-46ae-b682-3eec51157ca2"
      },
      "execution_count": null,
      "outputs": [
        {
          "output_type": "stream",
          "name": "stdout",
          "text": [
            "Epoch 1\n",
            "-------------------------------\n",
            "loss: 2.294838 [   6460000]\n",
            "loss: 2.279994 [ 646460000]\n",
            "loss: 2.260392 [1286460000]\n",
            "loss: 2.263224 [1926460000]\n",
            "loss: 2.248012 [2566460000]\n",
            "loss: 2.213525 [3206460000]\n",
            "loss: 2.225666 [3846460000]\n",
            "loss: 2.186835 [4486460000]\n",
            "loss: 2.190080 [5126460000]\n",
            "loss: 2.156047 [5766460000]\n",
            "Test Error: \n",
            " Accuracy: 49.3%, Avg loss: 2.149728 \n",
            "\n",
            "Epoch 2\n",
            "-------------------------------\n",
            "loss: 2.163769 [   6460000]\n",
            "loss: 2.146467 [ 646460000]\n",
            "loss: 2.090441 [1286460000]\n",
            "loss: 2.112086 [1926460000]\n",
            "loss: 2.057679 [2566460000]\n",
            "loss: 1.992190 [3206460000]\n",
            "loss: 2.026538 [3846460000]\n",
            "loss: 1.943049 [4486460000]\n",
            "loss: 1.957940 [5126460000]\n",
            "loss: 1.875282 [5766460000]\n",
            "Test Error: \n",
            " Accuracy: 58.4%, Avg loss: 1.878058 \n",
            "\n",
            "Epoch 3\n",
            "-------------------------------\n",
            "loss: 1.914753 [   6460000]\n",
            "loss: 1.877289 [ 646460000]\n",
            "loss: 1.765360 [1286460000]\n",
            "loss: 1.809445 [1926460000]\n",
            "loss: 1.694783 [2566460000]\n",
            "loss: 1.642719 [3206460000]\n",
            "loss: 1.664721 [3846460000]\n",
            "loss: 1.567552 [4486460000]\n",
            "loss: 1.601316 [5126460000]\n",
            "loss: 1.483171 [5766460000]\n",
            "Test Error: \n",
            " Accuracy: 61.0%, Avg loss: 1.510157 \n",
            "\n",
            "Epoch 4\n",
            "-------------------------------\n",
            "loss: 1.581035 [   6460000]\n",
            "loss: 1.542520 [ 646460000]\n",
            "loss: 1.400127 [1286460000]\n",
            "loss: 1.468058 [1926460000]\n",
            "loss: 1.347078 [2566460000]\n",
            "loss: 1.344866 [3206460000]\n",
            "loss: 1.348694 [3846460000]\n",
            "loss: 1.280307 [4486460000]\n",
            "loss: 1.323205 [5126460000]\n",
            "loss: 1.211950 [5766460000]\n",
            "Test Error: \n",
            " Accuracy: 62.7%, Avg loss: 1.246115 \n",
            "\n",
            "Epoch 5\n",
            "-------------------------------\n",
            "loss: 1.329024 [   6460000]\n",
            "loss: 1.307391 [ 646460000]\n",
            "loss: 1.149103 [1286460000]\n",
            "loss: 1.249253 [1926460000]\n",
            "loss: 1.123636 [2566460000]\n",
            "loss: 1.152597 [3206460000]\n",
            "loss: 1.160564 [3846460000]\n",
            "loss: 1.102267 [4486460000]\n",
            "loss: 1.152169 [5126460000]\n",
            "loss: 1.059764 [5766460000]\n",
            "Test Error: \n",
            " Accuracy: 64.0%, Avg loss: 1.085080 \n",
            "\n",
            "Epoch 6\n",
            "-------------------------------\n",
            "loss: 1.161809 [   6460000]\n",
            "loss: 1.161628 [ 646460000]\n",
            "loss: 0.985339 [1286460000]\n",
            "loss: 1.115370 [1926460000]\n",
            "loss: 0.990041 [2566460000]\n",
            "loss: 1.023958 [3206460000]\n",
            "loss: 1.048688 [3846460000]\n",
            "loss: 0.989716 [4486460000]\n",
            "loss: 1.041255 [5126460000]\n",
            "loss: 0.967252 [5766460000]\n",
            "Test Error: \n",
            " Accuracy: 65.4%, Avg loss: 0.982485 \n",
            "\n",
            "Epoch 7\n",
            "-------------------------------\n",
            "loss: 1.045806 [   6460000]\n",
            "loss: 1.068265 [ 646460000]\n",
            "loss: 0.873527 [1286460000]\n",
            "loss: 1.026622 [1926460000]\n",
            "loss: 0.906892 [2566460000]\n",
            "loss: 0.933271 [3206460000]\n",
            "loss: 0.976918 [3846460000]\n",
            "loss: 0.916617 [4486460000]\n",
            "loss: 0.963430 [5126460000]\n",
            "loss: 0.905336 [5766460000]\n",
            "Test Error: \n",
            " Accuracy: 66.6%, Avg loss: 0.912267 \n",
            "\n",
            "Epoch 8\n",
            "-------------------------------\n",
            "loss: 0.960188 [   6460000]\n",
            "loss: 1.003156 [ 646460000]\n",
            "loss: 0.792631 [1286460000]\n",
            "loss: 0.963132 [1926460000]\n",
            "loss: 0.851194 [2566460000]\n",
            "loss: 0.866360 [3206460000]\n",
            "loss: 0.926351 [3846460000]\n",
            "loss: 0.867405 [4486460000]\n",
            "loss: 0.906080 [5126460000]\n",
            "loss: 0.860041 [5766460000]\n",
            "Test Error: \n",
            " Accuracy: 68.0%, Avg loss: 0.861051 \n",
            "\n",
            "Epoch 9\n",
            "-------------------------------\n",
            "loss: 0.893323 [   6460000]\n",
            "loss: 0.953809 [ 646460000]\n",
            "loss: 0.731289 [1286460000]\n",
            "loss: 0.915084 [1926460000]\n",
            "loss: 0.811315 [2566460000]\n",
            "loss: 0.815649 [3206460000]\n",
            "loss: 0.887816 [3846460000]\n",
            "loss: 0.832773 [4486460000]\n",
            "loss: 0.862361 [5126460000]\n",
            "loss: 0.824901 [5766460000]\n",
            "Test Error: \n",
            " Accuracy: 69.1%, Avg loss: 0.821769 \n",
            "\n",
            "Epoch 10\n",
            "-------------------------------\n",
            "loss: 0.839337 [   6460000]\n",
            "loss: 0.913816 [ 646460000]\n",
            "loss: 0.682810 [1286460000]\n",
            "loss: 0.877493 [1926460000]\n",
            "loss: 0.780810 [2566460000]\n",
            "loss: 0.776319 [3206460000]\n",
            "loss: 0.856656 [3846460000]\n",
            "loss: 0.807162 [4486460000]\n",
            "loss: 0.827924 [5126460000]\n",
            "loss: 0.796066 [5766460000]\n",
            "Test Error: \n",
            " Accuracy: 70.5%, Avg loss: 0.790266 \n",
            "\n",
            "Done!\n"
          ]
        }
      ]
    },
    {
      "cell_type": "markdown",
      "source": [
        "# Saving the Models in Different ways\n"
      ],
      "metadata": {
        "id": "7HgPQ7EOlw0B"
      }
    },
    {
      "cell_type": "code",
      "source": [
        "import torchvision.models as models"
      ],
      "metadata": {
        "id": "RmEyVykNe2BS"
      },
      "execution_count": null,
      "outputs": []
    },
    {
      "cell_type": "markdown",
      "source": [
        "#Saving the weights\n"
      ],
      "metadata": {
        "id": "Z2j9plXMl0Ox"
      }
    },
    {
      "cell_type": "code",
      "source": [
        "torch.save(model.state_dict(), 'model_weights.pth')"
      ],
      "metadata": {
        "id": "N-YLjmOVe4Qi"
      },
      "execution_count": null,
      "outputs": []
    },
    {
      "cell_type": "markdown",
      "source": [
        "# loading model with weights"
      ],
      "metadata": {
        "id": "MJ9EVsTgl3Pr"
      }
    },
    {
      "cell_type": "code",
      "source": [
        "model.load_state_dict(torch.load('model_weights.pth'))\n",
        "model.eval()"
      ],
      "metadata": {
        "colab": {
          "base_uri": "https://localhost:8080/"
        },
        "id": "CH3Kmv7ge7n6",
        "outputId": "aeb89193-430b-41e9-da8a-54f210bac316"
      },
      "execution_count": null,
      "outputs": [
        {
          "output_type": "execute_result",
          "data": {
            "text/plain": [
              "NeuralNetwork(\n",
              "  (flatten): Flatten(start_dim=1, end_dim=-1)\n",
              "  (linear_relu_stack): Sequential(\n",
              "    (0): Linear(in_features=784, out_features=512, bias=True)\n",
              "    (1): ReLU()\n",
              "    (2): Linear(in_features=512, out_features=512, bias=True)\n",
              "    (3): ReLU()\n",
              "    (4): Linear(in_features=512, out_features=10, bias=True)\n",
              "  )\n",
              ")"
            ]
          },
          "metadata": {},
          "execution_count": 46
        }
      ]
    },
    {
      "cell_type": "markdown",
      "source": [
        "# Model State Saving\n"
      ],
      "metadata": {
        "id": "y6k-qhfCl8Tz"
      }
    },
    {
      "cell_type": "code",
      "source": [
        "torch.save(model, 'model.pth')"
      ],
      "metadata": {
        "id": "KfQ2GCgJfGna"
      },
      "execution_count": null,
      "outputs": []
    },
    {
      "cell_type": "code",
      "source": [
        "model = torch.load('model.pth')"
      ],
      "metadata": {
        "id": "YoTHEhjPfKNa"
      },
      "execution_count": null,
      "outputs": []
    }
  ]
}