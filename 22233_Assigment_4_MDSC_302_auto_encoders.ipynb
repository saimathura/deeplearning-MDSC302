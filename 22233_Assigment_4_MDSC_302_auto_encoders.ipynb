{
  "nbformat": 4,
  "nbformat_minor": 0,
  "metadata": {
    "colab": {
      "provenance": [],
      "gpuType": "T4",
      "authorship_tag": "ABX9TyNwQSGpzzp9iD6UBeRhk9Dq",
      "include_colab_link": true
    },
    "kernelspec": {
      "name": "python3",
      "display_name": "Python 3"
    },
    "language_info": {
      "name": "python"
    },
    "accelerator": "GPU"
  },
  "cells": [
    {
      "cell_type": "markdown",
      "metadata": {
        "id": "view-in-github",
        "colab_type": "text"
      },
      "source": [
        "<a href=\"https://colab.research.google.com/github/saimathura/deeplearning-MDSC302/blob/main/22233_Assigment_4_MDSC_302_auto_encoders.ipynb\" target=\"_parent\"><img src=\"https://colab.research.google.com/assets/colab-badge.svg\" alt=\"Open In Colab\"/></a>"
      ]
    },
    {
      "cell_type": "code",
      "source": [
        "! pip install -q kaggle"
      ],
      "metadata": {
        "id": "js46qY56ys1A"
      },
      "execution_count": 1,
      "outputs": []
    },
    {
      "cell_type": "code",
      "source": [
        "from google.colab import files\n",
        "files.upload()"
      ],
      "metadata": {
        "colab": {
          "base_uri": "https://localhost:8080/",
          "height": 91
        },
        "id": "hYWaiRy1ytQQ",
        "outputId": "561a2437-37cf-4310-d6f2-bfd3048a1301"
      },
      "execution_count": 2,
      "outputs": [
        {
          "output_type": "display_data",
          "data": {
            "text/plain": [
              "<IPython.core.display.HTML object>"
            ],
            "text/html": [
              "\n",
              "     <input type=\"file\" id=\"files-29827068-ad3e-44bc-bc75-38abbb7fcfc8\" name=\"files[]\" multiple disabled\n",
              "        style=\"border:none\" />\n",
              "     <output id=\"result-29827068-ad3e-44bc-bc75-38abbb7fcfc8\">\n",
              "      Upload widget is only available when the cell has been executed in the\n",
              "      current browser session. Please rerun this cell to enable.\n",
              "      </output>\n",
              "      <script>// Copyright 2017 Google LLC\n",
              "//\n",
              "// Licensed under the Apache License, Version 2.0 (the \"License\");\n",
              "// you may not use this file except in compliance with the License.\n",
              "// You may obtain a copy of the License at\n",
              "//\n",
              "//      http://www.apache.org/licenses/LICENSE-2.0\n",
              "//\n",
              "// Unless required by applicable law or agreed to in writing, software\n",
              "// distributed under the License is distributed on an \"AS IS\" BASIS,\n",
              "// WITHOUT WARRANTIES OR CONDITIONS OF ANY KIND, either express or implied.\n",
              "// See the License for the specific language governing permissions and\n",
              "// limitations under the License.\n",
              "\n",
              "/**\n",
              " * @fileoverview Helpers for google.colab Python module.\n",
              " */\n",
              "(function(scope) {\n",
              "function span(text, styleAttributes = {}) {\n",
              "  const element = document.createElement('span');\n",
              "  element.textContent = text;\n",
              "  for (const key of Object.keys(styleAttributes)) {\n",
              "    element.style[key] = styleAttributes[key];\n",
              "  }\n",
              "  return element;\n",
              "}\n",
              "\n",
              "// Max number of bytes which will be uploaded at a time.\n",
              "const MAX_PAYLOAD_SIZE = 100 * 1024;\n",
              "\n",
              "function _uploadFiles(inputId, outputId) {\n",
              "  const steps = uploadFilesStep(inputId, outputId);\n",
              "  const outputElement = document.getElementById(outputId);\n",
              "  // Cache steps on the outputElement to make it available for the next call\n",
              "  // to uploadFilesContinue from Python.\n",
              "  outputElement.steps = steps;\n",
              "\n",
              "  return _uploadFilesContinue(outputId);\n",
              "}\n",
              "\n",
              "// This is roughly an async generator (not supported in the browser yet),\n",
              "// where there are multiple asynchronous steps and the Python side is going\n",
              "// to poll for completion of each step.\n",
              "// This uses a Promise to block the python side on completion of each step,\n",
              "// then passes the result of the previous step as the input to the next step.\n",
              "function _uploadFilesContinue(outputId) {\n",
              "  const outputElement = document.getElementById(outputId);\n",
              "  const steps = outputElement.steps;\n",
              "\n",
              "  const next = steps.next(outputElement.lastPromiseValue);\n",
              "  return Promise.resolve(next.value.promise).then((value) => {\n",
              "    // Cache the last promise value to make it available to the next\n",
              "    // step of the generator.\n",
              "    outputElement.lastPromiseValue = value;\n",
              "    return next.value.response;\n",
              "  });\n",
              "}\n",
              "\n",
              "/**\n",
              " * Generator function which is called between each async step of the upload\n",
              " * process.\n",
              " * @param {string} inputId Element ID of the input file picker element.\n",
              " * @param {string} outputId Element ID of the output display.\n",
              " * @return {!Iterable<!Object>} Iterable of next steps.\n",
              " */\n",
              "function* uploadFilesStep(inputId, outputId) {\n",
              "  const inputElement = document.getElementById(inputId);\n",
              "  inputElement.disabled = false;\n",
              "\n",
              "  const outputElement = document.getElementById(outputId);\n",
              "  outputElement.innerHTML = '';\n",
              "\n",
              "  const pickedPromise = new Promise((resolve) => {\n",
              "    inputElement.addEventListener('change', (e) => {\n",
              "      resolve(e.target.files);\n",
              "    });\n",
              "  });\n",
              "\n",
              "  const cancel = document.createElement('button');\n",
              "  inputElement.parentElement.appendChild(cancel);\n",
              "  cancel.textContent = 'Cancel upload';\n",
              "  const cancelPromise = new Promise((resolve) => {\n",
              "    cancel.onclick = () => {\n",
              "      resolve(null);\n",
              "    };\n",
              "  });\n",
              "\n",
              "  // Wait for the user to pick the files.\n",
              "  const files = yield {\n",
              "    promise: Promise.race([pickedPromise, cancelPromise]),\n",
              "    response: {\n",
              "      action: 'starting',\n",
              "    }\n",
              "  };\n",
              "\n",
              "  cancel.remove();\n",
              "\n",
              "  // Disable the input element since further picks are not allowed.\n",
              "  inputElement.disabled = true;\n",
              "\n",
              "  if (!files) {\n",
              "    return {\n",
              "      response: {\n",
              "        action: 'complete',\n",
              "      }\n",
              "    };\n",
              "  }\n",
              "\n",
              "  for (const file of files) {\n",
              "    const li = document.createElement('li');\n",
              "    li.append(span(file.name, {fontWeight: 'bold'}));\n",
              "    li.append(span(\n",
              "        `(${file.type || 'n/a'}) - ${file.size} bytes, ` +\n",
              "        `last modified: ${\n",
              "            file.lastModifiedDate ? file.lastModifiedDate.toLocaleDateString() :\n",
              "                                    'n/a'} - `));\n",
              "    const percent = span('0% done');\n",
              "    li.appendChild(percent);\n",
              "\n",
              "    outputElement.appendChild(li);\n",
              "\n",
              "    const fileDataPromise = new Promise((resolve) => {\n",
              "      const reader = new FileReader();\n",
              "      reader.onload = (e) => {\n",
              "        resolve(e.target.result);\n",
              "      };\n",
              "      reader.readAsArrayBuffer(file);\n",
              "    });\n",
              "    // Wait for the data to be ready.\n",
              "    let fileData = yield {\n",
              "      promise: fileDataPromise,\n",
              "      response: {\n",
              "        action: 'continue',\n",
              "      }\n",
              "    };\n",
              "\n",
              "    // Use a chunked sending to avoid message size limits. See b/62115660.\n",
              "    let position = 0;\n",
              "    do {\n",
              "      const length = Math.min(fileData.byteLength - position, MAX_PAYLOAD_SIZE);\n",
              "      const chunk = new Uint8Array(fileData, position, length);\n",
              "      position += length;\n",
              "\n",
              "      const base64 = btoa(String.fromCharCode.apply(null, chunk));\n",
              "      yield {\n",
              "        response: {\n",
              "          action: 'append',\n",
              "          file: file.name,\n",
              "          data: base64,\n",
              "        },\n",
              "      };\n",
              "\n",
              "      let percentDone = fileData.byteLength === 0 ?\n",
              "          100 :\n",
              "          Math.round((position / fileData.byteLength) * 100);\n",
              "      percent.textContent = `${percentDone}% done`;\n",
              "\n",
              "    } while (position < fileData.byteLength);\n",
              "  }\n",
              "\n",
              "  // All done.\n",
              "  yield {\n",
              "    response: {\n",
              "      action: 'complete',\n",
              "    }\n",
              "  };\n",
              "}\n",
              "\n",
              "scope.google = scope.google || {};\n",
              "scope.google.colab = scope.google.colab || {};\n",
              "scope.google.colab._files = {\n",
              "  _uploadFiles,\n",
              "  _uploadFilesContinue,\n",
              "};\n",
              "})(self);\n",
              "</script> "
            ]
          },
          "metadata": {}
        },
        {
          "output_type": "stream",
          "name": "stdout",
          "text": [
            "Saving kaggle.json to kaggle.json\n"
          ]
        },
        {
          "output_type": "execute_result",
          "data": {
            "text/plain": [
              "{'kaggle.json': b'{\"username\":\"saimathurakrishnan\",\"key\":\"93f1782054d1d824aebb7eace9b87a9b\"}'}"
            ]
          },
          "metadata": {},
          "execution_count": 2
        }
      ]
    },
    {
      "cell_type": "code",
      "source": [
        "! mkdir ~/.kaggle"
      ],
      "metadata": {
        "id": "c3wCnV4YywyQ"
      },
      "execution_count": 3,
      "outputs": []
    },
    {
      "cell_type": "code",
      "source": [
        "! cp kaggle.json ~/.kaggle/"
      ],
      "metadata": {
        "id": "88yAGvlGyydw"
      },
      "execution_count": 4,
      "outputs": []
    },
    {
      "cell_type": "code",
      "source": [
        "! chmod 600 ~/.kaggle/kaggle.json\n",
        "! kaggle datasets list"
      ],
      "metadata": {
        "id": "Lo7dt5i9y0Km",
        "colab": {
          "base_uri": "https://localhost:8080/"
        },
        "outputId": "ea13a029-13d7-4c4b-9b24-ceeddd2e28f7"
      },
      "execution_count": 5,
      "outputs": [
        {
          "output_type": "stream",
          "name": "stdout",
          "text": [
            "ref                                                 title                                           size  lastUpdated          downloadCount  voteCount  usabilityRating  \n",
            "--------------------------------------------------  ---------------------------------------------  -----  -------------------  -------------  ---------  ---------------  \n",
            "nelgiriyewithana/global-youtube-statistics-2023     Global YouTube Statistics 2023                  60KB  2023-07-28 15:36:38          10997        371  1.0              \n",
            "nelgiriyewithana/top-spotify-songs-2023             Most Streamed Spotify Songs 2023                47KB  2023-08-26 11:04:57           1251         57  1.0              \n",
            "ravindrasinghrana/employeedataset                   Employee Dataset(All in One)                   520KB  2023-08-13 08:06:29           1228         34  1.0              \n",
            "arjunajn/netflix-watch-log                          Netflix Watch Log                              295KB  2023-08-22 08:23:45            897         31  1.0              \n",
            "anoopjohny/moon-landings                            Moon Landings                                    8KB  2023-08-23 22:16:49            737         36  1.0              \n",
            "joebeachcapital/life-longevity-factors              Life Longevity Factors                           8KB  2023-08-23 01:01:55            947         42  1.0              \n",
            "petalme/student-anxiety-dataset                     Student anxiety dataset                        647KB  2023-08-21 08:03:14            837         30  1.0              \n",
            "kapturovalexander/gold-and-silver-prices-2013-2023  Gold and Silver prices (2013-2023)              80KB  2023-08-30 06:10:06            982         34  1.0              \n",
            "faysalmiah1721758/breast-cancer-data                Breast Cancer Dataset                            2KB  2023-08-14 06:01:43            552         31  1.0              \n",
            "joebeachcapital/drug-overdose-deaths                Drug Overdose Deaths                           590KB  2023-08-28 05:52:05            435         24  1.0              \n",
            "anshtanwar/global-data-on-sustainable-energy        Global Data on Sustainable Energy (2000-2020)  174KB  2023-08-19 05:22:23           4805         90  1.0              \n",
            "pritish509/s-and-p-500-esg-risk-ratings             S&P 500 ESG Risk Ratings                       250KB  2023-08-24 00:53:30            365         26  1.0              \n",
            "brunoalarcon123/top-200-spotify-songs-dataset       Top 200 Spotify Songs Dataset                   35MB  2023-08-18 05:36:12           2666         85  1.0              \n",
            "guillemservera/tsla-stock-data                      Tesla (TSLA) Stock Data                        211KB  2023-08-31 04:01:08            415         22  1.0              \n",
            "joebeachcapital/customer-segmentation               Customer Segmentation                            2KB  2023-08-15 00:17:34            495         26  1.0              \n",
            "nelgiriyewithana/countries-of-the-world-2023        Global Country Information Dataset 2023         23KB  2023-07-08 20:37:33          15314        594  1.0              \n",
            "jjinho/wikipedia-20230701                           Wikipedia Plaintext (2023-07-01)                12GB  2023-07-17 01:43:57            602         48  1.0              \n",
            "juhibhojani/hotel-reviews                           Hotel Reviews                                  319KB  2023-08-29 10:29:09            434         25  0.9411765        \n",
            "ishanshrivastava28/superstore-sales                 Superstore Sales                                 2MB  2023-08-18 19:01:11           1167         43  1.0              \n",
            "jjinho/wikipedia-2023-07-faiss-index                Wikipedia 2023 07 faiss index                    5GB  2023-07-17 01:57:37            202         18  1.0              \n"
          ]
        }
      ]
    },
    {
      "cell_type": "code",
      "source": [
        "!kaggle competitions download -c Kannada-MNIST"
      ],
      "metadata": {
        "colab": {
          "base_uri": "https://localhost:8080/"
        },
        "id": "XB-LET8gy1-d",
        "outputId": "d28ffd2f-cb0c-48fc-d916-3d4929119b49"
      },
      "execution_count": 6,
      "outputs": [
        {
          "output_type": "stream",
          "name": "stdout",
          "text": [
            "Downloading Kannada-MNIST.zip to /content\n",
            " 89% 11.0M/12.4M [00:00<00:00, 19.7MB/s]\n",
            "100% 12.4M/12.4M [00:00<00:00, 14.2MB/s]\n"
          ]
        }
      ]
    },
    {
      "cell_type": "code",
      "source": [
        "! mkdir train"
      ],
      "metadata": {
        "id": "3kltezSBzCqZ"
      },
      "execution_count": 7,
      "outputs": []
    },
    {
      "cell_type": "code",
      "source": [
        "! unzip Kannada-MNIST.zip -d train"
      ],
      "metadata": {
        "colab": {
          "base_uri": "https://localhost:8080/"
        },
        "id": "Y11KzM-AzDHY",
        "outputId": "6f563983-5ba1-4a18-abd6-800be2c85d67"
      },
      "execution_count": 8,
      "outputs": [
        {
          "output_type": "stream",
          "name": "stdout",
          "text": [
            "Archive:  Kannada-MNIST.zip\n",
            "  inflating: train/Dig-MNIST.csv     \n",
            "  inflating: train/sample_submission.csv  \n",
            "  inflating: train/test.csv          \n",
            "  inflating: train/train.csv         \n"
          ]
        }
      ]
    },
    {
      "cell_type": "code",
      "source": [
        "import os\n",
        "import pandas as pd\n",
        "from torchvision.io import read_image\n",
        "import torch\n",
        "from torch.utils.data import Dataset\n",
        "from torchvision import datasets\n",
        "from torchvision.transforms import ToTensor\n",
        "import matplotlib.pyplot as plt\n",
        "import pandas as pd"
      ],
      "metadata": {
        "id": "A2d_It_w0VPd"
      },
      "execution_count": 9,
      "outputs": []
    },
    {
      "cell_type": "code",
      "execution_count": 10,
      "metadata": {
        "id": "zpkEN2BYyRS_"
      },
      "outputs": [],
      "source": [
        "class Kmnist(Dataset):\n",
        "    def __init__(self, df, transform=None, target_transform=None):\n",
        "        self.img_labels = df.iloc[:,0]\n",
        "        # self.img_dir = img_dir\n",
        "        self.transform = transform\n",
        "        self.target_transform = target_transform\n",
        "        self.df = df\n",
        "\n",
        "    def __len__(self):\n",
        "        return len(self.img_labels)\n",
        "\n",
        "    def __getitem__(self, idx):\n",
        "        #img_path = os.path.join( self.img_labels.iloc[idx, 0])\n",
        "        image = (self.df.iloc[idx,1:].values)\n",
        "        image = torch.tensor(image)\n",
        "        label = self.img_labels.iloc[idx]\n",
        "        if self.transform:\n",
        "            image = self.transform(image)\n",
        "        if self.target_transform:\n",
        "            label = self.target_transform(label)\n",
        "        return image, label"
      ]
    },
    {
      "cell_type": "code",
      "source": [
        "t_data = pd.read_csv('/content/train/train.csv')"
      ],
      "metadata": {
        "id": "2UbfsJPD0HYv"
      },
      "execution_count": 11,
      "outputs": []
    },
    {
      "cell_type": "markdown",
      "source": [
        "# defining functions to find variance - covariance matrix"
      ],
      "metadata": {
        "id": "3hN7uFnD2Q5E"
      }
    },
    {
      "cell_type": "code",
      "source": [
        "import numpy as np"
      ],
      "metadata": {
        "id": "S52qpAox4WlP"
      },
      "execution_count": 14,
      "outputs": []
    },
    {
      "cell_type": "code",
      "source": [
        "# def v_cv(x):\n",
        "#     one = np.ones((x.shape[0],1))\n",
        "#     print(one.shape)\n",
        "#     i = np.identity(x.shape[1])\n",
        "#     one_mat = one @ np.transpose(one)\n",
        "#     print(one_mat,one_mat.shape)\n",
        "#     one_mat = (1/x.shape[0])*one_mat\n",
        "#     print(one_mat,one_mat.shape)\n",
        "#     print(np.transpose(x).shape,(i - one_mat).shape,x.shape)\n",
        "#     vc_mat = np.transpose(x) @ (i - one_mat) @ x\n",
        "#     vc_mat = (1/(x.shape[0]-1)) * vc_mat\n",
        "\n",
        "#     return vc_mat"
      ],
      "metadata": {
        "id": "WPtZw5O12PXG"
      },
      "execution_count": null,
      "outputs": []
    },
    {
      "cell_type": "code",
      "source": [
        "# v_cv(t_mat)"
      ],
      "metadata": {
        "id": "9o1Kjxzn-eem"
      },
      "execution_count": null,
      "outputs": []
    },
    {
      "cell_type": "code",
      "source": [
        "eig_val,eig_vec = np.linalg.eig(np.array((t_data.drop(t_data.columns[0],axis = 1)).cov()))"
      ],
      "metadata": {
        "id": "pXZVpcGVBFsU"
      },
      "execution_count": 22,
      "outputs": []
    },
    {
      "cell_type": "code",
      "source": [
        "print(eig_vec[2])"
      ],
      "metadata": {
        "colab": {
          "base_uri": "https://localhost:8080/"
        },
        "id": "jmI33VbeGl-S",
        "outputId": "8a8ff910-0af7-424d-f469-cd10bda4f2c3"
      },
      "execution_count": 43,
      "outputs": [
        {
          "output_type": "stream",
          "name": "stdout",
          "text": [
            "[0.+0.j 0.+0.j 0.+0.j 0.+0.j 0.+0.j 0.+0.j 0.+0.j 0.+0.j 0.+0.j 0.+0.j\n",
            " 0.+0.j 0.+0.j 0.+0.j 0.+0.j 0.+0.j 0.+0.j 0.+0.j 0.+0.j 0.+0.j 0.+0.j\n",
            " 0.+0.j 0.+0.j 0.+0.j 0.+0.j 0.+0.j 0.+0.j 0.+0.j 0.+0.j 0.+0.j 0.+0.j\n",
            " 0.+0.j 0.+0.j 0.+0.j 0.+0.j 0.+0.j 0.+0.j 0.+0.j 0.+0.j 0.+0.j 0.+0.j\n",
            " 0.+0.j 0.+0.j 0.+0.j 0.+0.j 0.+0.j 0.+0.j 0.+0.j 0.+0.j 0.+0.j 0.+0.j\n",
            " 0.+0.j 0.+0.j 0.+0.j 0.+0.j 0.+0.j 0.+0.j 0.+0.j 0.+0.j 0.+0.j 0.+0.j\n",
            " 0.+0.j 0.+0.j 0.+0.j 0.+0.j 0.+0.j 0.+0.j 0.+0.j 0.+0.j 0.+0.j 0.+0.j\n",
            " 0.+0.j 0.+0.j 0.+0.j 0.+0.j 0.+0.j 0.+0.j 0.+0.j 0.+0.j 0.+0.j 0.+0.j\n",
            " 0.+0.j 0.+0.j 0.+0.j 0.+0.j 0.+0.j 0.+0.j 0.+0.j 0.+0.j 0.+0.j 0.+0.j\n",
            " 0.+0.j 0.+0.j 0.+0.j 0.+0.j 0.+0.j 0.+0.j 0.+0.j 0.+0.j 0.+0.j 0.+0.j\n",
            " 0.+0.j 0.+0.j 0.+0.j 0.+0.j 0.+0.j 0.+0.j 0.+0.j 0.+0.j 0.+0.j 0.+0.j\n",
            " 0.+0.j 0.+0.j 0.+0.j 0.+0.j 0.+0.j 0.+0.j 0.+0.j 0.+0.j 0.+0.j 0.+0.j\n",
            " 0.+0.j 0.+0.j 0.+0.j 0.+0.j 0.+0.j 0.+0.j 0.+0.j 0.+0.j 0.+0.j 0.+0.j\n",
            " 0.+0.j 0.+0.j 0.+0.j 0.+0.j 0.+0.j 0.+0.j 0.+0.j 0.+0.j 0.+0.j 0.+0.j\n",
            " 0.+0.j 0.+0.j 0.+0.j 0.+0.j 0.+0.j 0.+0.j 0.+0.j 0.+0.j 0.+0.j 0.+0.j\n",
            " 0.+0.j 0.+0.j 0.+0.j 0.+0.j 0.+0.j 0.+0.j 0.+0.j 0.+0.j 0.+0.j 0.+0.j\n",
            " 0.+0.j 0.+0.j 0.+0.j 0.+0.j 0.+0.j 0.+0.j 0.+0.j 0.+0.j 0.+0.j 0.+0.j\n",
            " 0.+0.j 0.+0.j 0.+0.j 0.+0.j 0.+0.j 0.+0.j 0.+0.j 0.+0.j 0.+0.j 0.+0.j\n",
            " 0.+0.j 0.+0.j 0.+0.j 0.+0.j 0.+0.j 0.+0.j 0.+0.j 0.+0.j 0.+0.j 0.+0.j\n",
            " 0.+0.j 0.+0.j 0.+0.j 0.+0.j 0.+0.j 0.+0.j 0.+0.j 0.+0.j 0.+0.j 0.+0.j\n",
            " 0.+0.j 0.+0.j 0.+0.j 0.+0.j 0.+0.j 0.+0.j 0.+0.j 0.+0.j 0.+0.j 0.+0.j\n",
            " 0.+0.j 0.+0.j 0.+0.j 0.+0.j 0.+0.j 0.+0.j 0.+0.j 0.+0.j 0.+0.j 0.+0.j\n",
            " 0.+0.j 0.+0.j 0.+0.j 0.+0.j 0.+0.j 0.+0.j 0.+0.j 0.+0.j 0.+0.j 0.+0.j\n",
            " 0.+0.j 0.+0.j 0.+0.j 0.+0.j 0.+0.j 0.+0.j 0.+0.j 0.+0.j 0.+0.j 0.+0.j\n",
            " 0.+0.j 0.+0.j 0.+0.j 0.+0.j 0.+0.j 0.+0.j 0.+0.j 0.+0.j 0.+0.j 0.+0.j\n",
            " 0.+0.j 0.+0.j 0.+0.j 0.+0.j 0.+0.j 0.+0.j 0.+0.j 0.+0.j 0.+0.j 0.+0.j\n",
            " 0.+0.j 0.+0.j 0.+0.j 0.+0.j 0.+0.j 0.+0.j 0.+0.j 0.+0.j 0.+0.j 0.+0.j\n",
            " 0.+0.j 0.+0.j 0.+0.j 0.+0.j 0.+0.j 0.+0.j 0.+0.j 0.+0.j 0.+0.j 0.+0.j\n",
            " 0.+0.j 0.+0.j 0.+0.j 0.+0.j 0.+0.j 0.+0.j 0.+0.j 0.+0.j 0.+0.j 0.+0.j\n",
            " 0.+0.j 0.+0.j 0.+0.j 0.+0.j 0.+0.j 0.+0.j 0.+0.j 0.+0.j 0.+0.j 0.+0.j\n",
            " 0.+0.j 0.+0.j 0.+0.j 0.+0.j 0.+0.j 0.+0.j 0.+0.j 0.+0.j 0.+0.j 0.+0.j\n",
            " 0.+0.j 0.+0.j 0.+0.j 0.+0.j 0.+0.j 0.+0.j 0.+0.j 0.+0.j 0.+0.j 0.+0.j\n",
            " 0.+0.j 0.+0.j 0.+0.j 0.+0.j 0.+0.j 0.+0.j 0.+0.j 0.+0.j 0.+0.j 0.+0.j\n",
            " 0.+0.j 0.+0.j 0.+0.j 0.+0.j 0.+0.j 0.+0.j 0.+0.j 0.+0.j 0.+0.j 0.+0.j\n",
            " 0.+0.j 0.+0.j 0.+0.j 0.+0.j 0.+0.j 0.+0.j 0.+0.j 0.+0.j 0.+0.j 0.+0.j\n",
            " 0.+0.j 0.+0.j 0.+0.j 0.+0.j 0.+0.j 0.+0.j 0.+0.j 0.+0.j 0.+0.j 0.+0.j\n",
            " 0.+0.j 0.+0.j 0.+0.j 0.+0.j 0.+0.j 0.+0.j 0.+0.j 0.+0.j 0.+0.j 0.+0.j\n",
            " 0.+0.j 0.+0.j 0.+0.j 0.+0.j 0.+0.j 0.+0.j 0.+0.j 0.+0.j 0.+0.j 0.+0.j\n",
            " 0.+0.j 0.+0.j 0.+0.j 0.+0.j 0.+0.j 0.+0.j 0.+0.j 0.+0.j 0.+0.j 0.+0.j\n",
            " 0.+0.j 0.+0.j 0.+0.j 0.+0.j 0.+0.j 0.+0.j 0.+0.j 0.+0.j 0.+0.j 0.+0.j\n",
            " 0.+0.j 0.+0.j 0.+0.j 0.+0.j 0.+0.j 0.+0.j 0.+0.j 0.+0.j 0.+0.j 0.+0.j\n",
            " 0.+0.j 0.+0.j 0.+0.j 0.+0.j 0.+0.j 0.+0.j 0.+0.j 0.+0.j 0.+0.j 0.+0.j\n",
            " 0.+0.j 0.+0.j 0.+0.j 0.+0.j 0.+0.j 0.+0.j 0.+0.j 0.+0.j 0.+0.j 0.+0.j\n",
            " 0.+0.j 0.+0.j 0.+0.j 0.+0.j 0.+0.j 0.+0.j 0.+0.j 0.+0.j 0.+0.j 0.+0.j\n",
            " 0.+0.j 0.+0.j 0.+0.j 0.+0.j 0.+0.j 0.+0.j 0.+0.j 0.+0.j 0.+0.j 0.+0.j\n",
            " 0.+0.j 0.+0.j 0.+0.j 0.+0.j 0.+0.j 0.+0.j 0.+0.j 0.+0.j 0.+0.j 0.+0.j\n",
            " 0.+0.j 0.+0.j 0.+0.j 0.+0.j 0.+0.j 0.+0.j 0.+0.j 0.+0.j 0.+0.j 0.+0.j\n",
            " 0.+0.j 0.+0.j 0.+0.j 0.+0.j 0.+0.j 0.+0.j 0.+0.j 0.+0.j 0.+0.j 0.+0.j\n",
            " 0.+0.j 0.+0.j 0.+0.j 0.+0.j 0.+0.j 0.+0.j 0.+0.j 0.+0.j 0.+0.j 0.+0.j\n",
            " 0.+0.j 0.+0.j 0.+0.j 0.+0.j 0.+0.j 0.+0.j 0.+0.j 0.+0.j 0.+0.j 0.+0.j\n",
            " 0.+0.j 0.+0.j 0.+0.j 0.+0.j 0.+0.j 0.+0.j 0.+0.j 0.+0.j 0.+0.j 0.+0.j\n",
            " 0.+0.j 0.+0.j 0.+0.j 0.+0.j 0.+0.j 0.+0.j 0.+0.j 0.+0.j 0.+0.j 0.+0.j\n",
            " 0.+0.j 0.+0.j 0.+0.j 0.+0.j 0.+0.j 0.+0.j 0.+0.j 0.+0.j 0.+0.j 0.+0.j\n",
            " 0.+0.j 0.+0.j 0.+0.j 0.+0.j 0.+0.j 0.+0.j 0.+0.j 0.+0.j 0.+0.j 0.+0.j\n",
            " 0.+0.j 0.+0.j 0.+0.j 0.+0.j 0.+0.j 0.+0.j 0.+0.j 0.+0.j 0.+0.j 0.+0.j\n",
            " 0.+0.j 0.+0.j 0.+0.j 0.+0.j 0.+0.j 0.+0.j 0.+0.j 0.+0.j 0.+0.j 0.+0.j\n",
            " 0.+0.j 0.+0.j 0.+0.j 0.+0.j 0.+0.j 0.+0.j 0.+0.j 0.+0.j 0.+0.j 0.+0.j\n",
            " 0.+0.j 0.+0.j 0.+0.j 0.+0.j 0.+0.j 0.+0.j 0.+0.j 0.+0.j 0.+0.j 0.+0.j\n",
            " 0.+0.j 0.+0.j 0.+0.j 0.+0.j 0.+0.j 0.+0.j 0.+0.j 0.+0.j 0.+0.j 0.+0.j\n",
            " 0.+0.j 0.+0.j 0.+0.j 0.+0.j 0.+0.j 0.+0.j 0.+0.j 0.+0.j 0.+0.j 0.+0.j\n",
            " 0.+0.j 0.+0.j 0.+0.j 0.+0.j 0.+0.j 0.+0.j 0.+0.j 0.+0.j 0.+0.j 0.+0.j\n",
            " 0.+0.j 0.+0.j 0.+0.j 0.+0.j 0.+0.j 0.+0.j 0.+0.j 0.+0.j 0.+0.j 0.+0.j\n",
            " 0.+0.j 0.+0.j 0.+0.j 0.+0.j 0.+0.j 0.+0.j 0.+0.j 0.+0.j 0.+0.j 0.+0.j\n",
            " 0.+0.j 0.+0.j 0.+0.j 0.+0.j 0.+0.j 0.+0.j 0.+0.j 0.+0.j 0.+0.j 0.+0.j\n",
            " 0.+0.j 0.+0.j 0.+0.j 0.+0.j 0.+0.j 0.+0.j 0.+0.j 0.+0.j 0.+0.j 0.+0.j\n",
            " 0.+0.j 0.+0.j 0.+0.j 0.+0.j 0.+0.j 0.+0.j 0.+0.j 0.+0.j 0.+0.j 0.+0.j\n",
            " 0.+0.j 0.+0.j 0.+0.j 0.+0.j 0.+0.j 0.+0.j 0.+0.j 0.+0.j 0.+0.j 0.+0.j\n",
            " 0.+0.j 0.+0.j 0.+0.j 0.+0.j 0.+0.j 0.+0.j 0.+0.j 0.+0.j 0.+0.j 0.+0.j\n",
            " 0.+0.j 0.+0.j 0.+0.j 0.+0.j 0.+0.j 0.+0.j 0.+0.j 0.+0.j 0.+0.j 0.+0.j\n",
            " 0.+0.j 0.+0.j 0.+0.j 0.+0.j 0.+0.j 0.+0.j 0.+0.j 0.+0.j 0.+0.j 0.+0.j\n",
            " 0.+0.j 0.+0.j 0.+0.j 0.+0.j 0.-0.j 0.+0.j 0.+0.j 0.+0.j 0.+0.j 0.+0.j\n",
            " 0.+0.j 1.+0.j 0.+0.j 0.+0.j 0.+0.j 0.+0.j 0.+0.j 0.+0.j 0.+0.j 0.+0.j\n",
            " 0.+0.j 0.+0.j 0.+0.j 0.+0.j 0.+0.j 0.+0.j 0.+0.j 0.+0.j 0.+0.j 0.+0.j\n",
            " 0.+0.j 0.+0.j 0.+0.j 0.+0.j 0.+0.j 0.+0.j 0.+0.j 0.+0.j 0.+0.j 0.+0.j\n",
            " 0.+0.j 0.+0.j 0.+0.j 0.+0.j 0.+0.j 0.+0.j 0.+0.j 0.+0.j 0.+0.j 0.+0.j\n",
            " 0.+0.j 0.+0.j 0.+0.j 0.+0.j 0.+0.j 0.+0.j 0.+0.j 0.+0.j 0.+0.j 0.+0.j\n",
            " 0.+0.j 0.+0.j 0.+0.j 0.+0.j 0.+0.j 0.+0.j 0.+0.j 0.+0.j 0.+0.j 0.+0.j\n",
            " 0.+0.j 0.+0.j 0.+0.j 0.+0.j 0.+0.j 0.+0.j 0.+0.j 0.+0.j 0.+0.j 0.+0.j\n",
            " 0.+0.j 0.+0.j 0.+0.j 0.+0.j]\n"
          ]
        }
      ]
    },
    {
      "cell_type": "code",
      "source": [
        "print(eig_val)"
      ],
      "metadata": {
        "colab": {
          "base_uri": "https://localhost:8080/"
        },
        "id": "jo1KCAWiEwVz",
        "outputId": "3375790d-643f-41d2-c29d-bb2c2ca0b111"
      },
      "execution_count": 32,
      "outputs": [
        {
          "output_type": "stream",
          "name": "stdout",
          "text": [
            "[(194165.70395065786+0j), (135685.66387624815+0j), (108787.49732037348+0j), (89093.04148178102+0j), (83925.8958696194+0j), (67765.96930267608+0j), (59356.450104055264+0j), (50946.69745884015+0j), (49591.457891466045+0j), (41959.696192331416+0j), (39425.82519612779+0j), (35107.434362768574+0j), (33478.30899280245+0j), (29445.268564938753+0j), (28762.411246649353+0j), (27390.747899429418+0j), (26164.942329439+0j), (25780.250587595016+0j), (24833.753100646212+0j), (24548.62068490243+0j), (22986.9255280189+0j), (22389.88084229524+0j), (20876.413619251332+0j), (20484.15750234619+0j), (19868.21015058615+0j), (19466.830360643737+0j), (18955.94958928055+0j), (17950.072247495995+0j), (17499.455549885442+0j), (17014.952861962967+0j), (16319.909535890956+0j), (16258.518238214974+0j), (15987.518468623839+0j), (15532.551925187658+0j), (15008.400872282646+0j), (14600.822355371769+0j), (14065.783205558424+0j), (13771.7612155243+0j), (13332.984467313965+0j), (12885.288700605237+0j), (12544.244586387927+0j), (12242.586315637742+0j), (11930.362891624109+0j), (11920.095532640393+0j), (11638.612005710835+0j), (11330.642878066055+0j), (11084.79593071749+0j), (11045.33356010315+0j), (10803.145208170561+0j), (10526.505852007405+0j), (10328.647807883182+0j), (10134.58686947169+0j), (10181.364702473906+0j), (9983.03667999171+0j), (9906.650863959125+0j), (9413.06282725471+0j), (9243.100960450798+0j), (8997.968917604247+0j), (8872.910919712023+0j), (8794.410302082752+0j), (8579.795395749703+0j), (8398.588238120617+0j), (8321.453990776385+0j), (8175.643918193855+0j), (8008.672622768425+0j), (7903.218390311296+0j), (7784.7801200884305+0j), (7615.1237745337485+0j), (7419.915779003647+0j), (7281.595450738811+0j), (7231.838443698255+0j), (7097.059482654702+0j), (6990.479143021701+0j), (6831.9148783215705+0j), (6779.099597171157+0j), (6706.088223249712+0j), (6367.385336423469+0j), (6526.68485546358+0j), (6503.295120505087+0j), (6323.703466774618+0j), (6126.950931371928+0j), (6209.913794670165+0j), (5938.687251110521+0j), (5876.92137848908+0j), (5795.738636954087+0j), (5710.2738241691595+0j), (5613.66351529317+0j), (5516.603269541285+0j), (5537.529493901419+0j), (5440.249399916877+0j), (5382.116875653877+0j), (5346.825433389497+0j), (5112.384542325072+0j), (5077.872796707233+0j), (5273.5279718172105+0j), (5243.557518207192+0j), (4957.491209799118+0j), (4856.1421986640935+0j), (4865.2010614403225+0j), (4801.778458744402+0j), (4766.645044244614+0j), (4641.136501220689+0j), (4604.891048986545+0j), (4515.692226852548+0j), (4411.199862562221+0j), (4368.346448022016+0j), (4273.541881497018+0j), (4230.198509801444+0j), (4103.980201225148+0j), (4109.099465436843+0j), (4141.7278555143985+0j), (4002.307904607466+0j), (3973.3645283828723+0j), (3931.4277983449174+0j), (3904.042564374613+0j), (3866.736292746975+0j), (3812.974861221356+0j), (3706.7897686804577+0j), (3749.770681973557+0j), (3149.420985926722+0j), (3647.004181520728+0j), (3214.0383591740438+0j), (3414.2412061477503+0j), (3345.3940923646+0j), (3362.239792291761+0j), (3557.1092180307883+0j), (3741.2884230231016+0j), (3259.8807642184074+0j), (3179.9071476889303+0j), (3527.5050375189535+0j), (3490.0050277181585+0j), (3464.553091280501+0j), (3539.599598327626+0j), (3114.4174269744963+0j), (3087.856027876968+0j), (3011.54553514461+0j), (2988.223810035811+0j), (2963.8130067447314+0j), (2918.312997378392+0j), (2881.163040519693+0j), (2853.6756220093557+0j), (2829.70368011214+0j), (2790.7127000266782+0j), (2756.123631935551+0j), (2734.3067154391438+0j), (2721.2002236920057+0j), (2668.777168940033+0j), (2661.7846735124285+0j), (2615.296416330249+0j), (2583.2053745216754+0j), (2563.9565624853867+0j), (2539.0096523710504+0j), (2521.78682300904+0j), (2491.8635146076604+0j), (2470.3279256097085+0j), (2422.613858084262+0j), (2389.8928747669006+0j), (2405.1628971372606+0j), (2362.314562009874+0j), (2318.0393550864264+0j), (2359.9320530535074+0j), (2286.6339248600993+0j), (2276.1338468259746+0j), (2240.2528050073083+0j), (2213.089573600242+0j), (2205.1731366909307+0j), (2191.8741264418995+0j), (2181.2048148329254+0j), (2134.435093619553+0j), (2104.028869782236+0j), (2107.2741474781756+0j), (2086.2652735771644+0j), (2058.922121686456+0j), (2044.9471935454967+0j), (1634.5576590104981+0j), (1651.8219155689492+0j), (2018.6035751274276+0j), (1979.9633431721502+0j), (1963.5266926198742+0j), (1940.0831534699055+0j), (1671.8313140694002+0j), (1683.0704738494896+0j), (1898.8313342794859+0j), (1866.1028990157306+0j), (1909.763513765703+0j), (1844.0299534098833+0j), (1918.6423783710122+0j), (2026.834945037206+0j), (1738.835832469376+0j), (1722.0892963996037+0j), (1706.4656990610356+0j), (1806.283436670637+0j), (1823.9917002243483+0j), (1776.0621795850843+0j), (1791.1499811500994+0j), (1766.6639723561195+0j), (1749.0862456140203+0j), (1623.300928306236+0j), (1606.059254707447+0j), (1589.0730147149789+0j), (1571.2548413067423+0j), (1563.9813843900886+0j), (1542.427032548042+0j), (1503.481139511211+0j), (1530.9080871753865+0j), (1527.8724506240937+0j), (1497.897926042978+0j), (1467.7565549780818+0j), (1465.0709332513943+0j), (1446.5423820304866+0j), (1431.1523876397835+0j), (1407.690766373198+0j), (1422.2881637434034+0j), (1381.9079541404683+0j), (1365.6349811591142+0j), (1375.5843900706711+0j), (1357.2443200449534+0j), (1339.6999795728686+0j), (1087.6719537545132+0j), (1099.3128876923981+0j), (1323.6817718838706+0j), (1315.7858990660527+0j), (1307.4246806751435+0j), (1287.8643375224515+0j), (1105.967038030498+0j), (1126.2503500079974+0j), (1140.6710897523628+0j), (1148.2788315359487+0j), (1271.962123206602+0j), (1110.7725972761796+0j), (1255.0248420403311+0j), (1184.3822160534003+0j), (1230.9408747484501+0j), (1210.2837581315368+0j), (1205.0314723162237+0j), (1118.2313012615577+0j), (1243.1593191904287+0j), (1270.3832737914884+0j), (1166.073110572763+0j), (1199.2546643081166+0j), (1178.4647853250722+0j), (1249.1121285328795+0j), (1073.1767758015458+0j), (1063.71296029774+0j), (1060.7878748524274+0j), (1050.713158558374+0j), (1055.2538037880352+0j), (1036.7682959692847+0j), (804.507134612472+0j), (1030.2090045178486+0j), (1012.2034544439847+0j), (1003.4072131009759+0j), (811.5611185548893+0j), (817.498927109197+0j), (995.1415562650121+0j), (826.8378419037771+0j), (976.805328417743+0j), (988.3092200165561+0j), (971.0965067800053+0j), (840.7080763740765+0j), (961.7631396405053+0j), (957.7918978125953+0j), (944.8504090697206+0j), (846.9737484413566+0j), (862.1609020200675+0j), (849.7650675053865+0j), (931.6041783964238+0j), (919.6381279921401+0j), (870.7815424308125+0j), (886.3995678972116+0j), (882.6251455082463+0j), (911.7454595793489+0j), (873.2230863922633+0j), (927.0348291163364+0j), (879.031782131559+0j), (893.725691260243+0j), (904.9631902512583+0j), (907.601076491653+0j), (647.9189428988765+0j), (653.2556865003962+0j), (658.6680375504563+0j), (664.428953049811+0j), (670.1177229672855+0j), (674.7855324654339+0j), (796.2655133386835+0j), (788.7964480972934+0j), (779.8524179522628+0j), (770.3026261095297+0j), (767.8415582407525+0j), (690.1620448847899+0j), (686.5723325590685+0j), (697.3393364356053+0j), (700.6967802435416+0j), (757.359138079967+0j), (723.9342778825181+0j), (734.2353986365586+0j), (703.5641278799407+0j), (750.3074776299442+0j), (754.0453200333418+0j), (739.9220702541403+0j), (713.1294563448363+0j), (717.4768705794464+0j), (735.6662196209857+0j), (751.4148903973578+0j), (715.378681940825+0j), (541.5256689520022+0j), (550.9883615867373+0j), (554.9111031093729+0j), (560.5443168548591+0j), (562.6578643321326+0j), (571.1713918989516+0j), (573.8069583184113+0j), (578.1470629816533+0j), (580.2095943470499+0j), (583.956287868652+0j), (593.2140147516243+0j), (611.7158723864629+0j), (607.1322013717094+0j), (629.6499460655496+0j), (627.2592135535365+0j), (636.9093000012494+0j), (616.5263975722004+0j), (597.4274820405705+0j), (619.0757858337032+0j), (599.8497756846394+0j), (644.5499639185261+0j), (681.587727259697+0j), (470.8035021816611+0j), (473.88198902816237+0j), (482.35204804122895+0j), (485.12292682230657+0j), (485.4541388124797+0j), (494.68746723228526+0j), (491.99085418452364+0j), (490.01676065657307+0j), (497.88107917496706+0j), (508.07875050057356+0j), (511.89094375734373+0j), (518.0089035415193+0j), (516.548661051862+0j), (530.2617739935832+0j), (538.9593256510717+0j), (533.3784355315998+0j), (526.387211935377+0j), (521.7093950778559+0j), (414.9423000306287+0j), (417.0015708042058+0j), (420.4872854713373+0j), (421.1379259425225+0j), (425.3899966078719+0j), (430.6235648001873+0j), (434.77345748582707+0j), (443.37698123813766+0j), (444.79302979288866+0j), (448.44618896868514+0j), (451.87821502330496+0j), (455.0014099169467+0j), (463.7880058887171+0j), (466.9554668654999+0j), (449.6015930718775+0j), (361.3218318423317+0j), (364.01892306931444+0j), (366.5621529890209+0j), (369.29406076439074+0j), (374.80876355896424+0j), (370.40914094149133+0j), (385.2611395032327+0j), (377.3970254964803+0j), (381.0777961372722+0j), (391.57275003104496+0j), (396.5447423488279+0j), (400.24702435278203+0j), (406.09602798195505+0j), (413.11112071421564+0j), (302.28990888515693+0j), (306.42364863003235+0j), (306.9136835117939+0j), (309.1863223551308+0j), (314.3379642358845+0j), (322.4955756078001+0j), (326.23873514797833+0j), (331.02228693858126+0j), (353.89234840423876+0j), (338.8744534321698+0j), (345.5450006372196+0j), (342.7459727967296+0j), (349.45809330780315+0j), (312.6764048741951+0j), (328.4155973987534+0j), (340.192561964128+0j), (350.83442081021957+0j), (237.5202433740161+0j), (298.19549027513426+0j), (297.24141771301805+0j), (293.8508256789332+0j), (241.07825535805497+0j), (274.7600523920927+0j), (274.07118597916275+0j), (278.15725506528474+0j), (246.18964042850556+0j), (249.5327210602195+0j), (288.2342267404357+0j), (252.11995491294783+0j), (267.11170521786124+0j), (260.5625294336514+0j), (262.61675829122396+0j), (264.48198926310795+0j), (284.52722418601576+0j), (285.7396360396454+0j), (282.45326710184554+0j), (258.84224325092055+0j), (243.9868508647578+0j), (247.14768921096618+0j), (235.91955004400958+0j), (236.5133705733007+0j), (228.7914647149116+0j), (225.35726106280165+0j), (232.0020944472398+0j), (231.34458058027442+0j), (220.51192888653293+0j), (216.94952228507086+0j), (215.4389439907526+0j), (213.3504846296208+0j), (211.76941636389736+0j), (209.77696507413674+0j), (203.3143759374617+0j), (201.72037936594973+0j), (198.1259778901731+0j), (194.77012367637218+0j), (199.30432860665206+0j), (192.91792287360167+0j), (194.3317114725057+0j), (191.33130493931148+0j), (188.76193681915552+0j), (177.59078876450153+0j), (183.57852252335792+0j), (185.43288036929664+0j), (173.70839611944174+0j), (169.28355893998108+0j), (171.0708957039979+0j), (171.225919576337+0j), (165.20609342798895+0j), (166.9964236770229+0j), (163.65039225374423+0j), (160.1442819557579+0j), (161.92211973191897+0j), (161.31141186514296+0j), (156.57356345404327+0j), (152.76098799835717+0j), (152.43855601653203+0j), (149.69938276379318+0j), (148.06923004574722+0j), (147.53335127047407+0j), (150.16060258706193+0j), (143.53403169402102+0j), (141.82093667846337+0j), (138.32856301234486+0j), (130.59429917771928+0j), (131.7046675384123+0j), (135.7665448789818+0j), (135.59553434146406+0j), (135.01754871840527+0j), (126.34033070904702+0j), (125.89506536341452+0j), (121.96372054741876+0j), (124.51806515389228+0j), (120.24447890822154+0j), (117.8581612386953+0j), (117.03605507165994+0j), (113.30517267396235+0j), (115.96396735909181+0j), (115.1085166637799+0j), (118.15014794092676+0j), (110.40485791734945+0j), (108.50877124587+0j), (114.7210614741988+0j), (114.2340393894142+0j), (108.03032010385063+0j), (104.70397962266092+0j), (104.90408921457005+0j), (105.83317181098352+0j), (62.960838023061974+0j), (63.96326596484231+0j), (64.5775736552318+0j), (65.28561112898564+0j), (102.47533457352002+0j), (100.4572290113299+0j), (99.12646167866318+0j), (98.00336512323086+0j), (95.22166973520262+0j), (93.47658090165886+0j), (66.87860732302734+0j), (100.14940500477064+0j), (67.3832495798386+0j), (92.11451003198117+0j), (91.17962318700387+0j), (67.76046943531652+0j), (69.0517666166481+0j), (69.55803793707773+0j), (71.04827771914194+0j), (80.94592609532619+0j), (83.60654034715219+0j), (87.74518278326153+0j), (87.0936119229374+0j), (84.18981320370847+0j), (86.19432315556782+0j), (78.12743299992665+0j), (74.98416268344167+0j), (73.30281296837005+0j), (72.51914801100169+0j), (84.75586864342435+0j), (79.30191166210604+0j), (76.35237518048947+0j), (75.46727181002048+0j), (72.55487297982525+0j), (88.29990248394796+0j), (76.629202189581+0j), (52.2067596866132+0j), (55.15569109731094+0j), (56.39174012364899+0j), (57.02189817957906+0j), (59.52822734220332+0j), (60.87194156247922+0j), (61.18682348210293+0j), (62.22710958301549+0j), (38.07652379891851+0j), (39.06889391567086+0j), (51.71324016872735+0j), (50.838462937720514+0j), (43.10023070193182+0j), (43.92421405566465+0j), (41.68716062735048+0j), (39.81945450226488+0j), (44.908168483372215+0j), (40.68495413394503+0j), (49.78812133407489+0j), (49.148018866284254+0j), (49.57386919498229+0j), (48.10486199859056+0j), (39.498330847009974+0j), (46.698579279631694+0j), (47.62120915033019+0j), (40.32458597857297+0j), (45.724705737994334+0j), (48.47201986378448+0j), (47.7782993567589+0j), (37.850905417939906+0j), (37.458842707715355+0j), (37.090875089604644+0j), (36.18866346788195+0j), (34.290923188890794+0j), (37.03557207953382+0j), (35.922969106459924+0j), (35.460512637825836+0j), (35.59844565155467+0j), (31.609305996713864+0j), (30.63406485500172+0j), (30.379503192728336+0j), (33.593816144895605+0j), (32.19057460130558+0j), (33.08913314839133+0j), (23.086922008864573+0j), (25.24283180957419+0j), (26.160740945857665+0j), (23.351511926921713+0j), (32.685703428510756+0j), (28.017735632189986+0j), (27.48268152827004+0j), (28.318506597070577+0j), (28.21832246863802+0j), (27.20535596630748+0j), (33.32158687907618+0j), (24.640062692055693+0j), (23.893675906837498+0j), (27.327097291569782+0j), (21.99213900838035+0j), (21.795116282675572+0j), (21.177912711882502+0j), (20.8749115290628+0j), (20.647052367972805+0j), (20.5863630453557+0j), (20.187191083249147+0j), (19.247964662711603+0j), (19.112698015017084+0j), (18.887819249549896+0j), (18.695711011844093+0j), (18.55783524872416+0j), (16.998016910647127+0j), (16.796554076724263+0j), (16.084829660635453+0j), (16.534674769122276+0j), (15.388609343235483+0j), (15.067786171253303+0j), (14.862142953553935+0j), (14.848637427184439+0j), (13.31664215470235+0j), (13.75678798100326+0j), (14.216027898082437+0j), (14.571819647544814+0j), (14.504597547019632+0j), (13.439687837420932+0j), (12.633135091014072+0j), (12.55654093313824+0j), (11.599347468263772+0j), (12.418440262127058+0j), (12.281567156711223+0j), (11.996650524333104+0j), (10.437198536111424+0j), (10.285600998038605+0j), (10.343188395394595+0j), (9.53293484743464+0j), (9.443667950501304+0j), (8.163095601257607+0j), (8.289944772136204+0j), (9.091669463365198+0j), (9.239469959717088+0j), (8.742637251384526+0j), (8.71763146774516+0j), (9.174287567697538+0j), (8.416711641777178+0j), (7.781356527854393+0j), (6.947198825413761+0j), (7.101970487026193+0j), (7.732206956924822+0j), (7.146306176053574+0j), (6.704296507936783+0j), (6.894266562707433+0j), (6.198846144655382+0j), (6.060162185884645+0j), (6.1289449164800756+0j), (5.7581231729550835+0j), (5.7901411011852195+0j), (5.814977258062708+0j), (5.040555893618955+0j), (4.941927348913857+0j), (4.8812181698195625+0j), (4.506849789196123+0j), (4.305084267907863+0j), (4.109359391299818+0j), (4.063214993342307+0j), (4.045642458148653+0j), (4.031217250758213+0j), (3.8671378055583285+0j), (3.76204332600177+0j), (3.2636729358329135+0j), (3.1699116232871365+0j), (3.1005980815968424+0j), (3.044483771895973+0j), (2.9997196712893044+0j), (2.8405123550035762+0j), (2.638225100327063+0j), (2.780482196579256+0j), (2.543769758191965+0j), (2.460892037169936+0j), (2.4231758821281644+0j), (2.310865978773846+0j), (2.2375840853697473+0j), (2.0561982977489555+0j), (2.0138938482940314+0j), (1.9799963549011428+0j), (1.9201848897292053+0j), (1.8574863632360328+0j), (1.6318758619310414+0j), (1.811470877126585+0j), (1.4504022256975913+0j), (1.5708890110489384+0j), (1.5184400679427073+0j), (1.3965049025690626+0j), (1.2636252716207215+0j), (0.15620991418066582+0j), (1.1320467756084034+0j), (0.24413752902111086+0j), (0.19725935464459193+0j), (0.0833526163073142+0j), (0.060885820570104034+0j), (0.16981014123340063+0j), (0.07207509677866084+0j), (1.0737744746133948+0j), (1.0464055962185914+0j), (0.0163187181369796+0j), (0.31974584370273496+0j), (1.0277424882418655+0j), (0.8552502429512404+0j), (0.7178175523611806+0j), (0.7616212984391396+0j), (0.019719572380170077+0j), (0.8831993386866873+0j), (0.6451839009024432+0j), (0.9960506240712867+0j), (0.5356421747597998+0j), (0.5865677640692504+0j), (0.002457474826507708+0j), (0.913884891544705+0j), (0.4782329676830541+0j), (0.37439840300578253+0j), (0.4178994183482537+0j), (0.4512116375943651+0j), (0.44118748550547016+0j), (0.5784967576436773+0j), (0.3945855875488408+0j), (0.42486296847595634+0j), (3.296955957004734e-06+0j), (2.3269714608446024e-14+0j), (-7.23505389083761e-15+1.066997991807204e-14j), (-7.23505389083761e-15-1.066997991807204e-14j), (1.1667704457658659+0j), (1.1570577355219742+0j), (1.146052989969254+0j), (0.9561328936000576+0j), 0j, 0j, 0j, 0j, 0j, 0j, 0j, 0j, 0j, 0j, 0j, 0j, 0j, 0j, 0j, 0j, 0j, 0j, 0j, 0j, 0j, 0j, 0j, 0j, 0j, 0j, 0j, 0j, 0j, 0j, 0j, 0j, 0j, 0j, 0j, 0j, 0j, 0j, 0j, 0j, 0j, 0j, 0j, 0j, 0j, 0j, 0j, 0j, 0j, 0j, 0j, 0j, 0j, 0j, 0j, 0j, 0j, 0j, 0j, 0j, 0j, 0j, 0j, 0j, 0j, 0j, 0j, 0j, 0j, 0j, 0j, 0j, 0j, 0j, 0j]\n"
          ]
        }
      ]
    },
    {
      "cell_type": "code",
      "source": [
        "print(len(list(eig_val)))"
      ],
      "metadata": {
        "colab": {
          "base_uri": "https://localhost:8080/"
        },
        "id": "rQRf4yC5Buyn",
        "outputId": "b78fd9fd-4b4e-4116-b0b3-b087a5d7e363"
      },
      "execution_count": 23,
      "outputs": [
        {
          "output_type": "stream",
          "name": "stdout",
          "text": [
            "784\n"
          ]
        }
      ]
    },
    {
      "cell_type": "code",
      "source": [
        "eig_val = list(eig_val)"
      ],
      "metadata": {
        "id": "FePjRPxYCQ_E"
      },
      "execution_count": 24,
      "outputs": []
    },
    {
      "cell_type": "code",
      "source": [
        "eig_val_caintrib = [i/sum(eig_val) for i in eig_val]"
      ],
      "metadata": {
        "id": "RNZMMPdqCN4E"
      },
      "execution_count": 25,
      "outputs": []
    },
    {
      "cell_type": "code",
      "source": [
        "x = [i for i in range(len(eig_val))]"
      ],
      "metadata": {
        "id": "hPFJk_7FCo84"
      },
      "execution_count": 28,
      "outputs": []
    },
    {
      "cell_type": "code",
      "source": [
        "import matplotlib.pyplot as plt\n",
        "\n",
        "plt.plot(x, eig_val_caintrib, 'o-', linewidth=2, color='blue')\n",
        "plt.title('Scree Plot')\n",
        "plt.xlabel('Principal Component')\n",
        "plt.ylabel('Variance Explained')\n",
        "plt.show()"
      ],
      "metadata": {
        "colab": {
          "base_uri": "https://localhost:8080/",
          "height": 509
        },
        "id": "6NUtzalUDBI0",
        "outputId": "28fa990a-5dd7-46b4-a882-c20a8c4f6086"
      },
      "execution_count": 30,
      "outputs": [
        {
          "output_type": "stream",
          "name": "stderr",
          "text": [
            "/usr/local/lib/python3.10/dist-packages/matplotlib/cbook/__init__.py:1335: ComplexWarning: Casting complex values to real discards the imaginary part\n",
            "  return np.asarray(x, float)\n"
          ]
        },
        {
          "output_type": "display_data",
          "data": {
            "text/plain": [
              "<Figure size 640x480 with 1 Axes>"
            ],
            "image/png": "[encoded data removed]"
          },
          "metadata": {}
        }
      ]
    },
    {
      "cell_type": "markdown",
      "source": [
        "## finding the maxium contributing eigenvalues (first K)"
      ],
      "metadata": {
        "id": "-uhAbM89DyC7"
      }
    },
    {
      "cell_type": "code",
      "source": [
        "sum = 0\n",
        "count = 0\n",
        "for i in eig_val_caintrib:\n",
        "    if sum > 0.85:\n",
        "        break\n",
        "    sum = sum+i\n",
        "    count = count + 1\n",
        "print(f\"The no fo eigenvalues that contribute {sum} sum is {count}\")"
      ],
      "metadata": {
        "colab": {
          "base_uri": "https://localhost:8080/"
        },
        "id": "Q7OVHlgCDsUz",
        "outputId": "e8876aad-95dd-4361-8621-effecf21adfa"
      },
      "execution_count": 31,
      "outputs": [
        {
          "output_type": "stream",
          "name": "stdout",
          "text": [
            "The no fo eigenvalues that contribute (0.8514765183226758+0j) sum is 121\n"
          ]
        }
      ]
    },
    {
      "cell_type": "code",
      "source": [
        "from sklearn.preprocessing import StandardScaler\n",
        "#define scaler\n",
        "scaler = StandardScaler()\n",
        "\n",
        "#create copy of DataFrame\n",
        "scaled_df=t_data.drop(t_data.columns[0],axis = 1).copy()\n",
        "\n",
        "#created scaled version of DataFrame\n",
        "scaled_df=pd.DataFrame(scaler.fit_transform(scaled_df), columns=scaled_df.columns)"
      ],
      "metadata": {
        "id": "kOY06AnM7Oxe"
      },
      "execution_count": 33,
      "outputs": []
    },
    {
      "cell_type": "code",
      "source": [
        "from sklearn.decomposition import PCA\n",
        "\n",
        "#define PCA model to use\n",
        "pca = PCA(n_components=784)\n",
        "\n",
        "#fit PCA model to data\n",
        "pca_fit = pca.fit(scaled_df)"
      ],
      "metadata": {
        "id": "9xTPEQae8BA3"
      },
      "execution_count": 34,
      "outputs": []
    },
    {
      "cell_type": "code",
      "source": [
        "\n",
        "import numpy as np\n",
        "\n",
        "PC_values = np.arange(pca.n_components_) + 1\n",
        "plt.plot(PC_values, pca.explained_variance_ratio_, 'o-', linewidth=2, color='blue')\n",
        "plt.title('Scree Plot')\n",
        "plt.xlabel('Principal Component')\n",
        "plt.ylabel('Variance Explained')\n",
        "plt.show()"
      ],
      "metadata": {
        "colab": {
          "base_uri": "https://localhost:8080/",
          "height": 472
        },
        "id": "6vX7l-7L8Fbu",
        "outputId": "7af8caed-489e-435e-d8a7-850bd36b812d"
      },
      "execution_count": 35,
      "outputs": [
        {
          "output_type": "display_data",
          "data": {
            "text/plain": [
              "<Figure size 640x480 with 1 Axes>"
            ],
            "image/png": "[encoded data removed]"
          },
          "metadata": {}
        }
      ]
    },
    {
      "cell_type": "code",
      "source": [
        "# Determine the number of components that explain a certain percentage of variance\n",
        "desired_variance = 0.85  # You can adjust this value as needed\n",
        "cumulative_variance = np.cumsum(pca.explained_variance_ratio_)\n",
        "best_n_components = np.argmax(cumulative_variance >= desired_variance) + 1\n",
        "\n",
        "print(f\"Number of components to explain {desired_variance*100}% variance: {best_n_components}\")"
      ],
      "metadata": {
        "colab": {
          "base_uri": "https://localhost:8080/"
        },
        "id": "fj1SZB2k9SJm",
        "outputId": "1c086c36-f8cd-458b-f3d9-1b8075911ce2"
      },
      "execution_count": 36,
      "outputs": [
        {
          "output_type": "stream",
          "name": "stdout",
          "text": [
            "Number of components to explain 85.0% variance: 262\n"
          ]
        }
      ]
    },
    {
      "cell_type": "code",
      "source": [
        "#define PCA model to use\n",
        "pca = PCA(n_components=121)\n",
        "\n",
        "#fit PCA model to data\n",
        "pca_fit = pca.fit(scaled_df)"
      ],
      "metadata": {
        "id": "5Ft2hub39k5v"
      },
      "execution_count": 37,
      "outputs": []
    },
    {
      "cell_type": "code",
      "source": [
        "PC_values = np.arange(pca.n_components_) + 1\n",
        "plt.plot(PC_values, pca.explained_variance_ratio_, 'o-', linewidth=2, color='blue')\n",
        "plt.title('Scree Plot')\n",
        "plt.xlabel('Principal Component')\n",
        "plt.ylabel('Variance Explained')\n",
        "plt.show()"
      ],
      "metadata": {
        "colab": {
          "base_uri": "https://localhost:8080/",
          "height": 472
        },
        "id": "XULHgc4T9sih",
        "outputId": "d4bd7fa9-5544-4678-bedf-585a268deae8"
      },
      "execution_count": 38,
      "outputs": [
        {
          "output_type": "display_data",
          "data": {
            "text/plain": [
              "<Figure size 640x480 with 1 Axes>"
            ],
            "image/png": "[encoded data removed]"
          },
          "metadata": {}
        }
      ]
    },
    {
      "cell_type": "markdown",
      "source": [
        "## Projecting the data"
      ],
      "metadata": {
        "id": "uoEk7xd2FqQL"
      }
    },
    {
      "cell_type": "code",
      "source": [
        "actual_data = t_data.drop(t_data.columns[0],axis = 1)"
      ],
      "metadata": {
        "id": "6rgxX9IJ0JEY"
      },
      "execution_count": 65,
      "outputs": []
    },
    {
      "cell_type": "code",
      "source": [
        "actual_data.shape"
      ],
      "metadata": {
        "colab": {
          "base_uri": "https://localhost:8080/"
        },
        "id": "cLcpBdk2HnCi",
        "outputId": "e214e328-1ceb-4970-8695-4aebfb304d5c"
      },
      "execution_count": 66,
      "outputs": [
        {
          "output_type": "execute_result",
          "data": {
            "text/plain": [
              "(60000, 784)"
            ]
          },
          "metadata": {},
          "execution_count": 66
        }
      ]
    },
    {
      "cell_type": "code",
      "source": [
        "projection_matrix = pd.DataFrame(eig_vec[0:121])"
      ],
      "metadata": {
        "id": "gJg_Uni5GAfq"
      },
      "execution_count": 67,
      "outputs": []
    },
    {
      "cell_type": "code",
      "source": [
        "projection_matrix = projection_matrix.T"
      ],
      "metadata": {
        "id": "Bf8TcEeZHUIa"
      },
      "execution_count": 68,
      "outputs": []
    },
    {
      "cell_type": "code",
      "source": [
        "projection_matrix."
      ],
      "metadata": {
        "colab": {
          "base_uri": "https://localhost:8080/"
        },
        "id": "A6gt-OP_IgG5",
        "outputId": "e5f872e2-0983-4889-8c32-88eea24d6250"
      },
      "execution_count": 69,
      "outputs": [
        {
          "output_type": "execute_result",
          "data": {
            "text/plain": [
              "(784, 121)"
            ]
          },
          "metadata": {},
          "execution_count": 69
        }
      ]
    },
    {
      "cell_type": "code",
      "source": [
        "projection_matrix.head()"
      ],
      "metadata": {
        "colab": {
          "base_uri": "https://localhost:8080/",
          "height": 342
        },
        "id": "egkKSPLVH9tj",
        "outputId": "7418effd-8f89-4ed0-c874-3709c4b36183"
      },
      "execution_count": 70,
      "outputs": [
        {
          "output_type": "execute_result",
          "data": {
            "text/plain": [
              "        0         1         2         3         4                   5    \\\n",
              "0  0.0+0.0j  0.0+0.0j  0.0+0.0j  0.0+0.0j  0.0+0.0j -0.000012+0.000000j   \n",
              "1  0.0+0.0j  0.0+0.0j  0.0+0.0j  0.0+0.0j  0.0+0.0j -0.000019+0.000000j   \n",
              "2  0.0+0.0j  0.0+0.0j  0.0+0.0j  0.0+0.0j  0.0+0.0j -0.000018+0.000000j   \n",
              "3  0.0+0.0j  0.0+0.0j  0.0+0.0j  0.0+0.0j  0.0+0.0j  0.000022+0.000000j   \n",
              "4  0.0+0.0j  0.0+0.0j  0.0+0.0j  0.0+0.0j  0.0+0.0j -0.000022+0.000000j   \n",
              "\n",
              "                  6                   7                   8    \\\n",
              "0 -0.000049+0.000000j -0.000048+0.000000j -0.000096+0.000000j   \n",
              "1 -0.000043+0.000000j -0.000067+0.000000j -0.000171+0.000000j   \n",
              "2 -0.000088+0.000000j -0.000124+0.000000j -0.000232+0.000000j   \n",
              "3  0.000069+0.000000j  0.000011+0.000000j  0.000070+0.000000j   \n",
              "4 -0.000101+0.000000j -0.000163+0.000000j -0.000271+0.000000j   \n",
              "\n",
              "                  9    ...                 111       112       113       114  \\\n",
              "0 -0.000150+0.000000j  ... -0.000025+0.000000j  0.0+0.0j  0.0+0.0j  0.0+0.0j   \n",
              "1 -0.000211+0.000000j  ...  0.000035+0.000000j  0.0+0.0j  0.0+0.0j  0.0+0.0j   \n",
              "2 -0.000403+0.000000j  ...  0.000013+0.000000j  0.0+0.0j  0.0+0.0j  0.0+0.0j   \n",
              "3  0.000139+0.000000j  ... -0.000016+0.000000j  0.0+0.0j  0.0+0.0j  0.0+0.0j   \n",
              "4 -0.000519+0.000000j  ...  0.000026+0.000000j  0.0+0.0j  0.0+0.0j  0.0+0.0j   \n",
              "\n",
              "        115                         116                 117  \\\n",
              "0  0.0+0.0j -5.746927e-07+0.000000e+00j -0.000138+0.000000j   \n",
              "1  0.0+0.0j -1.160619e-05+0.000000e+00j -0.000003+0.000000j   \n",
              "2  0.0+0.0j -2.200506e-05+0.000000e+00j -0.000111+0.000000j   \n",
              "3  0.0+0.0j -1.090998e-05+0.000000e+00j  0.000003+0.000000j   \n",
              "4  0.0+0.0j -8.332826e-06+0.000000e+00j -0.000027+0.000000j   \n",
              "\n",
              "                  118                 119                 120  \n",
              "0 -0.001555+0.000000j -0.005661+0.000000j -0.016967+0.000000j  \n",
              "1  0.000251+0.000000j  0.001142+0.000000j  0.003994+0.000000j  \n",
              "2 -0.001411+0.000000j -0.005803+0.000000j -0.018019+0.000000j  \n",
              "3  0.000233+0.000000j  0.000605+0.000000j -0.000368+0.000000j  \n",
              "4 -0.000704+0.000000j -0.003455+0.000000j -0.011757+0.000000j  \n",
              "\n",
              "[5 rows x 121 columns]"
            ],
            "text/html": [
              "\n",
              "  <div id=\"df-dc84d55b-15ec-4ec2-9a41-bf3da3d8d39a\" class=\"colab-df-container\">\n",
              "    <div>\n",
              "<style scoped>\n",
              "    .dataframe tbody tr th:only-of-type {\n",
              "        vertical-align: middle;\n",
              "    }\n",
              "\n",
              "    .dataframe tbody tr th {\n",
              "        vertical-align: top;\n",
              "    }\n",
              "\n",
              "    .dataframe thead th {\n",
              "        text-align: right;\n",
              "    }\n",
              "</style>\n",
              "<table border=\"1\" class=\"dataframe\">\n",
              "  <thead>\n",
              "    <tr style=\"text-align: right;\">\n",
              "      <th></th>\n",
              "      <th>0</th>\n",
              "      <th>1</th>\n",
              "      <th>2</th>\n",
              "      <th>3</th>\n",
              "      <th>4</th>\n",
              "      <th>5</th>\n",
              "      <th>6</th>\n",
              "      <th>7</th>\n",
              "      <th>8</th>\n",
              "      <th>9</th>\n",
              "      <th>...</th>\n",
              "      <th>111</th>\n",
              "      <th>112</th>\n",
              "      <th>113</th>\n",
              "      <th>114</th>\n",
              "      <th>115</th>\n",
              "      <th>116</th>\n",
              "      <th>117</th>\n",
              "      <th>118</th>\n",
              "      <th>119</th>\n",
              "      <th>120</th>\n",
              "    </tr>\n",
              "  </thead>\n",
              "  <tbody>\n",
              "    <tr>\n",
              "      <th>0</th>\n",
              "      <td>0.0+0.0j</td>\n",
              "      <td>0.0+0.0j</td>\n",
              "      <td>0.0+0.0j</td>\n",
              "      <td>0.0+0.0j</td>\n",
              "      <td>0.0+0.0j</td>\n",
              "      <td>-0.000012+0.000000j</td>\n",
              "      <td>-0.000049+0.000000j</td>\n",
              "      <td>-0.000048+0.000000j</td>\n",
              "      <td>-0.000096+0.000000j</td>\n",
              "      <td>-0.000150+0.000000j</td>\n",
              "      <td>...</td>\n",
              "      <td>-0.000025+0.000000j</td>\n",
              "      <td>0.0+0.0j</td>\n",
              "      <td>0.0+0.0j</td>\n",
              "      <td>0.0+0.0j</td>\n",
              "      <td>0.0+0.0j</td>\n",
              "      <td>-5.746927e-07+0.000000e+00j</td>\n",
              "      <td>-0.000138+0.000000j</td>\n",
              "      <td>-0.001555+0.000000j</td>\n",
              "      <td>-0.005661+0.000000j</td>\n",
              "      <td>-0.016967+0.000000j</td>\n",
              "    </tr>\n",
              "    <tr>\n",
              "      <th>1</th>\n",
              "      <td>0.0+0.0j</td>\n",
              "      <td>0.0+0.0j</td>\n",
              "      <td>0.0+0.0j</td>\n",
              "      <td>0.0+0.0j</td>\n",
              "      <td>0.0+0.0j</td>\n",
              "      <td>-0.000019+0.000000j</td>\n",
              "      <td>-0.000043+0.000000j</td>\n",
              "      <td>-0.000067+0.000000j</td>\n",
              "      <td>-0.000171+0.000000j</td>\n",
              "      <td>-0.000211+0.000000j</td>\n",
              "      <td>...</td>\n",
              "      <td>0.000035+0.000000j</td>\n",
              "      <td>0.0+0.0j</td>\n",
              "      <td>0.0+0.0j</td>\n",
              "      <td>0.0+0.0j</td>\n",
              "      <td>0.0+0.0j</td>\n",
              "      <td>-1.160619e-05+0.000000e+00j</td>\n",
              "      <td>-0.000003+0.000000j</td>\n",
              "      <td>0.000251+0.000000j</td>\n",
              "      <td>0.001142+0.000000j</td>\n",
              "      <td>0.003994+0.000000j</td>\n",
              "    </tr>\n",
              "    <tr>\n",
              "      <th>2</th>\n",
              "      <td>0.0+0.0j</td>\n",
              "      <td>0.0+0.0j</td>\n",
              "      <td>0.0+0.0j</td>\n",
              "      <td>0.0+0.0j</td>\n",
              "      <td>0.0+0.0j</td>\n",
              "      <td>-0.000018+0.000000j</td>\n",
              "      <td>-0.000088+0.000000j</td>\n",
              "      <td>-0.000124+0.000000j</td>\n",
              "      <td>-0.000232+0.000000j</td>\n",
              "      <td>-0.000403+0.000000j</td>\n",
              "      <td>...</td>\n",
              "      <td>0.000013+0.000000j</td>\n",
              "      <td>0.0+0.0j</td>\n",
              "      <td>0.0+0.0j</td>\n",
              "      <td>0.0+0.0j</td>\n",
              "      <td>0.0+0.0j</td>\n",
              "      <td>-2.200506e-05+0.000000e+00j</td>\n",
              "      <td>-0.000111+0.000000j</td>\n",
              "      <td>-0.001411+0.000000j</td>\n",
              "      <td>-0.005803+0.000000j</td>\n",
              "      <td>-0.018019+0.000000j</td>\n",
              "    </tr>\n",
              "    <tr>\n",
              "      <th>3</th>\n",
              "      <td>0.0+0.0j</td>\n",
              "      <td>0.0+0.0j</td>\n",
              "      <td>0.0+0.0j</td>\n",
              "      <td>0.0+0.0j</td>\n",
              "      <td>0.0+0.0j</td>\n",
              "      <td>0.000022+0.000000j</td>\n",
              "      <td>0.000069+0.000000j</td>\n",
              "      <td>0.000011+0.000000j</td>\n",
              "      <td>0.000070+0.000000j</td>\n",
              "      <td>0.000139+0.000000j</td>\n",
              "      <td>...</td>\n",
              "      <td>-0.000016+0.000000j</td>\n",
              "      <td>0.0+0.0j</td>\n",
              "      <td>0.0+0.0j</td>\n",
              "      <td>0.0+0.0j</td>\n",
              "      <td>0.0+0.0j</td>\n",
              "      <td>-1.090998e-05+0.000000e+00j</td>\n",
              "      <td>0.000003+0.000000j</td>\n",
              "      <td>0.000233+0.000000j</td>\n",
              "      <td>0.000605+0.000000j</td>\n",
              "      <td>-0.000368+0.000000j</td>\n",
              "    </tr>\n",
              "    <tr>\n",
              "      <th>4</th>\n",
              "      <td>0.0+0.0j</td>\n",
              "      <td>0.0+0.0j</td>\n",
              "      <td>0.0+0.0j</td>\n",
              "      <td>0.0+0.0j</td>\n",
              "      <td>0.0+0.0j</td>\n",
              "      <td>-0.000022+0.000000j</td>\n",
              "      <td>-0.000101+0.000000j</td>\n",
              "      <td>-0.000163+0.000000j</td>\n",
              "      <td>-0.000271+0.000000j</td>\n",
              "      <td>-0.000519+0.000000j</td>\n",
              "      <td>...</td>\n",
              "      <td>0.000026+0.000000j</td>\n",
              "      <td>0.0+0.0j</td>\n",
              "      <td>0.0+0.0j</td>\n",
              "      <td>0.0+0.0j</td>\n",
              "      <td>0.0+0.0j</td>\n",
              "      <td>-8.332826e-06+0.000000e+00j</td>\n",
              "      <td>-0.000027+0.000000j</td>\n",
              "      <td>-0.000704+0.000000j</td>\n",
              "      <td>-0.003455+0.000000j</td>\n",
              "      <td>-0.011757+0.000000j</td>\n",
              "    </tr>\n",
              "  </tbody>\n",
              "</table>\n",
              "<p>5 rows × 121 columns</p>\n",
              "</div>\n",
              "    <div class=\"colab-df-buttons\">\n",
              "\n",
              "  <div class=\"colab-df-container\">\n",
              "    <button class=\"colab-df-convert\" onclick=\"convertToInteractive('df-dc84d55b-15ec-4ec2-9a41-bf3da3d8d39a')\"\n",
              "            title=\"Convert this dataframe to an interactive table.\"\n",
              "            style=\"display:none;\">\n",
              "\n",
              "  <svg xmlns=\"http://www.w3.org/2000/svg\" height=\"24px\" viewBox=\"0 -960 960 960\">\n",
              "    <path d=\"M120-120v-720h720v720H120Zm60-500h600v-160H180v160Zm220 220h160v-160H400v160Zm0 220h160v-160H400v160ZM180-400h160v-160H180v160Zm440 0h160v-160H620v160ZM180-180h160v-160H180v160Zm440 0h160v-160H620v160Z\"/>\n",
              "  </svg>\n",
              "    </button>\n",
              "\n",
              "  <style>\n",
              "    .colab-df-container {\n",
              "      display:flex;\n",
              "      gap: 12px;\n",
              "    }\n",
              "\n",
              "    .colab-df-convert {\n",
              "      background-color: #E8F0FE;\n",
              "      border: none;\n",
              "      border-radius: 50%;\n",
              "      cursor: pointer;\n",
              "      display: none;\n",
              "      fill: #1967D2;\n",
              "      height: 32px;\n",
              "      padding: 0 0 0 0;\n",
              "      width: 32px;\n",
              "    }\n",
              "\n",
              "    .colab-df-convert:hover {\n",
              "      background-color: #E2EBFA;\n",
              "      box-shadow: 0px 1px 2px rgba(60, 64, 67, 0.3), 0px 1px 3px 1px rgba(60, 64, 67, 0.15);\n",
              "      fill: #174EA6;\n",
              "    }\n",
              "\n",
              "    .colab-df-buttons div {\n",
              "      margin-bottom: 4px;\n",
              "    }\n",
              "\n",
              "    [theme=dark] .colab-df-convert {\n",
              "      background-color: #3B4455;\n",
              "      fill: #D2E3FC;\n",
              "    }\n",
              "\n",
              "    [theme=dark] .colab-df-convert:hover {\n",
              "      background-color: #434B5C;\n",
              "      box-shadow: 0px 1px 3px 1px rgba(0, 0, 0, 0.15);\n",
              "      filter: drop-shadow(0px 1px 2px rgba(0, 0, 0, 0.3));\n",
              "      fill: #FFFFFF;\n",
              "    }\n",
              "  </style>\n",
              "\n",
              "    <script>\n",
              "      const buttonEl =\n",
              "        document.querySelector('#df-dc84d55b-15ec-4ec2-9a41-bf3da3d8d39a button.colab-df-convert');\n",
              "      buttonEl.style.display =\n",
              "        google.colab.kernel.accessAllowed ? 'block' : 'none';\n",
              "\n",
              "      async function convertToInteractive(key) {\n",
              "        const element = document.querySelector('#df-dc84d55b-15ec-4ec2-9a41-bf3da3d8d39a');\n",
              "        const dataTable =\n",
              "          await google.colab.kernel.invokeFunction('convertToInteractive',\n",
              "                                                    [key], {});\n",
              "        if (!dataTable) return;\n",
              "\n",
              "        const docLinkHtml = 'Like what you see? Visit the ' +\n",
              "          '<a target=\"_blank\" href=https://colab.research.google.com/notebooks/data_table.ipynb>data table notebook</a>'\n",
              "          + ' to learn more about interactive tables.';\n",
              "        element.innerHTML = '';\n",
              "        dataTable['output_type'] = 'display_data';\n",
              "        await google.colab.output.renderOutput(dataTable, element);\n",
              "        const docLink = document.createElement('div');\n",
              "        docLink.innerHTML = docLinkHtml;\n",
              "        element.appendChild(docLink);\n",
              "      }\n",
              "    </script>\n",
              "  </div>\n",
              "\n",
              "\n",
              "<div id=\"df-e3149ef2-055f-4328-a8a2-6b76fb1f39d5\">\n",
              "  <button class=\"colab-df-quickchart\" onclick=\"quickchart('df-e3149ef2-055f-4328-a8a2-6b76fb1f39d5')\"\n",
              "            title=\"Suggest charts.\"\n",
              "            style=\"display:none;\">\n",
              "\n",
              "<svg xmlns=\"http://www.w3.org/2000/svg\" height=\"24px\"viewBox=\"0 0 24 24\"\n",
              "     width=\"24px\">\n",
              "    <g>\n",
              "        <path d=\"M19 3H5c-1.1 0-2 .9-2 2v14c0 1.1.9 2 2 2h14c1.1 0 2-.9 2-2V5c0-1.1-.9-2-2-2zM9 17H7v-7h2v7zm4 0h-2V7h2v10zm4 0h-2v-4h2v4z\"/>\n",
              "    </g>\n",
              "</svg>\n",
              "  </button>\n",
              "\n",
              "<style>\n",
              "  .colab-df-quickchart {\n",
              "    background-color: #E8F0FE;\n",
              "    border: none;\n",
              "    border-radius: 50%;\n",
              "    cursor: pointer;\n",
              "    display: none;\n",
              "    fill: #1967D2;\n",
              "    height: 32px;\n",
              "    padding: 0 0 0 0;\n",
              "    width: 32px;\n",
              "  }\n",
              "\n",
              "  .colab-df-quickchart:hover {\n",
              "    background-color: #E2EBFA;\n",
              "    box-shadow: 0px 1px 2px rgba(60, 64, 67, 0.3), 0px 1px 3px 1px rgba(60, 64, 67, 0.15);\n",
              "    fill: #174EA6;\n",
              "  }\n",
              "\n",
              "  [theme=dark] .colab-df-quickchart {\n",
              "    background-color: #3B4455;\n",
              "    fill: #D2E3FC;\n",
              "  }\n",
              "\n",
              "  [theme=dark] .colab-df-quickchart:hover {\n",
              "    background-color: #434B5C;\n",
              "    box-shadow: 0px 1px 3px 1px rgba(0, 0, 0, 0.15);\n",
              "    filter: drop-shadow(0px 1px 2px rgba(0, 0, 0, 0.3));\n",
              "    fill: #FFFFFF;\n",
              "  }\n",
              "</style>\n",
              "\n",
              "  <script>\n",
              "    async function quickchart(key) {\n",
              "      const charts = await google.colab.kernel.invokeFunction(\n",
              "          'suggestCharts', [key], {});\n",
              "    }\n",
              "    (() => {\n",
              "      let quickchartButtonEl =\n",
              "        document.querySelector('#df-e3149ef2-055f-4328-a8a2-6b76fb1f39d5 button');\n",
              "      quickchartButtonEl.style.display =\n",
              "        google.colab.kernel.accessAllowed ? 'block' : 'none';\n",
              "    })();\n",
              "  </script>\n",
              "</div>\n",
              "    </div>\n",
              "  </div>\n"
            ]
          },
          "metadata": {},
          "execution_count": 70
        }
      ]
    },
    {
      "cell_type": "code",
      "source": [
        "projection = actual_data.dot(projection_matrix.astype(actual_data))"
      ],
      "metadata": {
        "colab": {
          "base_uri": "https://localhost:8080/",
          "height": 333
        },
        "id": "uq5vc1FoHOrp",
        "outputId": "b8a5a608-e364-4ae2-e84b-c91f417a805c"
      },
      "execution_count": 74,
      "outputs": [
        {
          "output_type": "error",
          "ename": "ValueError",
          "evalue": "ignored",
          "traceback": [
            "\u001b[0;31m---------------------------------------------------------------------------\u001b[0m",
            "\u001b[0;31mValueError\u001b[0m                                Traceback (most recent call last)",
            "\u001b[0;32m<ipython-input-74-abef51204415>\u001b[0m in \u001b[0;36m<cell line: 1>\u001b[0;34m()\u001b[0m\n\u001b[0;32m----> 1\u001b[0;31m \u001b[0mprojection\u001b[0m \u001b[0;34m=\u001b[0m \u001b[0mactual_data\u001b[0m\u001b[0;34m.\u001b[0m\u001b[0mdot\u001b[0m\u001b[0;34m(\u001b[0m\u001b[0mprojection_matrix\u001b[0m\u001b[0;34m.\u001b[0m\u001b[0mastype\u001b[0m\u001b[0;34m(\u001b[0m\u001b[0mactual_data\u001b[0m\u001b[0;34m)\u001b[0m\u001b[0;34m)\u001b[0m\u001b[0;34m\u001b[0m\u001b[0;34m\u001b[0m\u001b[0m\n\u001b[0m",
            "\u001b[0;32m/usr/local/lib/python3.10/dist-packages/pandas/core/generic.py\u001b[0m in \u001b[0;36mastype\u001b[0;34m(self, dtype, copy, errors)\u001b[0m\n\u001b[1;32m   6206\u001b[0m             \u001b[0;32mfrom\u001b[0m \u001b[0mpandas\u001b[0m \u001b[0;32mimport\u001b[0m \u001b[0mSeries\u001b[0m\u001b[0;34m\u001b[0m\u001b[0;34m\u001b[0m\u001b[0m\n\u001b[1;32m   6207\u001b[0m \u001b[0;34m\u001b[0m\u001b[0m\n\u001b[0;32m-> 6208\u001b[0;31m             \u001b[0mdtype_ser\u001b[0m \u001b[0;34m=\u001b[0m \u001b[0mSeries\u001b[0m\u001b[0;34m(\u001b[0m\u001b[0mdtype\u001b[0m\u001b[0;34m,\u001b[0m \u001b[0mdtype\u001b[0m\u001b[0;34m=\u001b[0m\u001b[0mobject\u001b[0m\u001b[0;34m)\u001b[0m\u001b[0;34m\u001b[0m\u001b[0;34m\u001b[0m\u001b[0m\n\u001b[0m\u001b[1;32m   6209\u001b[0m \u001b[0;34m\u001b[0m\u001b[0m\n\u001b[1;32m   6210\u001b[0m             \u001b[0;32mfor\u001b[0m \u001b[0mcol_name\u001b[0m \u001b[0;32min\u001b[0m \u001b[0mdtype_ser\u001b[0m\u001b[0;34m.\u001b[0m\u001b[0mindex\u001b[0m\u001b[0;34m:\u001b[0m\u001b[0;34m\u001b[0m\u001b[0;34m\u001b[0m\u001b[0m\n",
            "\u001b[0;32m/usr/local/lib/python3.10/dist-packages/pandas/core/series.py\u001b[0m in \u001b[0;36m__init__\u001b[0;34m(self, data, index, dtype, name, copy, fastpath)\u001b[0m\n\u001b[1;32m    384\u001b[0m             \u001b[0mname\u001b[0m \u001b[0;34m=\u001b[0m \u001b[0mibase\u001b[0m\u001b[0;34m.\u001b[0m\u001b[0mmaybe_extract_name\u001b[0m\u001b[0;34m(\u001b[0m\u001b[0mname\u001b[0m\u001b[0;34m,\u001b[0m \u001b[0mdata\u001b[0m\u001b[0;34m,\u001b[0m \u001b[0mtype\u001b[0m\u001b[0;34m(\u001b[0m\u001b[0mself\u001b[0m\u001b[0;34m)\u001b[0m\u001b[0;34m)\u001b[0m\u001b[0;34m\u001b[0m\u001b[0;34m\u001b[0m\u001b[0m\n\u001b[1;32m    385\u001b[0m \u001b[0;34m\u001b[0m\u001b[0m\n\u001b[0;32m--> 386\u001b[0;31m             \u001b[0;32mif\u001b[0m \u001b[0mis_empty_data\u001b[0m\u001b[0;34m(\u001b[0m\u001b[0mdata\u001b[0m\u001b[0;34m)\u001b[0m \u001b[0;32mand\u001b[0m \u001b[0mdtype\u001b[0m \u001b[0;32mis\u001b[0m \u001b[0;32mNone\u001b[0m\u001b[0;34m:\u001b[0m\u001b[0;34m\u001b[0m\u001b[0;34m\u001b[0m\u001b[0m\n\u001b[0m\u001b[1;32m    387\u001b[0m                 \u001b[0;31m# gh-17261\u001b[0m\u001b[0;34m\u001b[0m\u001b[0;34m\u001b[0m\u001b[0m\n\u001b[1;32m    388\u001b[0m                 warnings.warn(\n",
            "\u001b[0;32m/usr/local/lib/python3.10/dist-packages/pandas/core/construction.py\u001b[0m in \u001b[0;36mis_empty_data\u001b[0;34m(data)\u001b[0m\n\u001b[1;32m    875\u001b[0m     \u001b[0mis_none\u001b[0m \u001b[0;34m=\u001b[0m \u001b[0mdata\u001b[0m \u001b[0;32mis\u001b[0m \u001b[0;32mNone\u001b[0m\u001b[0;34m\u001b[0m\u001b[0;34m\u001b[0m\u001b[0m\n\u001b[1;32m    876\u001b[0m     \u001b[0mis_list_like_without_dtype\u001b[0m \u001b[0;34m=\u001b[0m \u001b[0mis_list_like\u001b[0m\u001b[0;34m(\u001b[0m\u001b[0mdata\u001b[0m\u001b[0;34m)\u001b[0m \u001b[0;32mand\u001b[0m \u001b[0;32mnot\u001b[0m \u001b[0mhasattr\u001b[0m\u001b[0;34m(\u001b[0m\u001b[0mdata\u001b[0m\u001b[0;34m,\u001b[0m \u001b[0;34m\"dtype\"\u001b[0m\u001b[0;34m)\u001b[0m\u001b[0;34m\u001b[0m\u001b[0;34m\u001b[0m\u001b[0m\n\u001b[0;32m--> 877\u001b[0;31m     \u001b[0mis_simple_empty\u001b[0m \u001b[0;34m=\u001b[0m \u001b[0mis_list_like_without_dtype\u001b[0m \u001b[0;32mand\u001b[0m \u001b[0;32mnot\u001b[0m \u001b[0mdata\u001b[0m\u001b[0;34m\u001b[0m\u001b[0;34m\u001b[0m\u001b[0m\n\u001b[0m\u001b[1;32m    878\u001b[0m     \u001b[0;32mreturn\u001b[0m \u001b[0mis_none\u001b[0m \u001b[0;32mor\u001b[0m \u001b[0mis_simple_empty\u001b[0m\u001b[0;34m\u001b[0m\u001b[0;34m\u001b[0m\u001b[0m\n\u001b[1;32m    879\u001b[0m \u001b[0;34m\u001b[0m\u001b[0m\n",
            "\u001b[0;32m/usr/local/lib/python3.10/dist-packages/pandas/core/generic.py\u001b[0m in \u001b[0;36m__nonzero__\u001b[0;34m(self)\u001b[0m\n\u001b[1;32m   1525\u001b[0m     \u001b[0;34m@\u001b[0m\u001b[0mfinal\u001b[0m\u001b[0;34m\u001b[0m\u001b[0;34m\u001b[0m\u001b[0m\n\u001b[1;32m   1526\u001b[0m     \u001b[0;32mdef\u001b[0m \u001b[0m__nonzero__\u001b[0m\u001b[0;34m(\u001b[0m\u001b[0mself\u001b[0m\u001b[0;34m)\u001b[0m \u001b[0;34m->\u001b[0m \u001b[0mNoReturn\u001b[0m\u001b[0;34m:\u001b[0m\u001b[0;34m\u001b[0m\u001b[0;34m\u001b[0m\u001b[0m\n\u001b[0;32m-> 1527\u001b[0;31m         raise ValueError(\n\u001b[0m\u001b[1;32m   1528\u001b[0m             \u001b[0;34mf\"The truth value of a {type(self).__name__} is ambiguous. \"\u001b[0m\u001b[0;34m\u001b[0m\u001b[0;34m\u001b[0m\u001b[0m\n\u001b[1;32m   1529\u001b[0m             \u001b[0;34m\"Use a.empty, a.bool(), a.item(), a.any() or a.all().\"\u001b[0m\u001b[0;34m\u001b[0m\u001b[0;34m\u001b[0m\u001b[0m\n",
            "\u001b[0;31mValueError\u001b[0m: The truth value of a DataFrame is ambiguous. Use a.empty, a.bool(), a.item(), a.any() or a.all()."
          ]
        }
      ]
    },
    {
      "cell_type": "markdown",
      "source": [
        "# Building the Net"
      ],
      "metadata": {
        "id": "ptzdjLySAYEE"
      }
    },
    {
      "cell_type": "code",
      "source": [
        "from torch.utils.data import random_split"
      ],
      "metadata": {
        "id": "RbbwbMJZwTMQ"
      },
      "execution_count": 79,
      "outputs": []
    },
    {
      "cell_type": "code",
      "source": [
        "train_size = int(0.9 * (len(train_data)))"
      ],
      "metadata": {
        "id": "mib8bd1Zv9U5"
      },
      "execution_count": 80,
      "outputs": []
    },
    {
      "cell_type": "code",
      "source": [
        "val_size = len(train_data) - train_size"
      ],
      "metadata": {
        "id": "VuN4iQOVwP3A"
      },
      "execution_count": 81,
      "outputs": []
    },
    {
      "cell_type": "code",
      "source": [
        "train_set , val_set = random_split(train_data, [train_size, val_size])"
      ],
      "metadata": {
        "id": "m0K2_9TKwRcw"
      },
      "execution_count": 82,
      "outputs": []
    },
    {
      "cell_type": "code",
      "source": [
        "train_set.__len__()"
      ],
      "metadata": {
        "id": "Fvh1RUa3wcxx",
        "colab": {
          "base_uri": "https://localhost:8080/"
        },
        "outputId": "8614d3f7-3ec6-40bb-c2aa-2d5a1db6ba64"
      },
      "execution_count": 83,
      "outputs": [
        {
          "output_type": "execute_result",
          "data": {
            "text/plain": [
              "54000"
            ]
          },
          "metadata": {},
          "execution_count": 83
        }
      ]
    },
    {
      "cell_type": "code",
      "source": [
        "val_set.__len__()\n"
      ],
      "metadata": {
        "id": "M7vLGqj6weo5",
        "colab": {
          "base_uri": "https://localhost:8080/"
        },
        "outputId": "69deb55a-7563-40c2-8672-a2b80d27a0ff"
      },
      "execution_count": 84,
      "outputs": [
        {
          "output_type": "execute_result",
          "data": {
            "text/plain": [
              "6000"
            ]
          },
          "metadata": {},
          "execution_count": 84
        }
      ]
    },
    {
      "cell_type": "code",
      "source": [
        "tt_data = pd.read_csv('/content/train/train.csv')"
      ],
      "metadata": {
        "id": "XwNirwSRwn_M"
      },
      "execution_count": 85,
      "outputs": []
    },
    {
      "cell_type": "code",
      "source": [
        "test_data = Kmnist(tt_data)"
      ],
      "metadata": {
        "id": "1F4CdOiqw6KJ"
      },
      "execution_count": 86,
      "outputs": []
    },
    {
      "cell_type": "code",
      "source": [
        "from torch.utils.data import DataLoader"
      ],
      "metadata": {
        "id": "0saYfTSqxEUR"
      },
      "execution_count": 87,
      "outputs": []
    },
    {
      "cell_type": "code",
      "source": [
        "train_dataloader = DataLoader(train_set,batch_size = 64,shuffle = True)\n",
        "val_dataloader = DataLoader(val_set,batch_size = 64,shuffle = True)\n",
        "test_dataloader = DataLoader(test_data,batch_size = 64,shuffle = True)"
      ],
      "metadata": {
        "id": "Mb0nbRazwlwE"
      },
      "execution_count": 88,
      "outputs": []
    },
    {
      "cell_type": "code",
      "source": [
        "train_features,train_labels = next(iter(train_dataloader))"
      ],
      "metadata": {
        "id": "gyUG7RrtxUsB"
      },
      "execution_count": 89,
      "outputs": []
    },
    {
      "cell_type": "code",
      "source": [
        "print(f\"Feature batch shape: {train_features.size()}\")\n",
        "print(f\"Labels batch shape: {train_labels.size()}\")\n",
        "img = train_features[0].reshape(28,28).squeeze()\n",
        "label = train_labels[0]\n",
        "plt.imshow(img, cmap=\"gray\")\n",
        "plt.show()\n",
        "print(f\"Label: {label}\")"
      ],
      "metadata": {
        "id": "FrVlMt5qxO1x",
        "colab": {
          "base_uri": "https://localhost:8080/",
          "height": 485
        },
        "outputId": "6490eb2d-32a0-4667-cd30-9707ffb80a42"
      },
      "execution_count": 90,
      "outputs": [
        {
          "output_type": "stream",
          "name": "stdout",
          "text": [
            "Feature batch shape: torch.Size([64, 784])\n",
            "Labels batch shape: torch.Size([64])\n"
          ]
        },
        {
          "output_type": "display_data",
          "data": {
            "text/plain": [
              "<Figure size 640x480 with 1 Axes>"
            ],
            "image/png": "[encoded data removed]"
          },
          "metadata": {}
        },
        {
          "output_type": "stream",
          "name": "stdout",
          "text": [
            "Label: 7\n"
          ]
        }
      ]
    },
    {
      "cell_type": "markdown",
      "source": [
        "#Building NN"
      ],
      "metadata": {
        "id": "qm0d2gHNGOa6"
      }
    },
    {
      "cell_type": "code",
      "source": [
        "from torch import nn"
      ],
      "metadata": {
        "id": "dhM8ldXdGOI7"
      },
      "execution_count": 91,
      "outputs": []
    },
    {
      "cell_type": "code",
      "source": [
        "device = (\n",
        "    \"cuda\"\n",
        "    if torch.cuda.is_available()\n",
        "    else \"cpu\"\n",
        ")\n",
        "print(f\"Using {device} device\")"
      ],
      "metadata": {
        "colab": {
          "base_uri": "https://localhost:8080/"
        },
        "id": "uEsfN2TyLLlC",
        "outputId": "394f90ff-76aa-4682-bd77-674366c53c65"
      },
      "execution_count": 92,
      "outputs": [
        {
          "output_type": "stream",
          "name": "stdout",
          "text": [
            "Using cuda device\n"
          ]
        }
      ]
    },
    {
      "cell_type": "code",
      "source": [
        "import torch.nn.functional as F"
      ],
      "metadata": {
        "id": "dzHLSGwGMB75"
      },
      "execution_count": 102,
      "outputs": []
    },
    {
      "cell_type": "markdown",
      "source": [
        "# creating the auto encoders"
      ],
      "metadata": {
        "id": "NDb6AiTuLY2J"
      }
    },
    {
      "cell_type": "markdown",
      "source": [
        "# our auto encoder model"
      ],
      "metadata": {
        "id": "XH_6ngLVj4w6"
      }
    },
    {
      "cell_type": "code",
      "source": [
        "class net(nn.Module):\n",
        "    def __init__(self):\n",
        "        super().__init__()\n",
        "        self.fc1 = nn.Linear(28*28,1000)#just a random Neural Network with 6 Hidden Layers\n",
        "        self.fc2 = nn.Linear(1000,500)\n",
        "        self.fc3 = nn.Linear(500,250)\n",
        "        self.fc4 = nn.Linear(250,112)\n",
        "        self.fc5 = nn.Linear(112,250)\n",
        "        self.fc6 = nn.Linear(250,500)\n",
        "        self.fc7 = nn.Linear(500,1000)\n",
        "        self.fc8 = nn.Linear(1000,784)\n",
        "\n",
        "    def forward(self,x):\n",
        "        x = F.relu(self.fc1(x.float()))# using a common Activation Function\n",
        "        x = F.relu(self.fc2(x))\n",
        "        x = F.relu(self.fc3(x))\n",
        "        x = F.relu(self.fc4(x))\n",
        "        x = F.relu(self.fc5(x))\n",
        "        x = F.relu(self.fc6(x))\n",
        "        x = F.relu(self.fc7(x))\n",
        "        output = F.relu(self.fc8(x))\n",
        "        return output\n"
      ],
      "metadata": {
        "id": "T9O5YUCBMDng"
      },
      "execution_count": 144,
      "outputs": []
    },
    {
      "cell_type": "code",
      "source": [
        "model = net()# loading THe Model"
      ],
      "metadata": {
        "id": "-KASCJqzMGIp"
      },
      "execution_count": 145,
      "outputs": []
    },
    {
      "cell_type": "code",
      "source": [
        "model.cuda()"
      ],
      "metadata": {
        "colab": {
          "base_uri": "https://localhost:8080/"
        },
        "id": "h8gh4d1OMHmw",
        "outputId": "cf0b12ee-5359-413d-eaf6-b2d2dcc953c3"
      },
      "execution_count": 146,
      "outputs": [
        {
          "output_type": "execute_result",
          "data": {
            "text/plain": [
              "net(\n",
              "  (fc1): Linear(in_features=784, out_features=1000, bias=True)\n",
              "  (fc2): Linear(in_features=1000, out_features=500, bias=True)\n",
              "  (fc3): Linear(in_features=500, out_features=250, bias=True)\n",
              "  (fc4): Linear(in_features=250, out_features=112, bias=True)\n",
              "  (fc5): Linear(in_features=112, out_features=250, bias=True)\n",
              "  (fc6): Linear(in_features=250, out_features=500, bias=True)\n",
              "  (fc7): Linear(in_features=500, out_features=1000, bias=True)\n",
              "  (fc8): Linear(in_features=1000, out_features=784, bias=True)\n",
              ")"
            ]
          },
          "metadata": {},
          "execution_count": 146
        }
      ]
    },
    {
      "cell_type": "code",
      "source": [
        "device = torch.device(\"cuda:0\")\n",
        "model.to(device)"
      ],
      "metadata": {
        "colab": {
          "base_uri": "https://localhost:8080/"
        },
        "id": "laPoPxmEMpcI",
        "outputId": "684fd3d2-9a58-47ae-912b-ad3507f82903"
      },
      "execution_count": 148,
      "outputs": [
        {
          "output_type": "execute_result",
          "data": {
            "text/plain": [
              "net(\n",
              "  (fc1): Linear(in_features=784, out_features=1000, bias=True)\n",
              "  (fc2): Linear(in_features=1000, out_features=500, bias=True)\n",
              "  (fc3): Linear(in_features=500, out_features=250, bias=True)\n",
              "  (fc4): Linear(in_features=250, out_features=112, bias=True)\n",
              "  (fc5): Linear(in_features=112, out_features=250, bias=True)\n",
              "  (fc6): Linear(in_features=250, out_features=500, bias=True)\n",
              "  (fc7): Linear(in_features=500, out_features=1000, bias=True)\n",
              "  (fc8): Linear(in_features=1000, out_features=784, bias=True)\n",
              ")"
            ]
          },
          "metadata": {},
          "execution_count": 148
        }
      ]
    },
    {
      "cell_type": "code",
      "source": [
        "criterion = nn.MSELoss()\n",
        "optimizer = torch.optim.Adam(model.parameters(), lr = 1e-4)"
      ],
      "metadata": {
        "id": "AyQC4ZOeM49w"
      },
      "execution_count": 149,
      "outputs": []
    },
    {
      "cell_type": "code",
      "source": [
        "epochs = 10"
      ],
      "metadata": {
        "id": "Z7S-UVNCMtWh"
      },
      "execution_count": 150,
      "outputs": []
    },
    {
      "cell_type": "code",
      "source": [
        "train_losses = []\n",
        "val_losses = []\n",
        "train_accuracies = []\n",
        "val_accuracies = []# for plotting"
      ],
      "metadata": {
        "id": "YNOyV_cyNDNg"
      },
      "execution_count": 151,
      "outputs": []
    },
    {
      "cell_type": "code",
      "source": [
        "for e in range(epochs):\n",
        "    train_loss = 0.0\n",
        "    val_loss = 0.0\n",
        "    train_correct = 0\n",
        "    train_total = 0\n",
        "    val_correct = 0\n",
        "    val_total = 0\n",
        "    model.train()  # Set the model to training mode\n",
        "\n",
        "    # Training loop\n",
        "    for images, labels in train_dataloader:\n",
        "        images, labels = images.to(device), labels.to(device)\n",
        "        optimizer.zero_grad()\n",
        "        outputs = model(images)\n",
        "        loss = criterion(outputs, images.float())\n",
        "        loss.backward()\n",
        "        optimizer.step()\n",
        "        train_loss += loss.item()\n",
        "        #_, predicted = torch.max(outputs, 1)\n",
        "        #train_total += labels.size(0)\n",
        "        #train_correct += (predicted == labels).sum().item()\n",
        "\n",
        "    # Validation loop\n",
        "    model.eval()  # Set the model to evaluation mode\n",
        "    with torch.no_grad():\n",
        "        for val_images, val_labels in val_dataloader:  # Assuming you have a DataLoader named 'val_loader'\n",
        "            val_images, val_labels = val_images.to(device), val_labels.to(device)\n",
        "            val_outputs = model(val_images)\n",
        "            val_loss += criterion(val_outputs, val_images.float()).item()\n",
        "\n",
        "        val_loss = val_loss/len(val_dataloader)\n",
        "\n",
        "\n",
        "\n",
        "\n",
        "    print(f'Epoch [{e+1}/{epochs}] Train Loss: {loss:.4f}, Val Loss: {val_loss:.4f}')\n",
        "\n",
        "print(\"Training finished\")"
      ],
      "metadata": {
        "colab": {
          "base_uri": "https://localhost:8080/"
        },
        "id": "cPq6bmNuNE70",
        "outputId": "276b30d3-a09c-47a8-c8e7-ddb3bc3c39b3"
      },
      "execution_count": 152,
      "outputs": [
        {
          "output_type": "stream",
          "name": "stdout",
          "text": [
            "Epoch [1/10] Train Loss: 2182.8538, Val Loss: 2067.9765\n",
            "Epoch [2/10] Train Loss: 1672.6942, Val Loss: 1741.4598\n",
            "Epoch [3/10] Train Loss: 1740.0687, Val Loss: 1605.4638\n",
            "Epoch [4/10] Train Loss: 1458.9591, Val Loss: 1515.5006\n",
            "Epoch [5/10] Train Loss: 1565.6210, Val Loss: 1407.9195\n",
            "Epoch [6/10] Train Loss: 1429.6692, Val Loss: 1323.5849\n",
            "Epoch [7/10] Train Loss: 1353.6085, Val Loss: 1267.3127\n",
            "Epoch [8/10] Train Loss: 1193.4640, Val Loss: 1223.2844\n",
            "Epoch [9/10] Train Loss: 997.5827, Val Loss: 1187.2604\n",
            "Epoch [10/10] Train Loss: 1064.2014, Val Loss: 1153.6601\n",
            "Training finished\n"
          ]
        }
      ]
    },
    {
      "cell_type": "code",
      "source": [
        "\n",
        "model.eval()  # Set the model to evaluation mode\n",
        "test_loss = 0.0\n",
        "test_correct = 0\n",
        "test_total = 0\n",
        "\n",
        "with torch.no_grad():\n",
        "    for test_images, test_labels in test_dataloader:  # Assuming you have a DataLoader named 'test_loader'\n",
        "        test_images, test_labels = test_images.to(device), test_labels.to(device)\n",
        "        test_outputs = model(test_images)\n",
        "        test_loss += criterion(test_outputs, test_images.float()).item()\n",
        "        _, test_predicted = torch.max(test_outputs, 1)\n",
        "        test_total += test_labels.size(0)\n",
        "        test_correct += (test_predicted == test_labels).sum().item()\n",
        "\n",
        "average_test_loss = test_loss / len(test_dataloader)\n",
        "test_accuracy = test_correct / test_total * 100\n",
        "\n",
        "print(f'Test Loss: {average_test_loss:.4f}, Test Accuracy: {test_accuracy:.2f}%')"
      ],
      "metadata": {
        "colab": {
          "base_uri": "https://localhost:8080/"
        },
        "id": "A6AZS6YVSy-f",
        "outputId": "d5132f19-86d7-4b83-8d6d-0d8dfe1e1554"
      },
      "execution_count": 153,
      "outputs": [
        {
          "output_type": "stream",
          "name": "stdout",
          "text": [
            "Test Loss: 1136.4404, Test Accuracy: 0.00%\n"
          ]
        }
      ]
    },
    {
      "cell_type": "code",
      "source": [
        "for test_images, test_labels in test_dataloader:  # Assuming you have a DataLoader named 'test_loader'\n",
        "\n",
        "        print(f\"Feature batch shape: {test_images.size()}\")\n",
        "        print(f\"Labels batch shape: {test_labels.size()}\")\n",
        "        img = test_images[0].reshape(28,28).squeeze()\n",
        "        label = test_labels[0]\n",
        "        plt.imshow(img, cmap=\"gray\")\n",
        "        plt.show()\n",
        "        print(f\"Label: {label}\")\n",
        "        test_images = test_images.to(device)\n",
        "        test_outputs = model(test_images)\n",
        "        test_outputs = test_outputs.cpu()\n",
        "        test_outputs = test_outputs.detach().numpy()\n",
        "        #print(f\"Feature batch shape: {test_outputs.size()}\")\n",
        "        #print(f\"Labels batch shape: {test_labels.size()}\")\n",
        "        img = test_outputs[0].reshape(28,28).squeeze()\n",
        "        label = test_labels[0]\n",
        "        plt.imshow(img, cmap=\"gray\")\n",
        "        plt.show()\n",
        "        print(f\"Label: {label}\")\n",
        "        break"
      ],
      "metadata": {
        "colab": {
          "base_uri": "https://localhost:8080/",
          "height": 916
        },
        "id": "rwp5q0zcTFgH",
        "outputId": "bd21edf7-af85-4e3a-83aa-9a061456a1ed"
      },
      "execution_count": 154,
      "outputs": [
        {
          "output_type": "stream",
          "name": "stdout",
          "text": [
            "Feature batch shape: torch.Size([64, 784])\n",
            "Labels batch shape: torch.Size([64])\n"
          ]
        },
        {
          "output_type": "display_data",
          "data": {
            "text/plain": [
              "<Figure size 640x480 with 1 Axes>"
            ],
            "image/png": "[encoded data removed]"
          },
          "metadata": {}
        },
        {
          "output_type": "stream",
          "name": "stdout",
          "text": [
            "Label: 9\n"
          ]
        },
        {
          "output_type": "display_data",
          "data": {
            "text/plain": [
              "<Figure size 640x480 with 1 Axes>"
            ],
            "image/png": "[encoded data removed]"
          },
          "metadata": {}
        },
        {
          "output_type": "stream",
          "name": "stdout",
          "text": [
            "Label: 9\n"
          ]
        }
      ]
    }
  ]
}