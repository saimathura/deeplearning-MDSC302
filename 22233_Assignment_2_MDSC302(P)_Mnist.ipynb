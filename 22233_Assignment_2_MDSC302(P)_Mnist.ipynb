{
  "nbformat": 4,
  "nbformat_minor": 0,
  "metadata": {
    "colab": {
      "provenance": [],
      "gpuType": "T4",
      "authorship_tag": "ABX9TyN2bq0/ycxPb5mv9DNBpqpg",
      "include_colab_link": true
    },
    "kernelspec": {
      "name": "python3",
      "display_name": "Python 3"
    },
    "language_info": {
      "name": "python"
    },
    "accelerator": "GPU"
  },
  "cells": [
    {
      "cell_type": "markdown",
      "metadata": {
        "id": "view-in-github",
        "colab_type": "text"
      },
      "source": [
        "<a href=\"https://colab.research.google.com/github/saimathura/deeplearning-MDSC302/blob/main/22233_Assignment_2_MDSC302(P)_Mnist.ipynb\" target=\"_parent\"><img src=\"https://colab.research.google.com/assets/colab-badge.svg\" alt=\"Open In Colab\"/></a>"
      ]
    },
    {
      "cell_type": "markdown",
      "source": [
        "# creating a small network to learn the pattern in MNIST dataset"
      ],
      "metadata": {
        "id": "DORqmjLJGAq4"
      }
    },
    {
      "cell_type": "code",
      "execution_count": null,
      "metadata": {
        "id": "mz5ifP2FF9FT"
      },
      "outputs": [],
      "source": [
        "import torch\n",
        "from torch.utils.data import Dataset\n",
        "from torchvision import datasets\n",
        "from torchvision.transforms import ToTensor\n",
        "import matplotlib.pyplot as plt\n",
        "\n"
      ]
    },
    {
      "cell_type": "markdown",
      "source": [
        "# Downloading The Data"
      ],
      "metadata": {
        "id": "dmoSBnxI7BWN"
      }
    },
    {
      "cell_type": "code",
      "source": [
        "\n",
        "training_data = datasets.MNIST(\n",
        "    root=\"data\",\n",
        "    train=True,\n",
        "    download=True,\n",
        "    transform=ToTensor()\n",
        ")\n",
        "\n",
        "test_data = datasets.MNIST(\n",
        "    root=\"data\",\n",
        "    train=False,\n",
        "    download=True,\n",
        "    transform=ToTensor()\n",
        ")"
      ],
      "metadata": {
        "colab": {
          "base_uri": "https://localhost:8080/"
        },
        "id": "zWQEMyiVGSV7",
        "outputId": "902a3102-15ca-45ab-aa9f-dfceff8dba6a"
      },
      "execution_count": null,
      "outputs": [
        {
          "output_type": "stream",
          "name": "stdout",
          "text": [
            "Downloading http://yann.lecun.com/exdb/mnist/train-images-idx3-ubyte.gz\n",
            "Downloading http://yann.lecun.com/exdb/mnist/train-images-idx3-ubyte.gz to data/MNIST/raw/train-images-idx3-ubyte.gz\n"
          ]
        },
        {
          "output_type": "stream",
          "name": "stderr",
          "text": [
            "100%|██████████| 9912422/9912422 [00:00<00:00, 351552989.90it/s]"
          ]
        },
        {
          "output_type": "stream",
          "name": "stdout",
          "text": [
            "Extracting data/MNIST/raw/train-images-idx3-ubyte.gz to data/MNIST/raw\n"
          ]
        },
        {
          "output_type": "stream",
          "name": "stderr",
          "text": [
            "\n"
          ]
        },
        {
          "output_type": "stream",
          "name": "stdout",
          "text": [
            "\n",
            "Downloading http://yann.lecun.com/exdb/mnist/train-labels-idx1-ubyte.gz\n",
            "Downloading http://yann.lecun.com/exdb/mnist/train-labels-idx1-ubyte.gz to data/MNIST/raw/train-labels-idx1-ubyte.gz\n"
          ]
        },
        {
          "output_type": "stream",
          "name": "stderr",
          "text": [
            "100%|██████████| 28881/28881 [00:00<00:00, 3407473.81it/s]\n"
          ]
        },
        {
          "output_type": "stream",
          "name": "stdout",
          "text": [
            "Extracting data/MNIST/raw/train-labels-idx1-ubyte.gz to data/MNIST/raw\n",
            "\n",
            "Downloading http://yann.lecun.com/exdb/mnist/t10k-images-idx3-ubyte.gz\n",
            "Downloading http://yann.lecun.com/exdb/mnist/t10k-images-idx3-ubyte.gz to data/MNIST/raw/t10k-images-idx3-ubyte.gz\n"
          ]
        },
        {
          "output_type": "stream",
          "name": "stderr",
          "text": [
            "100%|██████████| 1648877/1648877 [00:00<00:00, 189731184.24it/s]"
          ]
        },
        {
          "output_type": "stream",
          "name": "stdout",
          "text": [
            "Extracting data/MNIST/raw/t10k-images-idx3-ubyte.gz to data/MNIST/raw\n"
          ]
        },
        {
          "output_type": "stream",
          "name": "stderr",
          "text": [
            "\n"
          ]
        },
        {
          "output_type": "stream",
          "name": "stdout",
          "text": [
            "\n",
            "Downloading http://yann.lecun.com/exdb/mnist/t10k-labels-idx1-ubyte.gz\n",
            "Downloading http://yann.lecun.com/exdb/mnist/t10k-labels-idx1-ubyte.gz to data/MNIST/raw/t10k-labels-idx1-ubyte.gz\n"
          ]
        },
        {
          "output_type": "stream",
          "name": "stderr",
          "text": [
            "100%|██████████| 4542/4542 [00:00<00:00, 19700650.23it/s]"
          ]
        },
        {
          "output_type": "stream",
          "name": "stdout",
          "text": [
            "Extracting data/MNIST/raw/t10k-labels-idx1-ubyte.gz to data/MNIST/raw\n",
            "\n"
          ]
        },
        {
          "output_type": "stream",
          "name": "stderr",
          "text": [
            "\n"
          ]
        }
      ]
    },
    {
      "cell_type": "markdown",
      "source": [
        "# loading THe Data"
      ],
      "metadata": {
        "id": "1hl_tmh77Elq"
      }
    },
    {
      "cell_type": "code",
      "source": [
        "from torch.utils.data import DataLoader"
      ],
      "metadata": {
        "id": "VKK3dtbrGRJb"
      },
      "execution_count": null,
      "outputs": []
    },
    {
      "cell_type": "markdown",
      "source": [
        "# Doing a Train Validation Split"
      ],
      "metadata": {
        "id": "wQpbG0F07Hqq"
      }
    },
    {
      "cell_type": "code",
      "source": [
        "from torch.utils.data import random_split"
      ],
      "metadata": {
        "id": "ytfKduvIKNv_"
      },
      "execution_count": null,
      "outputs": []
    },
    {
      "cell_type": "code",
      "source": [
        "train_size = int(0.9 * (len(training_data)))"
      ],
      "metadata": {
        "id": "pHHd0nMNKhYA"
      },
      "execution_count": null,
      "outputs": []
    },
    {
      "cell_type": "code",
      "source": [
        "val_size = len(training_data) - train_size"
      ],
      "metadata": {
        "id": "tj7EEigmLK0V"
      },
      "execution_count": null,
      "outputs": []
    },
    {
      "cell_type": "code",
      "source": [
        "train_set , val_set = random_split(training_data, [train_size, val_size])"
      ],
      "metadata": {
        "id": "GZH9Q0sHLYCK"
      },
      "execution_count": null,
      "outputs": []
    },
    {
      "cell_type": "markdown",
      "source": [
        "# Now the split is IN training Data Available we have split the data into 90% for trainig and 10% for Validation"
      ],
      "metadata": {
        "id": "Fgrm-6z47K2x"
      }
    },
    {
      "cell_type": "code",
      "source": [
        "train_set.__len__()"
      ],
      "metadata": {
        "colab": {
          "base_uri": "https://localhost:8080/"
        },
        "id": "Je1eihExLrx2",
        "outputId": "ccb67ab5-0d7a-408b-9e1d-5d8582bd47d7"
      },
      "execution_count": null,
      "outputs": [
        {
          "output_type": "execute_result",
          "data": {
            "text/plain": [
              "54000"
            ]
          },
          "metadata": {},
          "execution_count": 8
        }
      ]
    },
    {
      "cell_type": "code",
      "source": [
        "val_set.__len__()"
      ],
      "metadata": {
        "colab": {
          "base_uri": "https://localhost:8080/"
        },
        "id": "7VP7U4BNLuTm",
        "outputId": "109bc700-6c64-4da4-808c-4c462201faa0"
      },
      "execution_count": null,
      "outputs": [
        {
          "output_type": "execute_result",
          "data": {
            "text/plain": [
              "6000"
            ]
          },
          "metadata": {},
          "execution_count": 9
        }
      ]
    },
    {
      "cell_type": "code",
      "source": [
        "train_dataloader = DataLoader(train_set,batch_size = 64,shuffle = True)\n",
        "val_dataloader = DataLoader(val_set,batch_size = 64,shuffle = True)\n",
        "test_dataloader = DataLoader(test_data,batch_size = 64,shuffle = True)"
      ],
      "metadata": {
        "id": "Deh0XiO5L0zG"
      },
      "execution_count": null,
      "outputs": []
    },
    {
      "cell_type": "code",
      "source": [
        "train_features,train_labels = next(iter(train_dataloader))"
      ],
      "metadata": {
        "id": "nIagAui5MNog"
      },
      "execution_count": null,
      "outputs": []
    },
    {
      "cell_type": "markdown",
      "source": [
        "# Printing a Random Sample from the Data"
      ],
      "metadata": {
        "id": "BcLYeIjm7YSJ"
      }
    },
    {
      "cell_type": "code",
      "source": [
        "print(f\"Feature batch shape: {train_features.size()}\")\n",
        "print(f\"Labels batch shape: {train_labels.size()}\")\n",
        "img = train_features[0].squeeze()\n",
        "label = train_labels[0]\n",
        "plt.imshow(img, cmap=\"gray\")\n",
        "plt.show()\n",
        "print(f\"Label: {label}\")"
      ],
      "metadata": {
        "colab": {
          "base_uri": "https://localhost:8080/",
          "height": 485
        },
        "id": "Auf9HFdGMMJI",
        "outputId": "e7f060e9-b248-4d61-cc03-7c5de22f26d7"
      },
      "execution_count": null,
      "outputs": [
        {
          "output_type": "stream",
          "name": "stdout",
          "text": [
            "Feature batch shape: torch.Size([64, 1, 28, 28])\n",
            "Labels batch shape: torch.Size([64])\n"
          ]
        },
        {
          "output_type": "display_data",
          "data": {
            "text/plain": [
              "<Figure size 640x480 with 1 Axes>"
            ],
            "image/png": "[encoded data removed]"
          },
          "metadata": {}
        },
        {
          "output_type": "stream",
          "name": "stdout",
          "text": [
            "Label: 0\n"
          ]
        }
      ]
    },
    {
      "cell_type": "markdown",
      "source": [
        "# Creating THe Model"
      ],
      "metadata": {
        "id": "pImBbOdl68ZZ"
      }
    },
    {
      "cell_type": "code",
      "source": [
        "from torch import nn"
      ],
      "metadata": {
        "id": "bfddptGNMXcX"
      },
      "execution_count": null,
      "outputs": []
    },
    {
      "cell_type": "markdown",
      "source": [
        "# Setting Cuda Device"
      ],
      "metadata": {
        "id": "GdxZ7Sl77jUJ"
      }
    },
    {
      "cell_type": "code",
      "source": [
        "device = (\n",
        "    \"cuda\"\n",
        "    if torch.cuda.is_available()\n",
        "    else \"mps\"\n",
        "    if torch.backends.mps.is_available()\n",
        "    else \"cpu\"\n",
        ")\n",
        "print(f\"Using {device} device\")"
      ],
      "metadata": {
        "colab": {
          "base_uri": "https://localhost:8080/"
        },
        "id": "VyaQCyd4Mcf5",
        "outputId": "4de6e4a8-7273-4fc2-9b9c-76085b8e52a2"
      },
      "execution_count": null,
      "outputs": [
        {
          "output_type": "stream",
          "name": "stdout",
          "text": [
            "Using cuda device\n"
          ]
        }
      ]
    },
    {
      "cell_type": "code",
      "source": [
        "\n",
        "import torch.nn.functional as F"
      ],
      "metadata": {
        "id": "lMZN90F7XJym"
      },
      "execution_count": null,
      "outputs": []
    },
    {
      "cell_type": "code",
      "source": [
        "class net(nn.Module):\n",
        "    def __init__(self):\n",
        "        super().__init__()\n",
        "        self.fc1 = nn.Linear(28*28,4096)#just a random Neural Network with 6 Hidden Layers\n",
        "        self.fc2 = nn.Linear(4096,512)\n",
        "        self.fc3 = nn.Linear(512,256)\n",
        "        self.fc4 = nn.Linear(256,128)\n",
        "        self.fc5 = nn.Linear(128,32)\n",
        "        self.fc6 = nn.Linear(32,10)\n",
        "\n",
        "    def forward(self,x):\n",
        "        x = x.view(x.size(0), -1)\n",
        "        x = F.relu(self.fc1(x))# using a common Activation Function\n",
        "        x = F.relu(self.fc2(x))\n",
        "        x = F.relu(self.fc3(x))\n",
        "        x = F.relu(self.fc4(x))\n",
        "        x = F.relu(self.fc5(x))\n",
        "        output = F.softmax(self.fc6(x),dim = 1)# doing a softmax at the END\n",
        "        return output\n"
      ],
      "metadata": {
        "id": "u9QH155hM9s_"
      },
      "execution_count": null,
      "outputs": []
    },
    {
      "cell_type": "code",
      "source": [
        "model = net()# loading THe Model"
      ],
      "metadata": {
        "id": "QJi8Is2opArD"
      },
      "execution_count": null,
      "outputs": []
    },
    {
      "cell_type": "markdown",
      "source": [
        "# Loading the Model to CUDA (to Gpu)"
      ],
      "metadata": {
        "id": "QVFFd_8P62xK"
      }
    },
    {
      "cell_type": "code",
      "source": [
        "model.cuda()"
      ],
      "metadata": {
        "colab": {
          "base_uri": "https://localhost:8080/"
        },
        "id": "nAKAOSY4pCX3",
        "outputId": "a900117f-20d1-4d28-b85f-2eb874e0d902"
      },
      "execution_count": null,
      "outputs": [
        {
          "output_type": "execute_result",
          "data": {
            "text/plain": [
              "net(\n",
              "  (fc1): Linear(in_features=784, out_features=4096, bias=True)\n",
              "  (fc2): Linear(in_features=4096, out_features=512, bias=True)\n",
              "  (fc3): Linear(in_features=512, out_features=256, bias=True)\n",
              "  (fc4): Linear(in_features=256, out_features=128, bias=True)\n",
              "  (fc5): Linear(in_features=128, out_features=32, bias=True)\n",
              "  (fc6): Linear(in_features=32, out_features=10, bias=True)\n",
              ")"
            ]
          },
          "metadata": {},
          "execution_count": 53
        }
      ]
    },
    {
      "cell_type": "code",
      "source": [
        "device = torch.device(\"cuda:0\")\n",
        "model.to(device)"
      ],
      "metadata": {
        "colab": {
          "base_uri": "https://localhost:8080/"
        },
        "id": "NApRTTsy08UT",
        "outputId": "bb75f72e-42d1-45e3-8bbd-cd3f0981b6d7"
      },
      "execution_count": null,
      "outputs": [
        {
          "output_type": "execute_result",
          "data": {
            "text/plain": [
              "net(\n",
              "  (fc1): Linear(in_features=784, out_features=4096, bias=True)\n",
              "  (fc2): Linear(in_features=4096, out_features=512, bias=True)\n",
              "  (fc3): Linear(in_features=512, out_features=256, bias=True)\n",
              "  (fc4): Linear(in_features=256, out_features=128, bias=True)\n",
              "  (fc5): Linear(in_features=128, out_features=32, bias=True)\n",
              "  (fc6): Linear(in_features=32, out_features=10, bias=True)\n",
              ")"
            ]
          },
          "metadata": {},
          "execution_count": 54
        }
      ]
    },
    {
      "cell_type": "code",
      "source": [
        "criterion = nn.CrossEntropyLoss()\n",
        "optimizer = torch.optim.SGD(model.parameters(), lr = 0.01)"
      ],
      "metadata": {
        "id": "EHhBXRJVtDvb"
      },
      "execution_count": null,
      "outputs": []
    },
    {
      "cell_type": "markdown",
      "source": [
        "# i know this is totally Random but I trained the model for 50 straight epochs!!"
      ],
      "metadata": {
        "id": "W-6pLUDm73iq"
      }
    },
    {
      "cell_type": "code",
      "source": [
        "epochs = 50  # You can adjust the number of epochs as needed"
      ],
      "metadata": {
        "id": "6ytXWDsPw3QP"
      },
      "execution_count": null,
      "outputs": []
    },
    {
      "cell_type": "code",
      "source": [
        "train_losses = []\n",
        "val_losses = []\n",
        "train_accuracies = []\n",
        "val_accuracies = []# for plotting"
      ],
      "metadata": {
        "id": "4N5dALjuzlgi"
      },
      "execution_count": null,
      "outputs": []
    },
    {
      "cell_type": "markdown",
      "source": [
        "# Training The model"
      ],
      "metadata": {
        "id": "rMKs_tCC6yT5"
      }
    },
    {
      "cell_type": "code",
      "source": [
        "\n",
        "for e in range(epochs):\n",
        "    train_loss = 0.0\n",
        "    val_loss = 0.0\n",
        "    train_correct = 0\n",
        "    train_total = 0\n",
        "    val_correct = 0\n",
        "    val_total = 0\n",
        "    model.train()  # Set the model to training mode\n",
        "\n",
        "    # Training loop\n",
        "    for images, labels in train_dataloader:\n",
        "        images, labels = images.to(device), labels.to(device)\n",
        "        optimizer.zero_grad()\n",
        "        outputs = model(images)\n",
        "        loss = criterion(outputs, labels)\n",
        "        loss.backward()\n",
        "        optimizer.step()\n",
        "        train_loss += loss.item()\n",
        "        _, predicted = torch.max(outputs, 1)\n",
        "        train_total += labels.size(0)\n",
        "        train_correct += (predicted == labels).sum().item()\n",
        "\n",
        "    # Validation loop\n",
        "    model.eval()  # Set the model to evaluation mode\n",
        "    with torch.no_grad():\n",
        "        for val_images, val_labels in val_dataloader:  # Assuming you have a DataLoader named 'val_loader'\n",
        "            val_images, val_labels = val_images.to(device), val_labels.to(device)\n",
        "            val_outputs = model(val_images)\n",
        "            val_loss += criterion(val_outputs, val_labels).item()\n",
        "            _, val_predicted = torch.max(val_outputs, 1)\n",
        "            val_total += val_labels.size(0)\n",
        "            val_correct += (val_predicted == val_labels).sum().item()\n",
        "\n",
        "    # Calculate average losses for this epoch\n",
        "    average_train_loss = train_loss / len(train_dataloader)\n",
        "    average_val_loss = val_loss / len(val_dataloader)\n",
        "    train_accuracy = train_correct / train_total * 100\n",
        "    val_accuracy = val_correct / val_total * 100\n",
        "    average_train_accuracy = train_accuracy / len(train_dataloader)\n",
        "    average_val_accuracy = val_accuracy / len(val_dataloader)\n",
        "\n",
        "    train_losses.append(average_train_loss)\n",
        "    val_losses.append(average_val_loss)\n",
        "    train_accuracies.append(train_accuracy)\n",
        "    val_accuracies.append(val_accuracy)\n",
        "\n",
        "    print(f'Epoch [{e+1}/{epochs}],Train Accuracy: {average_train_accuracy:.4f}, Val Accuracy: {average_val_accuracy:.4f}, Train Loss: {average_train_loss:.4f}, Val Loss: {average_val_loss:.4f}')\n",
        "\n",
        "print(\"Training finished\")"
      ],
      "metadata": {
        "colab": {
          "base_uri": "https://localhost:8080/"
        },
        "id": "lbO3tVnSzPuf",
        "outputId": "d7f175e4-37e0-4d22-feae-bf8273b50499"
      },
      "execution_count": null,
      "outputs": [
        {
          "output_type": "stream",
          "name": "stdout",
          "text": [
            "Epoch [1/50],Train Accuracy: 0.0230, Val Accuracy: 0.2098, Train Loss: 2.3003, Val Loss: 2.3002\n",
            "Epoch [2/50],Train Accuracy: 0.0245, Val Accuracy: 0.2140, Train Loss: 2.2998, Val Loss: 2.2995\n",
            "Epoch [3/50],Train Accuracy: 0.0247, Val Accuracy: 0.2138, Train Loss: 2.2990, Val Loss: 2.2986\n",
            "Epoch [4/50],Train Accuracy: 0.0247, Val Accuracy: 0.2131, Train Loss: 2.2979, Val Loss: 2.2971\n",
            "Epoch [5/50],Train Accuracy: 0.0247, Val Accuracy: 0.2133, Train Loss: 2.2961, Val Loss: 2.2945\n",
            "Epoch [6/50],Train Accuracy: 0.0247, Val Accuracy: 0.2158, Train Loss: 2.2922, Val Loss: 2.2882\n",
            "Epoch [7/50],Train Accuracy: 0.0281, Val Accuracy: 0.2319, Train Loss: 2.2770, Val Loss: 2.2503\n",
            "Epoch [8/50],Train Accuracy: 0.0252, Val Accuracy: 0.2367, Train Loss: 2.2328, Val Loss: 2.2102\n",
            "Epoch [9/50],Train Accuracy: 0.0297, Val Accuracy: 0.3418, Train Loss: 2.1852, Val Loss: 2.1433\n",
            "Epoch [10/50],Train Accuracy: 0.0417, Val Accuracy: 0.3991, Train Loss: 2.1190, Val Loss: 2.0890\n",
            "Epoch [11/50],Train Accuracy: 0.0453, Val Accuracy: 0.4404, Train Loss: 2.0695, Val Loss: 2.0409\n",
            "Epoch [12/50],Train Accuracy: 0.0552, Val Accuracy: 0.5564, Train Loss: 2.0076, Val Loss: 1.9604\n",
            "Epoch [13/50],Train Accuracy: 0.0673, Val Accuracy: 0.6379, Train Loss: 1.9243, Val Loss: 1.8855\n",
            "Epoch [14/50],Train Accuracy: 0.0718, Val Accuracy: 0.6633, Train Loss: 1.8718, Val Loss: 1.8509\n",
            "Epoch [15/50],Train Accuracy: 0.0736, Val Accuracy: 0.6757, Train Loss: 1.8480, Val Loss: 1.8334\n",
            "Epoch [16/50],Train Accuracy: 0.0778, Val Accuracy: 0.7376, Train Loss: 1.8186, Val Loss: 1.7881\n",
            "Epoch [17/50],Train Accuracy: 0.0836, Val Accuracy: 0.7543, Train Loss: 1.7714, Val Loss: 1.7635\n",
            "Epoch [18/50],Train Accuracy: 0.0853, Val Accuracy: 0.7672, Train Loss: 1.7514, Val Loss: 1.7479\n",
            "Epoch [19/50],Train Accuracy: 0.0864, Val Accuracy: 0.7812, Train Loss: 1.7392, Val Loss: 1.7333\n",
            "Epoch [20/50],Train Accuracy: 0.0873, Val Accuracy: 0.7867, Train Loss: 1.7302, Val Loss: 1.7259\n",
            "Epoch [21/50],Train Accuracy: 0.0881, Val Accuracy: 0.7934, Train Loss: 1.7225, Val Loss: 1.7194\n",
            "Epoch [22/50],Train Accuracy: 0.0887, Val Accuracy: 0.7956, Train Loss: 1.7168, Val Loss: 1.7155\n",
            "Epoch [23/50],Train Accuracy: 0.0892, Val Accuracy: 0.8041, Train Loss: 1.7115, Val Loss: 1.7083\n",
            "Epoch [24/50],Train Accuracy: 0.0898, Val Accuracy: 0.8055, Train Loss: 1.7072, Val Loss: 1.7061\n",
            "Epoch [25/50],Train Accuracy: 0.0901, Val Accuracy: 0.8076, Train Loss: 1.7036, Val Loss: 1.7026\n",
            "Epoch [26/50],Train Accuracy: 0.0904, Val Accuracy: 0.8124, Train Loss: 1.7004, Val Loss: 1.6986\n",
            "Epoch [27/50],Train Accuracy: 0.0908, Val Accuracy: 0.8147, Train Loss: 1.6972, Val Loss: 1.6966\n",
            "Epoch [28/50],Train Accuracy: 0.0911, Val Accuracy: 0.8181, Train Loss: 1.6944, Val Loss: 1.6948\n",
            "Epoch [29/50],Train Accuracy: 0.0913, Val Accuracy: 0.8128, Train Loss: 1.6926, Val Loss: 1.6985\n",
            "Epoch [30/50],Train Accuracy: 0.0916, Val Accuracy: 0.8193, Train Loss: 1.6903, Val Loss: 1.6923\n",
            "Epoch [31/50],Train Accuracy: 0.0917, Val Accuracy: 0.8206, Train Loss: 1.6885, Val Loss: 1.6900\n",
            "Epoch [32/50],Train Accuracy: 0.0920, Val Accuracy: 0.8223, Train Loss: 1.6867, Val Loss: 1.6888\n",
            "Epoch [33/50],Train Accuracy: 0.0921, Val Accuracy: 0.8236, Train Loss: 1.6849, Val Loss: 1.6880\n",
            "Epoch [34/50],Train Accuracy: 0.0923, Val Accuracy: 0.8239, Train Loss: 1.6835, Val Loss: 1.6875\n",
            "Epoch [35/50],Train Accuracy: 0.0925, Val Accuracy: 0.8236, Train Loss: 1.6818, Val Loss: 1.6867\n",
            "Epoch [36/50],Train Accuracy: 0.0926, Val Accuracy: 0.8257, Train Loss: 1.6806, Val Loss: 1.6863\n",
            "Epoch [37/50],Train Accuracy: 0.0927, Val Accuracy: 0.8264, Train Loss: 1.6796, Val Loss: 1.6842\n",
            "Epoch [38/50],Train Accuracy: 0.0929, Val Accuracy: 0.8254, Train Loss: 1.6783, Val Loss: 1.6857\n",
            "Epoch [39/50],Train Accuracy: 0.0929, Val Accuracy: 0.8190, Train Loss: 1.6774, Val Loss: 1.6922\n",
            "Epoch [40/50],Train Accuracy: 0.0931, Val Accuracy: 0.8278, Train Loss: 1.6761, Val Loss: 1.6834\n",
            "Epoch [41/50],Train Accuracy: 0.0931, Val Accuracy: 0.8278, Train Loss: 1.6755, Val Loss: 1.6828\n",
            "Epoch [42/50],Train Accuracy: 0.0932, Val Accuracy: 0.8284, Train Loss: 1.6747, Val Loss: 1.6821\n",
            "Epoch [43/50],Train Accuracy: 0.0933, Val Accuracy: 0.8285, Train Loss: 1.6739, Val Loss: 1.6817\n",
            "Epoch [44/50],Train Accuracy: 0.0935, Val Accuracy: 0.8271, Train Loss: 1.6729, Val Loss: 1.6826\n",
            "Epoch [45/50],Train Accuracy: 0.0935, Val Accuracy: 0.8300, Train Loss: 1.6724, Val Loss: 1.6807\n",
            "Epoch [46/50],Train Accuracy: 0.0936, Val Accuracy: 0.8293, Train Loss: 1.6716, Val Loss: 1.6809\n",
            "Epoch [47/50],Train Accuracy: 0.0936, Val Accuracy: 0.8298, Train Loss: 1.6710, Val Loss: 1.6808\n",
            "Epoch [48/50],Train Accuracy: 0.0937, Val Accuracy: 0.8301, Train Loss: 1.6705, Val Loss: 1.6799\n",
            "Epoch [49/50],Train Accuracy: 0.0938, Val Accuracy: 0.8307, Train Loss: 1.6697, Val Loss: 1.6804\n",
            "Epoch [50/50],Train Accuracy: 0.0938, Val Accuracy: 0.8300, Train Loss: 1.6692, Val Loss: 1.6796\n",
            "Training finished\n"
          ]
        }
      ]
    },
    {
      "cell_type": "markdown",
      "source": [
        "# plotting the curves"
      ],
      "metadata": {
        "id": "mqb0CNfH6uPp"
      }
    },
    {
      "cell_type": "code",
      "source": [
        "# Plotting the loss and accuracy curves\n",
        "fig, (ax1, ax2) = plt.subplots(2, 1, figsize=(10, 8))\n",
        "\n",
        "ax1.plot(range(1, epochs+1), train_losses, label='Train Loss')\n",
        "ax1.plot(range(1, epochs+1), val_losses, label='Validation Loss', linestyle='dashed')\n",
        "ax1.set_xlabel('Epoch')\n",
        "ax1.set_ylabel('Loss')\n",
        "ax1.legend()\n",
        "\n",
        "ax2.plot(range(1, epochs+1), train_accuracies, label='Train Accuracy')\n",
        "ax2.plot(range(1, epochs+1), val_accuracies, label='Validation Accuracy', linestyle='dashed')\n",
        "ax2.set_xlabel('Epoch')\n",
        "ax2.set_ylabel('Accuracy (%)')\n",
        "ax2.legend()\n",
        "\n",
        "plt.tight_layout()\n",
        "plt.show()"
      ],
      "metadata": {
        "colab": {
          "base_uri": "https://localhost:8080/",
          "height": 807
        },
        "id": "rOlbwksH0p_i",
        "outputId": "6786fa3d-6972-4444-883a-435999106835"
      },
      "execution_count": null,
      "outputs": [
        {
          "output_type": "display_data",
          "data": {
            "text/plain": [
              "<Figure size 1000x800 with 2 Axes>"
            ],
            "image/png": "[encoded data removed]"
          },
          "metadata": {}
        }
      ]
    },
    {
      "cell_type": "markdown",
      "source": [
        "# Testing The model"
      ],
      "metadata": {
        "id": "0iQ78Hqq6qTu"
      }
    },
    {
      "cell_type": "code",
      "source": [
        "\n",
        "\n",
        "model.eval()  # Set the model to evaluation mode\n",
        "test_loss = 0.0\n",
        "test_correct = 0\n",
        "test_total = 0\n",
        "\n",
        "with torch.no_grad():\n",
        "    for test_images, test_labels in test_dataloader:  # Assuming you have a DataLoader named 'test_loader'\n",
        "        test_images, test_labels = test_images.to(device), test_labels.to(device)\n",
        "        test_outputs = model(test_images)\n",
        "        test_loss += criterion(test_outputs, test_labels).item()\n",
        "        _, test_predicted = torch.max(test_outputs, 1)\n",
        "        test_total += test_labels.size(0)\n",
        "        test_correct += (test_predicted == test_labels).sum().item()\n",
        "\n",
        "average_test_loss = test_loss / len(test_dataloader)\n",
        "test_accuracy = test_correct / test_total * 100\n",
        "\n",
        "print(f'Test Loss: {average_test_loss:.4f}, Test Accuracy: {test_accuracy:.2f}%')\n"
      ],
      "metadata": {
        "colab": {
          "base_uri": "https://localhost:8080/"
        },
        "id": "1gm4Uiqz6P-x",
        "outputId": "1a749f4b-737e-4a17-8774-b02d6a116f3e"
      },
      "execution_count": null,
      "outputs": [
        {
          "output_type": "stream",
          "name": "stdout",
          "text": [
            "Test Loss: 1.6817, Test Accuracy: 77.82%\n"
          ]
        }
      ]
    }
  ]
}